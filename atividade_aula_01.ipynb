{
  "nbformat": 4,
  "nbformat_minor": 0,
  "metadata": {
    "colab": {
      "provenance": [],
      "toc_visible": true,
      "authorship_tag": "ABX9TyMKTyvedSv6wyVv9ueqvhmS",
      "include_colab_link": true
    },
    "kernelspec": {
      "name": "python3",
      "display_name": "Python 3"
    },
    "language_info": {
      "name": "python"
    }
  },
  "cells": [
    {
      "cell_type": "markdown",
      "metadata": {
        "id": "view-in-github",
        "colab_type": "text"
      },
      "source": [
        "<a href=\"https://colab.research.google.com/github/larialbu/curso_machine_learning_senac/blob/main/atividade_aula_01.ipynb\" target=\"_parent\"><img src=\"https://colab.research.google.com/assets/colab-badge.svg\" alt=\"Open In Colab\"/></a>"
      ]
    },
    {
      "cell_type": "markdown",
      "source": [
        "Questão 1\n"
      ],
      "metadata": {
        "id": "8gsZKsw6lzMR"
      }
    },
    {
      "cell_type": "code",
      "source": [
        "a = 3\n",
        "b = 4\n",
        "  soma = a + b\n",
        "  print(\"A soma de a + b é: soma\")\n"
      ],
      "metadata": {
        "colab": {
          "base_uri": "https://localhost:8080/"
        },
        "id": "UxaKGbWYpKLo",
        "outputId": "5b89ce1c-5f22-4af9-f3fc-5f776cd6ca56"
      },
      "execution_count": null,
      "outputs": [
        {
          "output_type": "stream",
          "name": "stdout",
          "text": [
            "A soma de a + b é: soma\n"
          ]
        }
      ]
    },
    {
      "cell_type": "markdown",
      "source": [
        "Questão 2"
      ],
      "metadata": {
        "id": "IwxB0ujpqmbq"
      }
    },
    {
      "cell_type": "code",
      "source": [
        "a = 3\n",
        "b = 4\n",
        "soma = a + b\n",
        "print(\"A soma de a + b é:\", soma)"
      ],
      "metadata": {
        "id": "D3sZsPNWqoy0"
      },
      "execution_count": null,
      "outputs": []
    },
    {
      "cell_type": "markdown",
      "source": [
        "  Questão 3"
      ],
      "metadata": {
        "id": "kJl0is9uq-j2"
      }
    },
    {
      "cell_type": "code",
      "source": [
        "a = 3\n",
        "b = 4\n",
        "soma = a + b\n",
        "print(\"A soma de\", a, \"+\", b, \"é:\", soma)\n"
      ],
      "metadata": {
        "id": "gMxS4s2vrBnU"
      },
      "execution_count": null,
      "outputs": []
    },
    {
      "cell_type": "markdown",
      "source": [
        "Questão 4"
      ],
      "metadata": {
        "id": "h5togM2UrN_N"
      }
    },
    {
      "cell_type": "code",
      "source": [
        "valor1 = \"Digite o primeiro numero: \"\n",
        "valor2 = \"Digite o segundo numero: \"\n",
        "a = input(valor1)\n",
        "b = input(valor2)\n",
        "soma = a + b\n",
        "print(\"A soma de\", a, \"+\", b, \"é:\", soma)\n"
      ],
      "metadata": {
        "id": "2uBKxuqUrQNA"
      },
      "execution_count": null,
      "outputs": []
    },
    {
      "cell_type": "markdown",
      "source": [
        "Questão 5"
      ],
      "metadata": {
        "id": "QOVHGdKysFxy"
      }
    },
    {
      "cell_type": "code",
      "source": [
        "a_str = input(\"Digite o primeiro numero: \")\n",
        "b_str = input(\"Digite o segundo numero: \")\n",
        "a_int = int(a_str) # converte string/texto para inteiro\n",
        "b_int = int(b_str) # converte string/texto para inteiro\n",
        "soma = a_int + b_int\n",
        "print(\"A soma de\", a_int, \"+\", b_int, \"eh igual a\", soma)\n"
      ],
      "metadata": {
        "colab": {
          "base_uri": "https://localhost:8080/"
        },
        "id": "U_TSCBOusHvU",
        "outputId": "aea5ffa9-fb73-4774-a8fc-52a803b47197"
      },
      "execution_count": null,
      "outputs": [
        {
          "output_type": "stream",
          "name": "stdout",
          "text": [
            "Digite o primeiro numero: 6\n",
            "Digite o segundo numero: 6\n",
            "A soma de 6 + 6 eh igual a 12\n"
          ]
        }
      ]
    },
    {
      "cell_type": "markdown",
      "source": [
        "Questão 6"
      ],
      "metadata": {
        "id": "ZNouOpdVsMD6"
      }
    },
    {
      "cell_type": "code",
      "source": [
        "a = int(input(\"Digite o primeiro numero: \"))\n",
        "b = int(input(\"Digite o segundo numero: \"))\n",
        "soma = a + b\n",
        "print(\"A soma de\", a, \"+\", b, \"eh igual a\", soma)"
      ],
      "metadata": {
        "id": "7M95lVh3sRfz"
      },
      "execution_count": null,
      "outputs": []
    }
  ]
}