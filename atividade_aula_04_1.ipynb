{
  "nbformat": 4,
  "nbformat_minor": 0,
  "metadata": {
    "colab": {
      "provenance": [],
      "authorship_tag": "ABX9TyM0V8sQUYRnInSdMl2LNIm9",
      "include_colab_link": true
    },
    "kernelspec": {
      "name": "python3",
      "display_name": "Python 3"
    },
    "language_info": {
      "name": "python"
    }
  },
  "cells": [
    {
      "cell_type": "markdown",
      "metadata": {
        "id": "view-in-github",
        "colab_type": "text"
      },
      "source": [
        "<a href=\"https://colab.research.google.com/github/larialbu/curso_machine_learning_senac/blob/main/atividade_aula_04_1.ipynb\" target=\"_parent\"><img src=\"https://colab.research.google.com/assets/colab-badge.svg\" alt=\"Open In Colab\"/></a>"
      ]
    },
    {
      "cell_type": "markdown",
      "source": [
        "#Exercícios - Aula 04"
      ],
      "metadata": {
        "id": "GiE-O7sAyepz"
      }
    },
    {
      "cell_type": "markdown",
      "source": [
        "#Estruturas de Repetições"
      ],
      "metadata": {
        "id": "Q48xzrloynzX"
      }
    },
    {
      "cell_type": "markdown",
      "source": [
        "##1"
      ],
      "metadata": {
        "id": "shNOR0Mgys0j"
      }
    },
    {
      "cell_type": "code",
      "execution_count": null,
      "metadata": {
        "colab": {
          "base_uri": "https://localhost:8080/"
        },
        "id": "SD19GSZPx4fL",
        "outputId": "30964ac8-c3cd-4e71-f6ad-a2b169f302f6"
      },
      "outputs": [
        {
          "output_type": "stream",
          "name": "stdout",
          "text": [
            "Mora perto da vítima? sim\n",
            "\n",
            "Telefonou para a vítima? sim\n",
            "\n",
            "Devia para a vítima? sim\n",
            "\n",
            "Já trabalhou com a vítima? sim\n",
            "\n",
            "Esteve no local do crime? sim\n",
            "\n",
            "=======================RESULTADO=======================\n",
            "\n",
            "Classificação:  Suspeito Grau 3: Principal Suspeito\n",
            "Pontos:  5\n",
            "\n",
            "=======================================================\n"
          ]
        }
      ],
      "source": [
        "import random\n",
        "\n",
        "lista_perguntas = ['Telefonou para a vítima? ', \n",
        "             'Esteve no local do crime? ',\n",
        "             'Mora perto da vítima? ',\n",
        "             'Devia para a vítima? ',\n",
        "             'Já trabalhou com a vítima? ']\n",
        "\n",
        "#for _ in lista_perguntas:\n",
        "#  num_aleatorio = random.randint(0,4)\n",
        "#  pergunta = lista_perguntas[num_aleatorio]\n",
        "\n",
        "contador = 0\n",
        "for pergunta in random.sample(lista_perguntas,5):\n",
        "  resposta = input(pergunta).lower()\n",
        "  print('')\n",
        " \n",
        "  if resposta == 'sim':\n",
        "    contador+=1\n",
        "\n",
        "if 1 <= contador <= 2:\n",
        "  classificacao = 'Suspeito Grau 1'\n",
        "elif 3 <= contador <= 4:\n",
        "  classificacao = 'Suspeito Grau 2'\n",
        "elif contador >= 5:\n",
        "  classificacao = 'Suspeito Grau 3: Principal Suspeito'\n",
        "else:\n",
        "  classificacao = 'Inocente'\n",
        "\n",
        "print('RESULTADO'.center(55,'='))\n",
        "print('\\nClassificação: ', classificacao)\n",
        "print('Pontos: ', contador, end='\\n\\n')\n",
        "print('='*55)"
      ]
    },
    {
      "cell_type": "markdown",
      "source": [
        "##2"
      ],
      "metadata": {
        "id": "FQ5DS69syvqW"
      }
    },
    {
      "cell_type": "code",
      "source": [
        "\n",
        "lista_comissoes = [200, 300, 400, 500, 600, 700, 800, 900,\n",
        "                1000]\n",
        "\n",
        "print('='*45)\n",
        "print('TABELA DE COMISSOES'.center(45))\n",
        "print('='*45)\n",
        "print('Valor da venda--------------------Total')\n",
        "\n",
        "for i in range(len(lista_comissoes)-1):\n",
        "  intervalo1 = lista_comissoes[i]\n",
        "  intervalo2 = intervalo1 + 99\n",
        "  total1 = intervalo1 + (intervalo1 * 0.09)\n",
        "  total2 = intervalo2 + (intervalo2 * 0.09)\n",
        "  print(f'${intervalo1:.2f} - ${intervalo2:.2f}.......... ${total1:.2f} - ${total2:.2f}')\n",
        "\n",
        "print(f'1000....................... {1000+(1000*0.09)}')"
      ],
      "metadata": {
        "colab": {
          "base_uri": "https://localhost:8080/"
        },
        "id": "joXcAuCfyclN",
        "outputId": "74110970-5558-4b69-e9f9-8331c649ed84"
      },
      "execution_count": null,
      "outputs": [
        {
          "output_type": "stream",
          "name": "stdout",
          "text": [
            "=============================================\n",
            "             TABELA DE COMISSOES             \n",
            "=============================================\n",
            "Valor da venda--------------------Total\n",
            "$200.00 - $299.00.......... $218.00 - $325.91\n",
            "$300.00 - $399.00.......... $327.00 - $434.91\n",
            "$400.00 - $499.00.......... $436.00 - $543.91\n",
            "$500.00 - $599.00.......... $545.00 - $652.91\n",
            "$600.00 - $699.00.......... $654.00 - $761.91\n",
            "$700.00 - $799.00.......... $763.00 - $870.91\n",
            "$800.00 - $899.00.......... $872.00 - $979.91\n",
            "$900.00 - $999.00.......... $981.00 - $1088.91\n",
            "1000....................... 1090.0\n"
          ]
        }
      ]
    },
    {
      "cell_type": "markdown",
      "source": [
        "##3"
      ],
      "metadata": {
        "id": "Wn1a8EdazPbv"
      }
    },
    {
      "cell_type": "code",
      "source": [
        "vetores = []\n",
        "for i in range(0,11):\n",
        "  vetor = input(f'Digite o {i}º vetor: ')\n",
        "  vetores.append(vetor)\n",
        "\n",
        "print(vetores.reverse())"
      ],
      "metadata": {
        "colab": {
          "base_uri": "https://localhost:8080/"
        },
        "id": "Xb0Iii9QzFEa",
        "outputId": "55f29705-a7cc-4c10-d93b-77b207f04553"
      },
      "execution_count": null,
      "outputs": [
        {
          "output_type": "stream",
          "name": "stdout",
          "text": [
            "Digite o 0º vetor: 8\n",
            "Digite o 1º vetor: 8\n",
            "Digite o 2º vetor: 3\n",
            "Digite o 3º vetor: 2\n",
            "Digite o 4º vetor: 2\n",
            "Digite o 5º vetor: 3\n",
            "Digite o 6º vetor: 4\n",
            "Digite o 7º vetor: 5\n",
            "Digite o 8º vetor: 43\n",
            "Digite o 9º vetor: 4\n",
            "Digite o 10º vetor: 4\n",
            "None\n"
          ]
        }
      ]
    },
    {
      "cell_type": "markdown",
      "source": [
        "##4"
      ],
      "metadata": {
        "id": "ejMWQXmEzamM"
      }
    },
    {
      "cell_type": "code",
      "source": [
        "\n",
        "notas_alunos = {}\n",
        "\n",
        "for aluno in range(1,3):\n",
        "  # Define os alunos\n",
        "  notas = []\n",
        "\n",
        "  for semestre in range(1,5):\n",
        "    # Define as notas de cada aluno\n",
        "    n = float(input(f'Digite a nota do aluno {aluno} no {semestre}° semestre: '))\n",
        "    notas.append(n)\n",
        "\n",
        "  notas_alunos[aluno] = notas\n",
        "  print('')\n",
        "\n",
        "\n",
        "qnt_apv = 0\n",
        "for aluno in notas_alunos.keys():\n",
        "  media = sum(notas_alunos[aluno])/len(notas)\n",
        "  if media >= 7:\n",
        "    qnt_apv+=1\n",
        "\n",
        "print('='*20)\n",
        "print(f'Aprovados: {qnt_apv}/10')\n",
        "print('='*20) \n"
      ],
      "metadata": {
        "colab": {
          "base_uri": "https://localhost:8080/"
        },
        "id": "PLCKKCGtzTJw",
        "outputId": "77629d7d-4f16-4fad-aa0f-1eb9918e39c5"
      },
      "execution_count": null,
      "outputs": [
        {
          "output_type": "stream",
          "name": "stdout",
          "text": [
            "Digite a nota do aluno 1 no 1° semestre: 7\n",
            "Digite a nota do aluno 1 no 2° semestre: 7\n",
            "Digite a nota do aluno 1 no 3° semestre: 6\n",
            "Digite a nota do aluno 1 no 4° semestre: 8\n",
            "\n",
            "Digite a nota do aluno 2 no 1° semestre: 2\n",
            "Digite a nota do aluno 2 no 2° semestre: 1\n",
            "Digite a nota do aluno 2 no 3° semestre: 3\n",
            "Digite a nota do aluno 2 no 4° semestre: 4\n",
            "\n",
            "====================\n",
            "Aprovados: 1/10\n",
            "====================\n"
          ]
        }
      ]
    }
  ]
}