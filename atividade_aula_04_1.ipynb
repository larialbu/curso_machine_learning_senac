{
  "nbformat": 4,
  "nbformat_minor": 0,
  "metadata": {
    "colab": {
      "provenance": [],
      "authorship_tag": "ABX9TyOqB0Va4bCPgCr6MPMEfW0T",
      "include_colab_link": true
    },
    "kernelspec": {
      "name": "python3",
      "display_name": "Python 3"
    },
    "language_info": {
      "name": "python"
    }
  },
  "cells": [
    {
      "cell_type": "markdown",
      "metadata": {
        "id": "view-in-github",
        "colab_type": "text"
      },
      "source": [
        "<a href=\"https://colab.research.google.com/github/larialbu/curso_machine_learning_senac/blob/main/atividade_aula_04_1.ipynb\" target=\"_parent\"><img src=\"https://colab.research.google.com/assets/colab-badge.svg\" alt=\"Open In Colab\"/></a>"
      ]
    },
    {
      "cell_type": "markdown",
      "source": [
        "#For, While, Enumerate, Assunto anteriores."
      ],
      "metadata": {
        "id": "TIxLSWkSuqeI"
      }
    },
    {
      "cell_type": "markdown",
      "source": [
        "##1"
      ],
      "metadata": {
        "id": "Q4lvVMomutPV"
      }
    },
    {
      "cell_type": "code",
      "execution_count": null,
      "metadata": {
        "colab": {
          "base_uri": "https://localhost:8080/"
        },
        "id": "-RRfJqu_uIuS",
        "outputId": "15c31100-4636-4895-e967-d510befa4804"
      },
      "outputs": [
        {
          "output_type": "stream",
          "name": "stdout",
          "text": [
            "0 1 2 3 4 5 6 7 8 9 10 11 12 13 14 15 16 17 18 19 20 21 22 23 24 25 26 27 28 29 30 31 32 33 34 35 36 37 38 39 40 41 42 43 44 45 46 47 48 49 50 51 52 53 54 55 56 57 58 59 60 61 62 63 64 65 66 67 68 69 70 71 72 73 74 75 76 77 78 79 80 81 82 83 84 85 86 87 88 89 90 91 92 93 94 95 96 97 98 99 "
          ]
        }
      ],
      "source": [
        "counter = 0\n",
        "while counter < 100:\n",
        "  print(counter, end= ' ')\n",
        "  counter+=1"
      ]
    },
    {
      "cell_type": "markdown",
      "source": [
        "##2"
      ],
      "metadata": {
        "id": "TjBy7UXzuwCf"
      }
    },
    {
      "cell_type": "code",
      "source": [
        "\n",
        "lista = []\n",
        "valor = 4\n",
        "\n",
        "while valor <= 20:\n",
        "  if valor % 2 == 0:\n",
        "    lista.append(valor)\n",
        "  valor+=1\n",
        "\n",
        "print(lista)"
      ],
      "metadata": {
        "colab": {
          "base_uri": "https://localhost:8080/"
        },
        "id": "gzjJ_M8OuhaL",
        "outputId": "4a1bd0cf-8710-486e-a39d-e992bba9f7f6"
      },
      "execution_count": null,
      "outputs": [
        {
          "output_type": "stream",
          "name": "stdout",
          "text": [
            "[4, 6, 8, 10, 12, 14, 16, 18, 20]\n"
          ]
        }
      ]
    },
    {
      "cell_type": "markdown",
      "source": [
        "##3"
      ],
      "metadata": {
        "id": "tLsAh5BHuyIE"
      }
    },
    {
      "cell_type": "code",
      "source": [
        "temperatura = float(input('Qual a temperatura? ')) \n",
        "if temperatura > 30:                               \n",
        "  print('Vista roupas leves.')                     \n",
        "else:                                              \n",
        "  print('Busque seus casacos.')"
      ],
      "metadata": {
        "colab": {
          "base_uri": "https://localhost:8080/"
        },
        "id": "FbKVjiakujy-",
        "outputId": "fe004e76-9216-4346-ab52-ec51d02a0f05"
      },
      "execution_count": null,
      "outputs": [
        {
          "output_type": "stream",
          "name": "stdout",
          "text": [
            "Qual a temperatura? 24\n",
            "Busque seus casacos.\n"
          ]
        }
      ]
    },
    {
      "cell_type": "markdown",
      "source": [
        "##4"
      ],
      "metadata": {
        "id": "45Id5tdXvB8L"
      }
    },
    {
      "cell_type": "code",
      "source": [
        "\n",
        "letra = input('Digite uma letra: ')\n",
        "\n",
        "frase = '''Educação não transforma o mundo. Educação muda \n",
        "pessoas. Pessoas transformam o mundo. (Paulo Freire)'''\n",
        "\n",
        "quantidade = 0\n",
        "for caracter in frase:\n",
        "  if caracter == letra:\n",
        "    quantidade+=1\n",
        "\n",
        "print('Na frase: \"', frase, '\" \\nA letra \"', letra.upper(), '\" aparece', \\\n",
        "      quantidade, 'vezes')"
      ],
      "metadata": {
        "colab": {
          "base_uri": "https://localhost:8080/"
        },
        "id": "yRiRgZGZu70E",
        "outputId": "d5b090c0-f491-40bf-9fd3-1a9d4b2f501c"
      },
      "execution_count": null,
      "outputs": [
        {
          "output_type": "stream",
          "name": "stdout",
          "text": [
            "Digite uma letra: L\n",
            "Na frase: \" Educação não transforma o mundo. Educação muda \n",
            "pessoas. Pessoas transformam o mundo. (Paulo Freire) \" \n",
            "A letra \" L \" aparece 0 vezes\n"
          ]
        }
      ]
    },
    {
      "cell_type": "markdown",
      "source": [
        "##5"
      ],
      "metadata": {
        "id": "2E_qemZGvSgI"
      }
    },
    {
      "cell_type": "code",
      "source": [
        "etra = input('Digite uma letra: ')\n",
        "\n",
        "frase = '''Educação não transforma o mundo. Educação muda \n",
        "pessoas. Pessoas transformam o mundo. (Paulo Freire)'''\n",
        "\n",
        "quantidade = 0\n",
        "for caracter in frase:\n",
        "  if caracter == letra:\n",
        "    quantidade+=1\n",
        "\n",
        "print('Na frase: \"', frase, '\" \\nA letra \"', letra.upper(), '\" aparece', \\\n",
        "      quantidade, 'vezes')"
      ],
      "metadata": {
        "colab": {
          "base_uri": "https://localhost:8080/"
        },
        "id": "FtsbeTrPvC7q",
        "outputId": "d795d4e1-7d62-4fcf-ee34-a1f4651d3962"
      },
      "execution_count": null,
      "outputs": [
        {
          "output_type": "stream",
          "name": "stdout",
          "text": [
            "Digite uma letra: s\n",
            "Na frase: \" Educação não transforma o mundo. Educação muda \n",
            "pessoas. Pessoas transformam o mundo. (Paulo Freire) \" \n",
            "A letra \" L \" aparece 0 vezes\n"
          ]
        }
      ]
    },
    {
      "cell_type": "markdown",
      "source": [
        "##7"
      ],
      "metadata": {
        "id": "P0H5RkEcvezt"
      }
    },
    {
      "cell_type": "code",
      "source": [
        "\n",
        "dict1 = {'a': 1, 'b':2}\n",
        "dict2 = {'c':4, 'd':5}\n",
        "dict3 = {}\n",
        "\n",
        "for indice, chave in enumerate(dict1.keys()):\n",
        "  dict3[chave] = list(dict2.values())[indice]\n",
        "\n",
        "print(dict3)"
      ],
      "metadata": {
        "colab": {
          "base_uri": "https://localhost:8080/"
        },
        "id": "_zrZy_eMvT72",
        "outputId": "4095f2b5-94d4-4b2b-ee18-61af2f62f04d"
      },
      "execution_count": null,
      "outputs": [
        {
          "output_type": "stream",
          "name": "stdout",
          "text": [
            "{'a': 4, 'b': 5}\n"
          ]
        }
      ]
    },
    {
      "cell_type": "markdown",
      "source": [
        "##8"
      ],
      "metadata": {
        "id": "AKxAluRzvhnc"
      }
    },
    {
      "cell_type": "code",
      "source": [
        "for um_valor in range(10):\n",
        "  print(um_valor)"
      ],
      "metadata": {
        "colab": {
          "base_uri": "https://localhost:8080/"
        },
        "id": "fwym_1CpvgqA",
        "outputId": "835ffc7c-417c-4963-a0ee-3de1d450b935"
      },
      "execution_count": null,
      "outputs": [
        {
          "output_type": "stream",
          "name": "stdout",
          "text": [
            "0\n",
            "1\n",
            "2\n",
            "3\n",
            "4\n",
            "5\n",
            "6\n",
            "7\n",
            "8\n",
            "9\n"
          ]
        }
      ]
    },
    {
      "cell_type": "markdown",
      "source": [
        "##9"
      ],
      "metadata": {
        "id": "IxF82G1gvm3A"
      }
    },
    {
      "cell_type": "code",
      "source": [
        "for um_char in 'Venha para a festa':\n",
        "  print(um_char)"
      ],
      "metadata": {
        "id": "Gx-iqZcDvmKK",
        "outputId": "371c4f3b-ab03-43f8-ad29-7d314a2217f9",
        "colab": {
          "base_uri": "https://localhost:8080/"
        }
      },
      "execution_count": null,
      "outputs": [
        {
          "output_type": "stream",
          "name": "stdout",
          "text": [
            "V\n",
            "e\n",
            "n\n",
            "h\n",
            "a\n",
            " \n",
            "p\n",
            "a\n",
            "r\n",
            "a\n",
            " \n",
            "a\n",
            " \n",
            "f\n",
            "e\n",
            "s\n",
            "t\n",
            "a\n"
          ]
        }
      ]
    },
    {
      "cell_type": "code",
      "source": [],
      "metadata": {
        "id": "gNQQgJ9tvp1s"
      },
      "execution_count": null,
      "outputs": []
    }
  ]
}