{
  "nbformat": 4,
  "nbformat_minor": 0,
  "metadata": {
    "colab": {
      "provenance": [],
      "authorship_tag": "ABX9TyOAN+JJYIJQkybKB7lrWtx/",
      "include_colab_link": true
    },
    "kernelspec": {
      "name": "python3",
      "display_name": "Python 3"
    },
    "language_info": {
      "name": "python"
    }
  },
  "cells": [
    {
      "cell_type": "markdown",
      "metadata": {
        "id": "view-in-github",
        "colab_type": "text"
      },
      "source": [
        "<a href=\"https://colab.research.google.com/github/larialbu/curso_machine_learning_senac/blob/main/atividade_aula_05.ipynb\" target=\"_parent\"><img src=\"https://colab.research.google.com/assets/colab-badge.svg\" alt=\"Open In Colab\"/></a>"
      ]
    },
    {
      "cell_type": "markdown",
      "source": [
        "#Exercícios - Aula 05"
      ],
      "metadata": {
        "id": "344QRuGr3rre"
      }
    },
    {
      "cell_type": "markdown",
      "source": [
        "##Estruturas Condicionais"
      ],
      "metadata": {
        "id": "6drhllBv3wfd"
      }
    },
    {
      "cell_type": "code",
      "execution_count": null,
      "metadata": {
        "id": "gfFeIopS3K0k"
      },
      "outputs": [],
      "source": [
        "\n",
        "\n",
        "# Definição da classe Pessoa\n",
        "class Pessoa():\n",
        "  def __init__(self, nome, age):\n",
        "    self.nome = nome\n",
        "    self.age = age\n",
        "\n",
        "  def anoNascimento(self):\n",
        "    return 2022 - self.age"
      ]
    },
    {
      "cell_type": "code",
      "source": [
        "\n",
        "# Armazena pessoas numa lista\n",
        "lista_pessoas = []\n",
        "for i in range(5):\n",
        "  print('='*25)\n",
        "  print('Pessoa %d' %(i+1))\n",
        "  nome = input('Digite o nome: ')\n",
        "  idade = int(input('Digite a idade: '))\n",
        "  print('='*25)\n",
        "\n",
        "  pessoa = Pessoa(nome, idade)\n",
        "  lista_pessoas.append(pessoa)\n",
        "\n",
        "\n",
        "# Mostrando pessoas\n",
        "print('LISTA PESSOAS'.center(25))\n",
        "print('='*25)\n",
        "for pessoa in lista_pessoas:\n",
        "  print('Nome: %s' %(pessoa.nome))\n",
        "  print('Idade: %d' %(pessoa.age))\n",
        "  print('Ano de Nascimento: %d' %(pessoa.anoNascimento()))\n",
        "  print('='*25)\n"
      ],
      "metadata": {
        "id": "xc1sYyU33zmh"
      },
      "execution_count": null,
      "outputs": []
    },
    {
      "cell_type": "markdown",
      "source": [
        "#1"
      ],
      "metadata": {
        "id": "7x2Z7s2b4Enh"
      }
    },
    {
      "cell_type": "code",
      "source": [
        "\n",
        "class Pessoa():\n",
        "  def __init__(self, nome, idade):\n",
        "    self.nome = nome\n",
        "    self.idade = idade\n",
        "\n",
        "\n",
        "class PessoaFisica():\n",
        "  def __init__(self, nome, idade, cpf):\n",
        "    self.nome = nome\n",
        "    self.idade = idade\n",
        "    self.cpf = cpf\n",
        "\n",
        "\n",
        "class PessoaJuridica():\n",
        "  def __init__(self, nome, idade, cnpj):\n",
        "    self.nome = nome\n",
        "    self.idade = idade\n",
        "    self.cnpj = cnpj\n",
        "     "
      ],
      "metadata": {
        "id": "Rj9v6CZ_35Le"
      },
      "execution_count": null,
      "outputs": []
    },
    {
      "cell_type": "markdown",
      "source": [
        "#2"
      ],
      "metadata": {
        "id": "ikeC6fnP4HY4"
      }
    },
    {
      "cell_type": "code",
      "source": [
        "\n",
        "class Pessoa():\n",
        "  def __init__(self, nome, idade):\n",
        "    self.__nome = nome\n",
        "    self.__idade = idade\n",
        "\n",
        "  def apresentacao(self):\n",
        "    print('%s! Bem vindo ao SENAC!' %(self.nome))\n",
        "\n",
        "\n",
        "class PessoaFisica():\n",
        "  def __init__(self, nome, idade, cpf):\n",
        "    self.nome = nome\n",
        "    self.idade = idade\n",
        "    self.cpf = cpf\n",
        "\n",
        "  def apresentacao(self):\n",
        "    print('%s! Bem vindo ao SENAC!' %(self.nome))\n",
        "\n",
        "\n",
        "class PessoaJuridica():\n",
        "  def __init__(self, nome, idade, cnpj):\n",
        "    self.nome = nome\n",
        "    self.idade = idade\n",
        "    self.cnpj = cnpj\n",
        "\n",
        "  def apresentacao(self):\n",
        "    print('%s! Bem vindo ao SENAC!' %(self.nome))"
      ],
      "metadata": {
        "id": "2T00UfTo3-py"
      },
      "execution_count": null,
      "outputs": []
    },
    {
      "cell_type": "markdown",
      "source": [
        "#3"
      ],
      "metadata": {
        "id": "572S4mnK4Ifd"
      }
    },
    {
      "cell_type": "code",
      "source": [
        "\n",
        "class PessoaFisica():\n",
        "  def __init__(self, nome, idade, cpf):\n",
        "    self.nome = nome\n",
        "    self.idade = idade\n",
        "    self.cpf = cpf\n",
        "\n",
        "  def apresentacao(self):\n",
        "    print('%s! Bem vindo ao SENAC!' %(self.nome))\n",
        "\n",
        "  def calculaImpostoDeRenda(self, salario):\n",
        "    taxa = 0.15\n",
        "    ir = salario*taxa\n",
        "    print('O valor do imposto de renda é R$%.2f' %(ir))\n",
        "    return ir\n",
        "\n",
        "\n",
        "class PessoaJuridica():\n",
        "  def __init__(self, nome, idade, cnpj):\n",
        "    self.nome = nome\n",
        "    self.idade = idade\n",
        "    self.cnpj = cnpj\n",
        "\n",
        "  def apresentacao(self):\n",
        "    print('%s! Bem vindo ao SENAC!' %(self.nome))\n",
        "\n",
        "  def calculaImpostoDeRenda(self, salario):\n",
        "    taxa = 0.10\n",
        "    ir = salario*taxa\n",
        "    print('O valor do imposto de renda é R$%.2f' %(ir))\n",
        "    return ir"
      ],
      "metadata": {
        "id": "01jHQRu_4LKZ"
      },
      "execution_count": null,
      "outputs": []
    },
    {
      "cell_type": "markdown",
      "source": [
        "#4"
      ],
      "metadata": {
        "id": "OdLkmSo44Mf0"
      }
    },
    {
      "cell_type": "code",
      "source": [
        "\n",
        "class PessoaFisica():\n",
        "  def __init__(self, nome, idade, cpf):\n",
        "    self.nome = nome\n",
        "    self.idade = idade\n",
        "    self.cpf = cpf\n",
        "\n",
        "  def apresentacao(self):\n",
        "    print('%s! Bem vindo ao SENAC!' %(self.nome))\n",
        "\n",
        "  def calculaImpostoDeRenda(self, *salario):\n",
        "    salario = sum(salario)\n",
        "    taxa = 0.15\n",
        "    ir = salario*taxa\n",
        "    print('O valor do imposto de renda é R$%.2f' %(ir))\n",
        "    return ir\n",
        "\n",
        "\n",
        "class PessoaJuridica():\n",
        "  def __init__(self, nome, idade, cnpj):\n",
        "    self.nome = nome\n",
        "    self.idade = idade\n",
        "    self.cnpj = cnpj\n",
        "\n",
        "  def apresentacao(self):\n",
        "    print('%s! Bem vindo ao SENAC!' %(self.nome))\n",
        "\n",
        "  def calculaImpostoDeRenda(self, *salario):\n",
        "    salario = sum(salario)\n",
        "    taxa = 0.10\n",
        "    ir = salario*taxa\n",
        "    print('O valor do imposto de renda é R$%.2f' %(ir))\n",
        "    return ir"
      ],
      "metadata": {
        "id": "i35mlZ944NOF"
      },
      "execution_count": null,
      "outputs": []
    },
    {
      "cell_type": "markdown",
      "source": [
        "#5"
      ],
      "metadata": {
        "id": "lE8jR_MR4QOx"
      }
    },
    {
      "cell_type": "code",
      "source": [
        "\n",
        "class PessoaFisica(Pessoa):\n",
        "  def __init__(self, nome, idade, cpf):\n",
        "    super().__init__(nome, idade)\n",
        "    self.cpf = cpf\n",
        "\n",
        "  def calculaImpostoDeRenda(self, *salario):\n",
        "    salario = sum(salario)\n",
        "    taxa = 0.15\n",
        "    ir = salario*taxa\n",
        "    print('O valor do imposto de renda é R$%.2f' %(ir))\n",
        "    return ir\n",
        "    \n",
        "\n",
        "class PessoaJuridica(Pessoa):\n",
        "  def __init__(self, nome, idade, cnpj):\n",
        "    super().__init__(nome, idade)\n",
        "    self.cnpj = cnpj\n",
        "\n",
        "  def calculaImpostoDeRenda(self, *salario):\n",
        "    salario = sum(salario)\n",
        "    taxa = 0.10\n",
        "    ir = salario*taxa\n",
        "    print('O valor do imposto de renda é R$%.2f' %(ir))\n",
        "    return ir"
      ],
      "metadata": {
        "id": "6Un6-UNN4QzV"
      },
      "execution_count": null,
      "outputs": []
    },
    {
      "cell_type": "markdown",
      "source": [
        "#6"
      ],
      "metadata": {
        "id": "LR1_OggT4Tku"
      }
    },
    {
      "cell_type": "code",
      "source": [
        "\n",
        "class PessoaJuridica(Pessoa):\n",
        "  def __init__(self, nome, idade, cnpj):\n",
        "    super().__init__(nome, idade)\n",
        "    self.cnpj = cnpj\n",
        "\n",
        "  def calculaImpostoDeRenda(self, *salario, porteDaEmpresa):\n",
        "    salario = sum(salario)\n",
        "    if porteDaEmpresa == 'pequena': taxa = 0.10 \n",
        "    if porteDaEmpresa == 'media': taxa = 0.15\n",
        "    if porteDaEmpresa == 'grande': taxa = 0.20\n",
        "    ir = salario*taxa\n",
        "    print('O valor do imposto de renda é R$%.2f' %(ir))\n",
        "    return ir"
      ],
      "metadata": {
        "id": "Y--6WjMk4UE9"
      },
      "execution_count": null,
      "outputs": []
    },
    {
      "cell_type": "markdown",
      "source": [
        "#7"
      ],
      "metadata": {
        "id": "hNL5bBJr4Wq4"
      }
    },
    {
      "cell_type": "code",
      "source": [
        "\n",
        "nome = input('Digite seu nome: ')\n",
        "idade = int(input('Digite sua idade: '))\n",
        "opcao = int(input('1 - Pessoa Física \\n2 - Pessoa Juridica \\n'))\n",
        "\n",
        "if opcao == 1:\n",
        "  cpf = int(input('Digite o CPF: '))\n",
        "  pessoaF = PessoaFisica(nome, idade, cpf)\n",
        "\n",
        "  salario = input('informe o(s) salário(s): ').split(',')\n",
        "  for i, valor in enumerate(salario):\n",
        "    valor = valor.strip()\n",
        "    valor = int(valor)\n",
        "    salario[i] = valor\n",
        "  pessoaF.calculaImpostoDeRenda(salario)\n",
        "\n",
        "\n",
        "elif opcao == 2: \n",
        "  cnpj = int(input('Digite o CNPJ'))\n",
        "  pessoaJ = PessoaJuridica(nome, idade, cnpj)\n",
        "\n",
        "  receita = input('Infome o(s) valor(es) de receita(s): ').split(',')\n",
        "  porte_empresa = input('Qual é o porte da empresa? ')\n",
        "  for i, valor in enumerate(receita):\n",
        "    valor = valor.strip()\n",
        "    valor = int(valor)\n",
        "    receita[i] = valor\n",
        "  pessoaJ.calculaImpostoDeRenda(receita, porte_empresa)"
      ],
      "metadata": {
        "id": "mfRB-qci4ZSs"
      },
      "execution_count": null,
      "outputs": []
    }
  ]
}