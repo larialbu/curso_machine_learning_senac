{
  "nbformat": 4,
  "nbformat_minor": 0,
  "metadata": {
    "colab": {
      "provenance": [],
      "toc_visible": true,
      "authorship_tag": "ABX9TyMFtOCxZmc3zv8d3Eq+9tZi",
      "include_colab_link": true
    },
    "kernelspec": {
      "name": "python3",
      "display_name": "Python 3"
    },
    "language_info": {
      "name": "python"
    }
  },
  "cells": [
    {
      "cell_type": "markdown",
      "metadata": {
        "id": "view-in-github",
        "colab_type": "text"
      },
      "source": [
        "<a href=\"https://colab.research.google.com/github/larialbu/curso_machine_learning_senac/blob/main/atividade_aula_06.ipynb\" target=\"_parent\"><img src=\"https://colab.research.google.com/assets/colab-badge.svg\" alt=\"Open In Colab\"/></a>"
      ]
    },
    {
      "cell_type": "markdown",
      "source": [
        "#Exercícios - Aula 06"
      ],
      "metadata": {
        "id": "hUh1F7YT_ymQ"
      }
    },
    {
      "cell_type": "markdown",
      "source": [
        "##Numpy"
      ],
      "metadata": {
        "id": "9-g1tQFd_4uN"
      }
    },
    {
      "cell_type": "markdown",
      "source": [
        "##arange()\n",
        "### arange() funciona como o range() do python"
      ],
      "metadata": {
        "id": "md8dx-3p_-mY"
      }
    },
    {
      "cell_type": "code",
      "execution_count": 1,
      "metadata": {
        "id": "aFlD6QxH-IF8"
      },
      "outputs": [],
      "source": [
        "\n",
        "import numpy as np\n"
      ]
    },
    {
      "cell_type": "code",
      "source": [
        "\n",
        "arr1 = np.arange(10)\n",
        "arr1"
      ],
      "metadata": {
        "colab": {
          "base_uri": "https://localhost:8080/"
        },
        "id": "FJ9Zc5KJ_3tt",
        "outputId": "51635a21-568a-4184-ff39-4d213ee09822"
      },
      "execution_count": 2,
      "outputs": [
        {
          "output_type": "execute_result",
          "data": {
            "text/plain": [
              "array([0, 1, 2, 3, 4, 5, 6, 7, 8, 9])"
            ]
          },
          "metadata": {},
          "execution_count": 2
        }
      ]
    },
    {
      "cell_type": "code",
      "source": [
        "\n",
        "arr2 = np.arange(10, 20)\n",
        "arr2"
      ],
      "metadata": {
        "colab": {
          "base_uri": "https://localhost:8080/"
        },
        "id": "rCmd0uIDAB4b",
        "outputId": "10ed9b55-84da-4a9e-da9e-a682e1eee8c0"
      },
      "execution_count": 3,
      "outputs": [
        {
          "output_type": "execute_result",
          "data": {
            "text/plain": [
              "array([10, 11, 12, 13, 14, 15, 16, 17, 18, 19])"
            ]
          },
          "metadata": {},
          "execution_count": 3
        }
      ]
    },
    {
      "cell_type": "code",
      "source": [
        "\n",
        "arr3 = np.arange(10, 20, 2)\n",
        "arr3"
      ],
      "metadata": {
        "colab": {
          "base_uri": "https://localhost:8080/"
        },
        "id": "iLCt_E2lAD0G",
        "outputId": "9a2381b8-2bc4-4ef6-e4e0-fe73aa474d09"
      },
      "execution_count": 4,
      "outputs": [
        {
          "output_type": "execute_result",
          "data": {
            "text/plain": [
              "array([10, 12, 14, 16, 18])"
            ]
          },
          "metadata": {},
          "execution_count": 4
        }
      ]
    },
    {
      "cell_type": "code",
      "source": [
        "\n",
        "arr4 = np.arange(10, 20, 1.4)\n",
        "arr4\n",
        "     "
      ],
      "metadata": {
        "colab": {
          "base_uri": "https://localhost:8080/"
        },
        "id": "6EKxMY7AAGno",
        "outputId": "bb3b0040-1076-425d-d9e3-40265fd1703a"
      },
      "execution_count": 5,
      "outputs": [
        {
          "output_type": "execute_result",
          "data": {
            "text/plain": [
              "array([10. , 11.4, 12.8, 14.2, 15.6, 17. , 18.4, 19.8])"
            ]
          },
          "metadata": {},
          "execution_count": 5
        }
      ]
    },
    {
      "cell_type": "markdown",
      "source": [
        "##linspace()\n",
        "###linspace() recebe o valor inicial, o valor final e a quantidade de elementos numéricos que se quer entre os dois valores."
      ],
      "metadata": {
        "id": "Pc0s_bHxAW0F"
      }
    },
    {
      "cell_type": "code",
      "source": [
        "\n",
        "arr5 = np.linspace(10, 20, 11)\n",
        "display(arr5)\n",
        "len(arr5)"
      ],
      "metadata": {
        "colab": {
          "base_uri": "https://localhost:8080/",
          "height": 53
        },
        "id": "Fc23KtxzAUJc",
        "outputId": "c567c3f5-736b-4ffe-df87-fb3efecb3fb0"
      },
      "execution_count": 6,
      "outputs": [
        {
          "output_type": "display_data",
          "data": {
            "text/plain": [
              "array([10., 11., 12., 13., 14., 15., 16., 17., 18., 19., 20.])"
            ]
          },
          "metadata": {}
        },
        {
          "output_type": "execute_result",
          "data": {
            "text/plain": [
              "11"
            ]
          },
          "metadata": {},
          "execution_count": 6
        }
      ]
    },
    {
      "cell_type": "code",
      "source": [
        "\n",
        "arr6 = np.linspace(10, 20, 101)\n",
        "display(arr6)\n",
        "len(arr6)"
      ],
      "metadata": {
        "colab": {
          "base_uri": "https://localhost:8080/",
          "height": 218
        },
        "id": "J63jP_iOAZ7q",
        "outputId": "ff985a24-1d1e-4b49-e3ba-f4c7fd2020ca"
      },
      "execution_count": 7,
      "outputs": [
        {
          "output_type": "display_data",
          "data": {
            "text/plain": [
              "array([10. , 10.1, 10.2, 10.3, 10.4, 10.5, 10.6, 10.7, 10.8, 10.9, 11. ,\n",
              "       11.1, 11.2, 11.3, 11.4, 11.5, 11.6, 11.7, 11.8, 11.9, 12. , 12.1,\n",
              "       12.2, 12.3, 12.4, 12.5, 12.6, 12.7, 12.8, 12.9, 13. , 13.1, 13.2,\n",
              "       13.3, 13.4, 13.5, 13.6, 13.7, 13.8, 13.9, 14. , 14.1, 14.2, 14.3,\n",
              "       14.4, 14.5, 14.6, 14.7, 14.8, 14.9, 15. , 15.1, 15.2, 15.3, 15.4,\n",
              "       15.5, 15.6, 15.7, 15.8, 15.9, 16. , 16.1, 16.2, 16.3, 16.4, 16.5,\n",
              "       16.6, 16.7, 16.8, 16.9, 17. , 17.1, 17.2, 17.3, 17.4, 17.5, 17.6,\n",
              "       17.7, 17.8, 17.9, 18. , 18.1, 18.2, 18.3, 18.4, 18.5, 18.6, 18.7,\n",
              "       18.8, 18.9, 19. , 19.1, 19.2, 19.3, 19.4, 19.5, 19.6, 19.7, 19.8,\n",
              "       19.9, 20. ])"
            ]
          },
          "metadata": {}
        },
        {
          "output_type": "execute_result",
          "data": {
            "text/plain": [
              "101"
            ]
          },
          "metadata": {},
          "execution_count": 7
        }
      ]
    },
    {
      "cell_type": "code",
      "source": [
        "\n",
        "arr7 = np.linspace(0, np.pi, 100)\n",
        "display(arr7)\n",
        "len(arr7)\n",
        "     "
      ],
      "metadata": {
        "colab": {
          "base_uri": "https://localhost:8080/",
          "height": 400
        },
        "id": "N75-LUTZBTXv",
        "outputId": "275f6b26-5d6e-4e94-f401-dc06701f8569"
      },
      "execution_count": 8,
      "outputs": [
        {
          "output_type": "display_data",
          "data": {
            "text/plain": [
              "array([0.        , 0.03173326, 0.06346652, 0.09519978, 0.12693304,\n",
              "       0.1586663 , 0.19039955, 0.22213281, 0.25386607, 0.28559933,\n",
              "       0.31733259, 0.34906585, 0.38079911, 0.41253237, 0.44426563,\n",
              "       0.47599889, 0.50773215, 0.53946541, 0.57119866, 0.60293192,\n",
              "       0.63466518, 0.66639844, 0.6981317 , 0.72986496, 0.76159822,\n",
              "       0.79333148, 0.82506474, 0.856798  , 0.88853126, 0.92026451,\n",
              "       0.95199777, 0.98373103, 1.01546429, 1.04719755, 1.07893081,\n",
              "       1.11066407, 1.14239733, 1.17413059, 1.20586385, 1.23759711,\n",
              "       1.26933037, 1.30106362, 1.33279688, 1.36453014, 1.3962634 ,\n",
              "       1.42799666, 1.45972992, 1.49146318, 1.52319644, 1.5549297 ,\n",
              "       1.58666296, 1.61839622, 1.65012947, 1.68186273, 1.71359599,\n",
              "       1.74532925, 1.77706251, 1.80879577, 1.84052903, 1.87226229,\n",
              "       1.90399555, 1.93572881, 1.96746207, 1.99919533, 2.03092858,\n",
              "       2.06266184, 2.0943951 , 2.12612836, 2.15786162, 2.18959488,\n",
              "       2.22132814, 2.2530614 , 2.28479466, 2.31652792, 2.34826118,\n",
              "       2.37999443, 2.41172769, 2.44346095, 2.47519421, 2.50692747,\n",
              "       2.53866073, 2.57039399, 2.60212725, 2.63386051, 2.66559377,\n",
              "       2.69732703, 2.72906028, 2.76079354, 2.7925268 , 2.82426006,\n",
              "       2.85599332, 2.88772658, 2.91945984, 2.9511931 , 2.98292636,\n",
              "       3.01465962, 3.04639288, 3.07812614, 3.10985939, 3.14159265])"
            ]
          },
          "metadata": {}
        },
        {
          "output_type": "execute_result",
          "data": {
            "text/plain": [
              "100"
            ]
          },
          "metadata": {},
          "execution_count": 8
        }
      ]
    },
    {
      "cell_type": "markdown",
      "source": [
        "##Matrizes\n",
        "###criando matrizes"
      ],
      "metadata": {
        "id": "84Ebvo-CBX0U"
      }
    },
    {
      "cell_type": "code",
      "source": [
        "\n",
        "minhaMatriz = np.array([[1,2,3],\n",
        "                       [4,5,6]])\n",
        "minhaMatriz"
      ],
      "metadata": {
        "colab": {
          "base_uri": "https://localhost:8080/"
        },
        "id": "LZPTmmrRBVZ_",
        "outputId": "eb7fc32d-7a92-4cbd-eb15-640230d41d8a"
      },
      "execution_count": 9,
      "outputs": [
        {
          "output_type": "execute_result",
          "data": {
            "text/plain": [
              "array([[1, 2, 3],\n",
              "       [4, 5, 6]])"
            ]
          },
          "metadata": {},
          "execution_count": 9
        }
      ]
    },
    {
      "cell_type": "code",
      "source": [
        "\n",
        "minhaMatriz = np.array([[1,2,3],[4,5,6]])\n",
        "minhaMatriz"
      ],
      "metadata": {
        "colab": {
          "base_uri": "https://localhost:8080/"
        },
        "id": "wi9o4BnBBadW",
        "outputId": "4b9f6411-c4d9-4fc9-d4b8-411b2394d19e"
      },
      "execution_count": 10,
      "outputs": [
        {
          "output_type": "execute_result",
          "data": {
            "text/plain": [
              "array([[1, 2, 3],\n",
              "       [4, 5, 6]])"
            ]
          },
          "metadata": {},
          "execution_count": 10
        }
      ]
    },
    {
      "cell_type": "code",
      "source": [
        "\n",
        "minhaLista = [[13,81,22],[0,34,59],[21,48,94]]\n",
        "minhaLista"
      ],
      "metadata": {
        "colab": {
          "base_uri": "https://localhost:8080/"
        },
        "id": "MWB3VKiMCk5f",
        "outputId": "0c7d47fd-c2cb-4528-ae2b-f4d0d590b793"
      },
      "execution_count": 11,
      "outputs": [
        {
          "output_type": "execute_result",
          "data": {
            "text/plain": [
              "[[13, 81, 22], [0, 34, 59], [21, 48, 94]]"
            ]
          },
          "metadata": {},
          "execution_count": 11
        }
      ]
    },
    {
      "cell_type": "code",
      "source": [
        "\n",
        "minhaMatriz = np.matrix(minhaLista)\n",
        "minhaMatriz\n"
      ],
      "metadata": {
        "colab": {
          "base_uri": "https://localhost:8080/"
        },
        "id": "SuRKalB2CmlT",
        "outputId": "c6d32550-6ef5-4886-c531-f55345a1ad9d"
      },
      "execution_count": 12,
      "outputs": [
        {
          "output_type": "execute_result",
          "data": {
            "text/plain": [
              "matrix([[13, 81, 22],\n",
              "        [ 0, 34, 59],\n",
              "        [21, 48, 94]])"
            ]
          },
          "metadata": {},
          "execution_count": 12
        }
      ]
    },
    {
      "cell_type": "markdown",
      "source": [
        "##zeros()\n",
        "###np.zeros() pode formar tanto vetores quanto matrizes preenchidos com o valor 0"
      ],
      "metadata": {
        "id": "pz4PAOWzDG1c"
      }
    },
    {
      "cell_type": "code",
      "source": [
        "# Vetor\n",
        "print(np.zeros(3))"
      ],
      "metadata": {
        "colab": {
          "base_uri": "https://localhost:8080/"
        },
        "id": "qqevz4CRC844",
        "outputId": "0c65356d-1296-43ab-e201-b3e58fe34025"
      },
      "execution_count": 13,
      "outputs": [
        {
          "output_type": "stream",
          "name": "stdout",
          "text": [
            "[0. 0. 0.]\n"
          ]
        }
      ]
    },
    {
      "cell_type": "code",
      "source": [
        "\n",
        "x = np.zeros(3)\n",
        "x"
      ],
      "metadata": {
        "colab": {
          "base_uri": "https://localhost:8080/"
        },
        "id": "qW6bLTauDI4x",
        "outputId": "abe5ea23-0bd7-47b3-d90a-b28139a381f5"
      },
      "execution_count": 14,
      "outputs": [
        {
          "output_type": "execute_result",
          "data": {
            "text/plain": [
              "array([0., 0., 0.])"
            ]
          },
          "metadata": {},
          "execution_count": 14
        }
      ]
    },
    {
      "cell_type": "code",
      "source": [
        "\n",
        "# Matriz\n",
        "print(np.zeros((3,2)))"
      ],
      "metadata": {
        "colab": {
          "base_uri": "https://localhost:8080/"
        },
        "id": "l5CZ6p1NDKmp",
        "outputId": "0194c5f8-f839-40e6-aef4-8b48f510ce8e"
      },
      "execution_count": 15,
      "outputs": [
        {
          "output_type": "stream",
          "name": "stdout",
          "text": [
            "[[0. 0.]\n",
            " [0. 0.]\n",
            " [0. 0.]]\n"
          ]
        }
      ]
    },
    {
      "cell_type": "code",
      "source": [
        "\n",
        "x = np.zeros((3,2))\n",
        "x\n",
        "     "
      ],
      "metadata": {
        "colab": {
          "base_uri": "https://localhost:8080/"
        },
        "id": "RSCGeMUSDMCE",
        "outputId": "3198b96f-42ad-4a90-a063-714c1084c37a"
      },
      "execution_count": 16,
      "outputs": [
        {
          "output_type": "execute_result",
          "data": {
            "text/plain": [
              "array([[0., 0.],\n",
              "       [0., 0.],\n",
              "       [0., 0.]])"
            ]
          },
          "metadata": {},
          "execution_count": 16
        }
      ]
    },
    {
      "cell_type": "markdown",
      "source": [
        "ones()\n",
        "Cria uma matriz ou um vetor e preenche com 1.\n"
      ],
      "metadata": {
        "id": "TN5KrVEfDbiD"
      }
    },
    {
      "cell_type": "code",
      "source": [
        "\n",
        "x = np.ones((5,3))\n",
        "x"
      ],
      "metadata": {
        "colab": {
          "base_uri": "https://localhost:8080/"
        },
        "id": "C9l4yFKNDY3P",
        "outputId": "fd882aee-5187-47a0-8c56-de1707857de0"
      },
      "execution_count": 17,
      "outputs": [
        {
          "output_type": "execute_result",
          "data": {
            "text/plain": [
              "array([[1., 1., 1.],\n",
              "       [1., 1., 1.],\n",
              "       [1., 1., 1.],\n",
              "       [1., 1., 1.],\n",
              "       [1., 1., 1.]])"
            ]
          },
          "metadata": {},
          "execution_count": 17
        }
      ]
    },
    {
      "cell_type": "code",
      "source": [
        "\n",
        "x = np.ones(5)\n",
        "x"
      ],
      "metadata": {
        "colab": {
          "base_uri": "https://localhost:8080/"
        },
        "id": "ywSzjdbpDd1O",
        "outputId": "8c14543f-60aa-4944-d89e-f1ac739b2231"
      },
      "execution_count": 18,
      "outputs": [
        {
          "output_type": "execute_result",
          "data": {
            "text/plain": [
              "array([1., 1., 1., 1., 1.])"
            ]
          },
          "metadata": {},
          "execution_count": 18
        }
      ]
    },
    {
      "cell_type": "markdown",
      "source": [
        "#Desafio 01\n",
        "###Matriz 4x4 com apenas numeros 8."
      ],
      "metadata": {
        "id": "o-YAgngoDi67"
      }
    },
    {
      "cell_type": "code",
      "source": [
        "\n",
        "x = np.ones((4,4))\n",
        "x = x*8\n",
        "x"
      ],
      "metadata": {
        "colab": {
          "base_uri": "https://localhost:8080/"
        },
        "id": "KaNSt5_QDfZr",
        "outputId": "d6030dd0-2db0-4edb-b233-b9416c7d979a"
      },
      "execution_count": 19,
      "outputs": [
        {
          "output_type": "execute_result",
          "data": {
            "text/plain": [
              "array([[8., 8., 8., 8.],\n",
              "       [8., 8., 8., 8.],\n",
              "       [8., 8., 8., 8.],\n",
              "       [8., 8., 8., 8.]])"
            ]
          },
          "metadata": {},
          "execution_count": 19
        }
      ]
    },
    {
      "cell_type": "markdown",
      "source": [
        "##diag()\n",
        "###Os valores passados como parametros informam a diagonal e o restante será preenchido por 0"
      ],
      "metadata": {
        "id": "F4SoEmGREIyJ"
      }
    },
    {
      "cell_type": "code",
      "source": [
        "\n",
        "z = np.diag(np.array([1,2,3,4,5,6]))\n",
        "z"
      ],
      "metadata": {
        "colab": {
          "base_uri": "https://localhost:8080/"
        },
        "id": "IIC5DF_3DlsE",
        "outputId": "79c7b7ea-fc32-40da-ca10-77059c1dfe3b"
      },
      "execution_count": 20,
      "outputs": [
        {
          "output_type": "execute_result",
          "data": {
            "text/plain": [
              "array([[1, 0, 0, 0, 0, 0],\n",
              "       [0, 2, 0, 0, 0, 0],\n",
              "       [0, 0, 3, 0, 0, 0],\n",
              "       [0, 0, 0, 4, 0, 0],\n",
              "       [0, 0, 0, 0, 5, 0],\n",
              "       [0, 0, 0, 0, 0, 6]])"
            ]
          },
          "metadata": {},
          "execution_count": 20
        }
      ]
    },
    {
      "cell_type": "markdown",
      "source": [
        "##eye()\n",
        "###Forma uma matriz identidade da ordem do valor passado como argumento."
      ],
      "metadata": {
        "id": "wpBYiwO1EZ1k"
      }
    },
    {
      "cell_type": "code",
      "source": [
        "\n",
        "y = np.eye(5)\n",
        "y"
      ],
      "metadata": {
        "colab": {
          "base_uri": "https://localhost:8080/"
        },
        "id": "wW9DxwzWEXhZ",
        "outputId": "a4a9bcaa-1d9f-42a7-ade6-6d90f4b5d612"
      },
      "execution_count": 21,
      "outputs": [
        {
          "output_type": "execute_result",
          "data": {
            "text/plain": [
              "array([[1., 0., 0., 0., 0.],\n",
              "       [0., 1., 0., 0., 0.],\n",
              "       [0., 0., 1., 0., 0.],\n",
              "       [0., 0., 0., 1., 0.],\n",
              "       [0., 0., 0., 0., 1.]])"
            ]
          },
          "metadata": {},
          "execution_count": 21
        }
      ]
    },
    {
      "cell_type": "code",
      "source": [
        "# Definindo o tipo\n",
        "y = np.eye(5, dtype= int)\n",
        "y\n",
        "     "
      ],
      "metadata": {
        "colab": {
          "base_uri": "https://localhost:8080/"
        },
        "id": "GjNWpQE6EdT_",
        "outputId": "19aa1024-69d8-4012-ad7b-2229213beed3"
      },
      "execution_count": 22,
      "outputs": [
        {
          "output_type": "execute_result",
          "data": {
            "text/plain": [
              "array([[1, 0, 0, 0, 0],\n",
              "       [0, 1, 0, 0, 0],\n",
              "       [0, 0, 1, 0, 0],\n",
              "       [0, 0, 0, 1, 0],\n",
              "       [0, 0, 0, 0, 1]])"
            ]
          },
          "metadata": {},
          "execution_count": 22
        }
      ]
    },
    {
      "cell_type": "markdown",
      "source": [
        "##shape()\n",
        "###verifica o fomrato da matriz. Existem duas formas:"
      ],
      "metadata": {
        "id": "NLO_unpTEnID"
      }
    },
    {
      "cell_type": "code",
      "source": [
        "np.shape(minhaMatriz)"
      ],
      "metadata": {
        "colab": {
          "base_uri": "https://localhost:8080/"
        },
        "id": "a_6Kxt5SEk98",
        "outputId": "4d0287d3-7b86-4a28-8331-4e7d925f1e75"
      },
      "execution_count": 23,
      "outputs": [
        {
          "output_type": "execute_result",
          "data": {
            "text/plain": [
              "(3, 3)"
            ]
          },
          "metadata": {},
          "execution_count": 23
        }
      ]
    },
    {
      "cell_type": "code",
      "source": [
        "\n",
        "minhaMatriz.shape"
      ],
      "metadata": {
        "colab": {
          "base_uri": "https://localhost:8080/"
        },
        "id": "_D5_hD5AFACo",
        "outputId": "764cab2d-5005-4ebb-cca2-9902806e1055"
      },
      "execution_count": 24,
      "outputs": [
        {
          "output_type": "execute_result",
          "data": {
            "text/plain": [
              "(3, 3)"
            ]
          },
          "metadata": {},
          "execution_count": 24
        }
      ]
    },
    {
      "cell_type": "markdown",
      "source": [],
      "metadata": {
        "id": "N4dx4urnFF3L"
      }
    },
    {
      "cell_type": "markdown",
      "source": [
        "#Utilidades"
      ],
      "metadata": {
        "id": "Ula8Qr5gFE3a"
      }
    },
    {
      "cell_type": "code",
      "source": [
        "\n",
        "# Verifica o tipo da matriz\n",
        "type(minhaMatriz)\n",
        "     "
      ],
      "metadata": {
        "colab": {
          "base_uri": "https://localhost:8080/"
        },
        "id": "blyzNa0vFBXh",
        "outputId": "c6aeef13-63b9-4af9-cb95-729ad75b68ec"
      },
      "execution_count": 26,
      "outputs": [
        {
          "output_type": "execute_result",
          "data": {
            "text/plain": [
              "numpy.matrix"
            ]
          },
          "metadata": {},
          "execution_count": 26
        }
      ]
    },
    {
      "cell_type": "code",
      "source": [
        "\n",
        "# Verifica o tipo dos dados da matriz\n",
        "minhaMatriz.dtype\n",
        "     "
      ],
      "metadata": {
        "colab": {
          "base_uri": "https://localhost:8080/"
        },
        "id": "6BvSURB0FIek",
        "outputId": "c6f6830b-6633-4ec9-f0a1-227a9e8de025"
      },
      "execution_count": 27,
      "outputs": [
        {
          "output_type": "execute_result",
          "data": {
            "text/plain": [
              "dtype('int64')"
            ]
          },
          "metadata": {},
          "execution_count": 27
        }
      ]
    },
    {
      "cell_type": "code",
      "source": [
        "\n",
        "# Selecionando elementos da matriz\n",
        "minhaMatriz[2,1]"
      ],
      "metadata": {
        "colab": {
          "base_uri": "https://localhost:8080/"
        },
        "id": "5NYR07x-FM_l",
        "outputId": "bf5569bf-e407-4a67-b370-410939f6c260"
      },
      "execution_count": 28,
      "outputs": [
        {
          "output_type": "execute_result",
          "data": {
            "text/plain": [
              "48"
            ]
          },
          "metadata": {},
          "execution_count": 28
        }
      ]
    },
    {
      "cell_type": "code",
      "source": [
        "# Selecionando a primeira linha da matriz\n",
        "print(minhaMatriz[0,:])"
      ],
      "metadata": {
        "colab": {
          "base_uri": "https://localhost:8080/"
        },
        "id": "P5FbetBhFViu",
        "outputId": "532bce86-8062-4c33-cb5a-49ec7ca801cd"
      },
      "execution_count": 29,
      "outputs": [
        {
          "output_type": "stream",
          "name": "stdout",
          "text": [
            "[[13 81 22]]\n"
          ]
        }
      ]
    },
    {
      "cell_type": "code",
      "source": [
        "\n",
        "# Selecionando a terceira coluna da matriz\n",
        "print(minhaMatriz[:,2])"
      ],
      "metadata": {
        "colab": {
          "base_uri": "https://localhost:8080/"
        },
        "id": "ZgiZfCwNFYhh",
        "outputId": "47c0688d-41a0-408a-ac6d-a932bf5ad577"
      },
      "execution_count": 30,
      "outputs": [
        {
          "output_type": "stream",
          "name": "stdout",
          "text": [
            "[[22]\n",
            " [59]\n",
            " [94]]\n"
          ]
        }
      ]
    },
    {
      "cell_type": "code",
      "source": [
        "# Alterando um elemento da matriz\n",
        "minhaMatriz[1,0] = 100\n",
        "minhaMatriz"
      ],
      "metadata": {
        "colab": {
          "base_uri": "https://localhost:8080/"
        },
        "id": "C74eN7w3Fa7l",
        "outputId": "ff5c257c-0d65-4e6d-f5b5-2213fafd8cf5"
      },
      "execution_count": 31,
      "outputs": [
        {
          "output_type": "execute_result",
          "data": {
            "text/plain": [
              "matrix([[ 13,  81,  22],\n",
              "        [100,  34,  59],\n",
              "        [ 21,  48,  94]])"
            ]
          },
          "metadata": {},
          "execution_count": 31
        }
      ]
    },
    {
      "cell_type": "markdown",
      "source": [
        "#Operações basicas"
      ],
      "metadata": {
        "id": "ONZWYawGFffJ"
      }
    },
    {
      "cell_type": "code",
      "source": [
        "meuArray = np.arange(1,10)"
      ],
      "metadata": {
        "id": "Nesbim8jFcu6"
      },
      "execution_count": 32,
      "outputs": []
    },
    {
      "cell_type": "code",
      "source": [
        "# Soma dos valores do array\n",
        "np.sum(meuArray)"
      ],
      "metadata": {
        "colab": {
          "base_uri": "https://localhost:8080/"
        },
        "id": "LlgdN38FFiuC",
        "outputId": "3e07f680-33d2-4da2-dc9b-beb574134d7f"
      },
      "execution_count": 33,
      "outputs": [
        {
          "output_type": "execute_result",
          "data": {
            "text/plain": [
              "45"
            ]
          },
          "metadata": {},
          "execution_count": 33
        }
      ]
    },
    {
      "cell_type": "code",
      "source": [
        "# Ibtendo o produto\n",
        "np.prod(meuArray)"
      ],
      "metadata": {
        "colab": {
          "base_uri": "https://localhost:8080/"
        },
        "id": "ZfpElS7uFore",
        "outputId": "827453f0-5080-4ad3-bb5e-c79d84e23d82"
      },
      "execution_count": 34,
      "outputs": [
        {
          "output_type": "execute_result",
          "data": {
            "text/plain": [
              "362880"
            ]
          },
          "metadata": {},
          "execution_count": 34
        }
      ]
    },
    {
      "cell_type": "code",
      "source": [
        "# Soma acumulada\n",
        "np.cumsum(meuArray)\n",
        "     "
      ],
      "metadata": {
        "colab": {
          "base_uri": "https://localhost:8080/"
        },
        "id": "mcv_4y0KFqa1",
        "outputId": "139f52e5-d908-4768-f91e-be24a9b73e65"
      },
      "execution_count": 35,
      "outputs": [
        {
          "output_type": "execute_result",
          "data": {
            "text/plain": [
              "array([ 1,  3,  6, 10, 15, 21, 28, 36, 45])"
            ]
          },
          "metadata": {},
          "execution_count": 35
        }
      ]
    },
    {
      "cell_type": "code",
      "source": [
        "\n",
        "# Valor minimo\n",
        "meuArray.min()"
      ],
      "metadata": {
        "colab": {
          "base_uri": "https://localhost:8080/"
        },
        "id": "QxGL0lcgFscx",
        "outputId": "771c1fb6-757a-4d13-99c8-c00e735146a7"
      },
      "execution_count": 36,
      "outputs": [
        {
          "output_type": "execute_result",
          "data": {
            "text/plain": [
              "1"
            ]
          },
          "metadata": {},
          "execution_count": 36
        }
      ]
    },
    {
      "cell_type": "code",
      "source": [
        "\n",
        "# Valor Maximo\n",
        "meuArray.max()"
      ],
      "metadata": {
        "colab": {
          "base_uri": "https://localhost:8080/"
        },
        "id": "gqQmh235F7ur",
        "outputId": "8eae9f60-954c-418e-b9ec-ecdf4fefba30"
      },
      "execution_count": 37,
      "outputs": [
        {
          "output_type": "execute_result",
          "data": {
            "text/plain": [
              "9"
            ]
          },
          "metadata": {},
          "execution_count": 37
        }
      ]
    },
    {
      "cell_type": "markdown",
      "source": [
        "#Operações estatisticas básicas"
      ],
      "metadata": {
        "id": "Xid99DmvGEth"
      }
    },
    {
      "cell_type": "code",
      "source": [
        "\n",
        "# Obtendo a média\n",
        "np.mean(meuArray)\n",
        "     "
      ],
      "metadata": {
        "colab": {
          "base_uri": "https://localhost:8080/"
        },
        "id": "F0cpEY_yGCGn",
        "outputId": "a1abddc1-8b57-41e4-939b-675c0eb65e25"
      },
      "execution_count": 38,
      "outputs": [
        {
          "output_type": "execute_result",
          "data": {
            "text/plain": [
              "5.0"
            ]
          },
          "metadata": {},
          "execution_count": 38
        }
      ]
    },
    {
      "cell_type": "code",
      "source": [
        "\n",
        "# Obtendo a mediana\n",
        "np.median(meuArray)\n",
        "     "
      ],
      "metadata": {
        "colab": {
          "base_uri": "https://localhost:8080/"
        },
        "id": "Na9zoXIoGIxH",
        "outputId": "812640d3-1cb1-4f04-b5db-234e1e8b0697"
      },
      "execution_count": 39,
      "outputs": [
        {
          "output_type": "execute_result",
          "data": {
            "text/plain": [
              "5.0"
            ]
          },
          "metadata": {},
          "execution_count": 39
        }
      ]
    },
    {
      "cell_type": "code",
      "source": [
        "# Obtendo a variança dos valores\n",
        "np.var(meuArray)\n",
        "     "
      ],
      "metadata": {
        "colab": {
          "base_uri": "https://localhost:8080/"
        },
        "id": "6vT8RBL5GK1K",
        "outputId": "fc40b2c3-a034-4b70-f66d-167347eaba62"
      },
      "execution_count": 40,
      "outputs": [
        {
          "output_type": "execute_result",
          "data": {
            "text/plain": [
              "6.666666666666667"
            ]
          },
          "metadata": {},
          "execution_count": 40
        }
      ]
    },
    {
      "cell_type": "code",
      "source": [
        "\n",
        "# Obtendo o desvio padrão\n",
        "np.std(meuArray)\n",
        "     "
      ],
      "metadata": {
        "colab": {
          "base_uri": "https://localhost:8080/"
        },
        "id": "KIkVZUUuGOAK",
        "outputId": "1879aedf-6f62-44e3-9289-9c18b40c56bc"
      },
      "execution_count": 41,
      "outputs": [
        {
          "output_type": "execute_result",
          "data": {
            "text/plain": [
              "2.581988897471611"
            ]
          },
          "metadata": {},
          "execution_count": 41
        }
      ]
    },
    {
      "cell_type": "markdown",
      "source": [
        "#Desafio 02"
      ],
      "metadata": {
        "id": "QAe1i2mrGyax"
      }
    },
    {
      "cell_type": "code",
      "source": [
        "# Criando o array\n",
        "teste = np.arange(1,10)\n",
        "teste"
      ],
      "metadata": {
        "colab": {
          "base_uri": "https://localhost:8080/"
        },
        "id": "DjF9gZcqGTHU",
        "outputId": "b47b1d98-4d17-4ead-c7e5-8e0af8f907b7"
      },
      "execution_count": 42,
      "outputs": [
        {
          "output_type": "execute_result",
          "data": {
            "text/plain": [
              "array([1, 2, 3, 4, 5, 6, 7, 8, 9])"
            ]
          },
          "metadata": {},
          "execution_count": 42
        }
      ]
    },
    {
      "cell_type": "code",
      "source": [
        "pares = np.where(teste % 2 == 0)\n",
        "for i in pares:\n",
        "  print(teste[i], end= ' ')"
      ],
      "metadata": {
        "colab": {
          "base_uri": "https://localhost:8080/"
        },
        "id": "eF2ebYs3G3-y",
        "outputId": "6877a00d-5ae6-4326-d0a1-e544a021d773"
      },
      "execution_count": 43,
      "outputs": [
        {
          "output_type": "stream",
          "name": "stdout",
          "text": [
            "[2 4 6 8] "
          ]
        }
      ]
    },
    {
      "cell_type": "code",
      "source": [
        "# Varrendo o array para obter os impares:\n",
        "impares = np.where(teste % 2 == 1)\n",
        "for i in impares:\n",
        "  print(teste[i], end= ' ')\n",
        "     "
      ],
      "metadata": {
        "colab": {
          "base_uri": "https://localhost:8080/"
        },
        "id": "0hl4LCyjG51Q",
        "outputId": "1c135da5-e98d-4d77-ee38-eb1b62c4ba15"
      },
      "execution_count": 44,
      "outputs": [
        {
          "output_type": "stream",
          "name": "stdout",
          "text": [
            "[1 3 5 7 9] "
          ]
        }
      ]
    },
    {
      "cell_type": "code",
      "source": [
        "#media, soma, produtos, variancia, desvio padrão\n",
        "print('Média:', np.mean(teste))\n",
        "print('Soma:', np.sum(teste))\n",
        "print('Produto:', np.prod(teste))\n",
        "print('Variancia:', np.var(teste))\n",
        "print('Desvio padrão', np.std(teste))"
      ],
      "metadata": {
        "colab": {
          "base_uri": "https://localhost:8080/"
        },
        "id": "yO4pqvLJG7pF",
        "outputId": "075bf228-2ef5-4d78-9017-2d623423e2de"
      },
      "execution_count": 46,
      "outputs": [
        {
          "output_type": "stream",
          "name": "stdout",
          "text": [
            "Média: 5.0\n",
            "Soma: 45\n",
            "Produto: 362880\n",
            "Variancia: 6.666666666666667\n",
            "Desvio padrão 2.581988897471611\n"
          ]
        }
      ]
    }
  ]
}