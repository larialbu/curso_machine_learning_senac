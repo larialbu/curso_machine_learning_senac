{
  "nbformat": 4,
  "nbformat_minor": 0,
  "metadata": {
    "colab": {
      "provenance": [],
      "toc_visible": true,
      "authorship_tag": "ABX9TyN6mmwSIHigpnbPcv8cRAnG",
      "include_colab_link": true
    },
    "kernelspec": {
      "name": "python3",
      "display_name": "Python 3"
    },
    "language_info": {
      "name": "python"
    }
  },
  "cells": [
    {
      "cell_type": "markdown",
      "metadata": {
        "id": "view-in-github",
        "colab_type": "text"
      },
      "source": [
        "<a href=\"https://colab.research.google.com/github/larialbu/curso_machine_learning_senac/blob/main/aula_02.ipynb\" target=\"_parent\"><img src=\"https://colab.research.google.com/assets/colab-badge.svg\" alt=\"Open In Colab\"/></a>"
      ]
    },
    {
      "cell_type": "code",
      "execution_count": 1,
      "metadata": {
        "colab": {
          "base_uri": "https://localhost:8080/"
        },
        "id": "AMh_BOqwcTMe",
        "outputId": "a49ff7e5-930c-40ec-e63a-9808ffbdba42"
      },
      "outputs": [
        {
          "name": "stdout",
          "output_type": "stream",
          "text": [
            "digite um numero inteiro:4\n",
            "digite outro numero inteiro:6\n"
          ]
        }
      ],
      "source": [
        "valor1 = input('digite um numero inteiro:')\n",
        "valor2 = input('digite outro numero inteiro:')"
      ]
    },
    {
      "cell_type": "code",
      "source": [
        "print(valor1 == valor2)\n",
        "print(valor1 > valor2)\n",
        "print(valor1 < valor2)\n",
        "print(valor1 >= valor2)\n",
        "print(valor1 <= valor2)"
      ],
      "metadata": {
        "colab": {
          "base_uri": "https://localhost:8080/"
        },
        "id": "1HnhFrVQcz3L",
        "outputId": "2eeb7163-66b6-475f-80f0-fbe68c506876"
      },
      "execution_count": 2,
      "outputs": [
        {
          "output_type": "stream",
          "name": "stdout",
          "text": [
            "False\n",
            "False\n",
            "True\n",
            "False\n",
            "True\n"
          ]
        }
      ]
    },
    {
      "cell_type": "code",
      "source": [
        "numero = 10 #and\n",
        "print(numero>0 and numero <10)"
      ],
      "metadata": {
        "colab": {
          "base_uri": "https://localhost:8080/"
        },
        "id": "1p_rQ4m_dKdj",
        "outputId": "e34c12cc-5a42-4d8c-886a-778d18f6a33e"
      },
      "execution_count": 4,
      "outputs": [
        {
          "output_type": "stream",
          "name": "stdout",
          "text": [
            "False\n"
          ]
        }
      ]
    },
    {
      "cell_type": "code",
      "source": [
        "numero = 10\n",
        "print(numero>0 or numero <10)"
      ],
      "metadata": {
        "colab": {
          "base_uri": "https://localhost:8080/"
        },
        "id": "knBmedNWdZOb",
        "outputId": "1f46548e-fb55-460b-e307-3b4359d3b06d"
      },
      "execution_count": 5,
      "outputs": [
        {
          "output_type": "stream",
          "name": "stdout",
          "text": [
            "True\n"
          ]
        }
      ]
    },
    {
      "cell_type": "code",
      "source": [
        "if():\n",
        "  print()\n",
        "else:\n",
        "  print()"
      ],
      "metadata": {
        "id": "BFbahOcOdlGk"
      },
      "execution_count": null,
      "outputs": []
    },
    {
      "cell_type": "markdown",
      "source": [
        "Desafio, avaliar se o numero é par ou impar"
      ],
      "metadata": {
        "id": "e6C55YPueI1b"
      }
    },
    {
      "cell_type": "code",
      "source": [
        "x = int(input('digite um numero para saber se é par ou impar:'))\n",
        "\n",
        "if x  % 2 == 0:\n",
        "  print('esse numero é par')\n",
        "else:\n",
        "  print('esse numero e impar')"
      ],
      "metadata": {
        "colab": {
          "base_uri": "https://localhost:8080/"
        },
        "id": "VlABWtFleKp4",
        "outputId": "78c6fde3-9d8c-4c0c-ddb8-91a3a269bedd"
      },
      "execution_count": 13,
      "outputs": [
        {
          "output_type": "stream",
          "name": "stdout",
          "text": [
            "digite um numero para saber se é par ou impar:5\n",
            "esse numero e impar\n"
          ]
        }
      ]
    },
    {
      "cell_type": "code",
      "source": [
        "cupom = input('digite o cupom:')\n",
        "if (cupom == 'aula1' or cupom == 'aula2'):\n",
        "  print('voce ganhou 10% de desconto')\n",
        "else:\n",
        "  print('cupom invalido')"
      ],
      "metadata": {
        "colab": {
          "base_uri": "https://localhost:8080/"
        },
        "id": "Wliw8bmWheFt",
        "outputId": "77e2222a-9823-4ed2-d130-aa4ce91d326c"
      },
      "execution_count": 19,
      "outputs": [
        {
          "output_type": "stream",
          "name": "stdout",
          "text": [
            "digite o cupom:aula8\n",
            "cupom invalido\n"
          ]
        }
      ]
    },
    {
      "cell_type": "markdown",
      "source": [
        "Desafio 2, se o cupom for aula1 ou aula2 aplicar 15% de desconto se nao aplicar 5%\n"
      ],
      "metadata": {
        "id": "CqOSsIqmikCK"
      }
    },
    {
      "cell_type": "code",
      "source": [
        "cupom = input('digite o cupom:')\n",
        "if (cupom == 'aula1' or cupom == 'aula2'):\n",
        "  print('aplicar 15% de desconto')\n",
        "else:\n",
        "  print('aplicar 5% de desconto')"
      ],
      "metadata": {
        "colab": {
          "base_uri": "https://localhost:8080/"
        },
        "id": "9QtyDCbrjBj5",
        "outputId": "811e35a1-2a96-4a9c-dda2-130f6f7e6176"
      },
      "execution_count": 22,
      "outputs": [
        {
          "output_type": "stream",
          "name": "stdout",
          "text": [
            "digite o cupom:aula5\n",
            "aplicar 5% de desconto\n"
          ]
        }
      ]
    },
    {
      "cell_type": "markdown",
      "source": [
        "Desafio 3, aplicar 3 cupons diferentes 10, 15 e 5%"
      ],
      "metadata": {
        "id": "E5MoMgIWnIoB"
      }
    },
    {
      "cell_type": "code",
      "source": [
        "cupom = input('digite o cupom:')\n",
        "if(cupom == 'aula1'):\n",
        "  print('adicionado o cupom de 15%')\n",
        "elif(cupom == 'aula2'):\n",
        "  print('adicionado o cupom de 10%')\n",
        "else:\n",
        "  print('adicionado cupom de 5%')"
      ],
      "metadata": {
        "colab": {
          "base_uri": "https://localhost:8080/"
        },
        "id": "3yYfsWWonPKd",
        "outputId": "ce35ea39-dfc1-4a1c-884c-c8c3525fa8d2"
      },
      "execution_count": 25,
      "outputs": [
        {
          "output_type": "stream",
          "name": "stdout",
          "text": [
            "digite o cupom:aula3\n",
            "adicionado cupom de 5%\n"
          ]
        }
      ]
    },
    {
      "cell_type": "code",
      "source": [
        "if(1==1): #mensagem no prmeiro nivel\n",
        "  print('mensagem no segundo nivel') #sehundo nivel\n",
        "  if((1==2) == False):\n",
        "    print('mensagem no terceiro nivel') #terceiro nivel"
      ],
      "metadata": {
        "colab": {
          "base_uri": "https://localhost:8080/"
        },
        "id": "Z9_LBgqWou1F",
        "outputId": "14494d24-8f73-45b6-a2bc-f3b5903f622c"
      },
      "execution_count": 26,
      "outputs": [
        {
          "output_type": "stream",
          "name": "stdout",
          "text": [
            "mensagem no segundo nivel\n",
            "mensagem no terceiro nivel\n"
          ]
        }
      ]
    },
    {
      "cell_type": "markdown",
      "source": [],
      "metadata": {
        "id": "rAOCcn2sreU1"
      }
    },
    {
      "cell_type": "markdown",
      "source": [
        "Desafio 4, indetação"
      ],
      "metadata": {
        "id": "5bywqyyxreX2"
      }
    },
    {
      "cell_type": "code",
      "source": [
        "sol = input('esta fazendo sol? ')\n",
        "dinheiro = input('voce tem dinheiro? ')\n",
        "\n",
        "if (sol == 'sim' and dinheiro == 'sim'):\n",
        "  print('praiou!!')\n",
        "else:\n",
        "  print('netflix!!')"
      ],
      "metadata": {
        "colab": {
          "base_uri": "https://localhost:8080/"
        },
        "id": "COQq1qN_riTE",
        "outputId": "89a65412-cb9c-4173-87a1-9c2532938c6e"
      },
      "execution_count": 33,
      "outputs": [
        {
          "output_type": "stream",
          "name": "stdout",
          "text": [
            "esta fazendo sol? sim\n",
            "voce tem dinheiro? sim\n",
            "praiou!!\n"
          ]
        }
      ]
    },
    {
      "cell_type": "code",
      "source": [
        "sol = input('esta fazendo sol? ')\n",
        "dinheiro = input('voce tem dinheiro? ')\n",
        "\n",
        "if (sol == 'sim' or dinheiro == 'sim'):\n",
        "  print('praiou!!')\n",
        "else:\n",
        "  print('netflix!!')"
      ],
      "metadata": {
        "colab": {
          "base_uri": "https://localhost:8080/"
        },
        "id": "CFWcTVxOzWBD",
        "outputId": "72bb3413-100a-4008-a433-eda8c1d635b0"
      },
      "execution_count": 35,
      "outputs": [
        {
          "output_type": "stream",
          "name": "stdout",
          "text": [
            "esta fazendo sol? nao\n",
            "voce tem dinheiro? o\n",
            "netflix!!\n"
          ]
        }
      ]
    },
    {
      "cell_type": "code",
      "source": [
        "sol = input('esta fazendo sol? ')\n",
        "\n",
        "if (sol == 'sim'):\n",
        "  dinheiro = input('voce tem dinheiro? ')\n",
        "  if (dinheiro == 'sim'):\n",
        "    print('praiou!!')\n",
        "  else:\n",
        "    print('va ligar o ventilador!!')\n",
        "else:\n",
        "  print('netflix!!')"
      ],
      "metadata": {
        "colab": {
          "base_uri": "https://localhost:8080/"
        },
        "id": "qM5FoSV9zvVK",
        "outputId": "24108d3b-bb08-478d-a426-719bf058e14b"
      },
      "execution_count": 49,
      "outputs": [
        {
          "output_type": "stream",
          "name": "stdout",
          "text": [
            "esta fazendo sol? ao\n",
            "netflix!!\n"
          ]
        }
      ]
    },
    {
      "cell_type": "code",
      "source": [
        "x=4\n",
        "\n",
        "x>0 and x<5"
      ],
      "metadata": {
        "colab": {
          "base_uri": "https://localhost:8080/"
        },
        "id": "92llruT73agy",
        "outputId": "3e0afdfd-d869-4fed-8130-4008d8def990"
      },
      "execution_count": 52,
      "outputs": [
        {
          "output_type": "execute_result",
          "data": {
            "text/plain": [
              "True"
            ]
          },
          "metadata": {},
          "execution_count": 52
        }
      ]
    },
    {
      "cell_type": "markdown",
      "source": [
        "Desafio 5, Pratica"
      ],
      "metadata": {
        "id": "RH_DUtFJ6C10"
      }
    },
    {
      "cell_type": "code",
      "source": [
        "ano = float (input('digite o ano do carro fabricado:'))\n",
        "preco = float (input('digite o valor do carro: '))\n",
        "if (ano < 1990):\n",
        "  imposto = 1/100 * preco\n",
        "  print(imposto)\n",
        "else:\n",
        "  imposto = 1.5/100 * preco\n",
        "  print(imposto)"
      ],
      "metadata": {
        "colab": {
          "base_uri": "https://localhost:8080/"
        },
        "id": "9nfgjCgq6LvN",
        "outputId": "fdf69dc9-659e-4ff8-caf4-818b17d9a75e"
      },
      "execution_count": 63,
      "outputs": [
        {
          "output_type": "stream",
          "name": "stdout",
          "text": [
            "digite o ano do carro fabricado:1990\n",
            "digite o valor do carro: 6789\n",
            "101.835\n"
          ]
        }
      ]
    },
    {
      "cell_type": "markdown",
      "source": [
        "Questão 6, Pratica"
      ],
      "metadata": {
        "id": "gPXMmZF9-8kE"
      }
    },
    {
      "cell_type": "code",
      "source": [
        "salario = float (input('digite o seu salario:'))\n",
        "cargo = input('digite o seu cargo ou id: ')\n",
        "\n",
        "if (cargo == 'gerente' or 101):\n",
        "  novoSalario = 10/100 * salario + salario\n",
        "  diferenca = novoSalario - salario\n",
        "\n",
        "elif(cargo == 'engenheiro' or 102):\n",
        "  novoSalario = 20/100 * salario + salario\n",
        "  diferenca = novoSalario - salario\n",
        "\n",
        "elif(cargo == 'tecnico' or 103):\n",
        "  novoSalario = 30/100 * salario + salario\n",
        "  diferenca = novoSalario - salario\n",
        "\n",
        "else:\n",
        "  novoSalario = 40/100 * salario + salario\n",
        "  diferenca = novoSalario - salario\n",
        "print('salario :',salario ,'\\n', 'salario atual: ',novoSalario ,'\\n','diferenca: ' ,diferenca)"
      ],
      "metadata": {
        "colab": {
          "base_uri": "https://localhost:8080/"
        },
        "id": "J8DEC3mk_Ab0",
        "outputId": "5d90e0de-dc9b-4960-f3b6-78c604960063"
      },
      "execution_count": 78,
      "outputs": [
        {
          "output_type": "stream",
          "name": "stdout",
          "text": [
            "digite o seu salario:800\n",
            "digite o seu cargo ou id: 102\n",
            "salario : 800.0 \n",
            " salario atual:  880.0 \n",
            " diferenca:  80.0\n"
          ]
        }
      ]
    }
  ]
}