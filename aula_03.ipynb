{
  "nbformat": 4,
  "nbformat_minor": 0,
  "metadata": {
    "colab": {
      "provenance": [],
      "toc_visible": true,
      "authorship_tag": "ABX9TyNRu0diCXCCeBt4uG97aozJ",
      "include_colab_link": true
    },
    "kernelspec": {
      "name": "python3",
      "display_name": "Python 3"
    },
    "language_info": {
      "name": "python"
    }
  },
  "cells": [
    {
      "cell_type": "markdown",
      "metadata": {
        "id": "view-in-github",
        "colab_type": "text"
      },
      "source": [
        "<a href=\"https://colab.research.google.com/github/larialbu/curso_machine_learning_senac/blob/main/aula_03.ipynb\" target=\"_parent\"><img src=\"https://colab.research.google.com/assets/colab-badge.svg\" alt=\"Open In Colab\"/></a>"
      ]
    },
    {
      "cell_type": "markdown",
      "source": [
        "#Estrutura de Dados em Python"
      ],
      "metadata": {
        "id": "jixj5LJ1v7bw"
      }
    },
    {
      "cell_type": "markdown",
      "source": [
        "## Listas"
      ],
      "metadata": {
        "id": "ld0zBvEOwA2w"
      }
    },
    {
      "cell_type": "markdown",
      "source": [
        "##Listas vazias"
      ],
      "metadata": {
        "id": "yY4jOuviwCHH"
      }
    },
    {
      "cell_type": "code",
      "source": [
        "L = []"
      ],
      "metadata": {
        "id": "kPHRE-ebwF1Q"
      },
      "execution_count": null,
      "outputs": []
    },
    {
      "cell_type": "code",
      "source": [
        "L = list() #construtoir de listas"
      ],
      "metadata": {
        "id": "mniZsth_wI-4"
      },
      "execution_count": null,
      "outputs": []
    },
    {
      "cell_type": "markdown",
      "source": [
        "##Listas com 3 elementos"
      ],
      "metadata": {
        "id": "go1v6EjTwRzh"
      }
    },
    {
      "cell_type": "code",
      "source": [
        "dias = [3,1,10]"
      ],
      "metadata": {
        "id": "4l8fgivqwVyI"
      },
      "execution_count": null,
      "outputs": []
    },
    {
      "cell_type": "code",
      "source": [
        "dias[0]"
      ],
      "metadata": {
        "colab": {
          "base_uri": "https://localhost:8080/"
        },
        "id": "wqntYH2ZwZmY",
        "outputId": "91c9ebeb-93d4-4deb-a293-02914407c9fd"
      },
      "execution_count": null,
      "outputs": [
        {
          "output_type": "execute_result",
          "data": {
            "text/plain": [
              "3"
            ]
          },
          "metadata": {},
          "execution_count": 4
        }
      ]
    },
    {
      "cell_type": "markdown",
      "source": [
        "##Clonando listas"
      ],
      "metadata": {
        "id": "wkGbKqx3wiVQ"
      }
    },
    {
      "cell_type": "code",
      "source": [
        "a = [81,82,83]"
      ],
      "metadata": {
        "id": "nbXYN4DNwl0o"
      },
      "execution_count": null,
      "outputs": []
    },
    {
      "cell_type": "code",
      "source": [
        "b = a [:] #criar um cloune com fatia"
      ],
      "metadata": {
        "id": "nAhBEM3SwqgZ"
      },
      "execution_count": null,
      "outputs": []
    },
    {
      "cell_type": "code",
      "source": [
        "print(a ==b)"
      ],
      "metadata": {
        "colab": {
          "base_uri": "https://localhost:8080/"
        },
        "id": "u8rRbiRCwylR",
        "outputId": "4c7c6af5-4283-4c07-b094-27df93845e6b"
      },
      "execution_count": null,
      "outputs": [
        {
          "output_type": "stream",
          "name": "stdout",
          "text": [
            "True\n"
          ]
        }
      ]
    },
    {
      "cell_type": "code",
      "source": [
        "print(a is b)"
      ],
      "metadata": {
        "colab": {
          "base_uri": "https://localhost:8080/"
        },
        "id": "beO8L8Tyw02R",
        "outputId": "1b98b378-d689-4595-9ccf-e1c4a870ba71"
      },
      "execution_count": null,
      "outputs": [
        {
          "output_type": "stream",
          "name": "stdout",
          "text": [
            "False\n"
          ]
        }
      ]
    },
    {
      "cell_type": "code",
      "source": [
        "b[0] = 5"
      ],
      "metadata": {
        "id": "GkfvMxUdw9Uo"
      },
      "execution_count": null,
      "outputs": []
    },
    {
      "cell_type": "code",
      "source": [
        "print(a)"
      ],
      "metadata": {
        "colab": {
          "base_uri": "https://localhost:8080/"
        },
        "id": "cvEnLOhZw_j4",
        "outputId": "dcc18781-e87b-447a-883c-8522346994af"
      },
      "execution_count": null,
      "outputs": [
        {
          "output_type": "stream",
          "name": "stdout",
          "text": [
            "[81, 82, 83]\n"
          ]
        }
      ]
    },
    {
      "cell_type": "code",
      "source": [
        "print(b)"
      ],
      "metadata": {
        "colab": {
          "base_uri": "https://localhost:8080/"
        },
        "id": "eS5fmRrwxBco",
        "outputId": "dbede938-e0cd-4fe8-9570-dc3e1f757078"
      },
      "execution_count": null,
      "outputs": [
        {
          "output_type": "stream",
          "name": "stdout",
          "text": [
            "[5, 82, 83]\n"
          ]
        }
      ]
    },
    {
      "cell_type": "markdown",
      "source": [
        "##Fatiamento de listas"
      ],
      "metadata": {
        "id": "-gD6dtbyxU2Y"
      }
    },
    {
      "cell_type": "code",
      "source": [
        "uma_lista = ['a','b','c','d','e']"
      ],
      "metadata": {
        "id": "R3cKnwxzxWy5"
      },
      "execution_count": null,
      "outputs": []
    },
    {
      "cell_type": "code",
      "source": [
        "print(uma_lista[1:3])"
      ],
      "metadata": {
        "colab": {
          "base_uri": "https://localhost:8080/"
        },
        "id": "BX4Vfiy0x-Hx",
        "outputId": "4fb199e6-9849-4bfe-82c6-efd167a4935c"
      },
      "execution_count": null,
      "outputs": [
        {
          "output_type": "stream",
          "name": "stdout",
          "text": [
            "['b', 'c']\n"
          ]
        }
      ]
    },
    {
      "cell_type": "code",
      "source": [
        "print(uma_lista[:4])"
      ],
      "metadata": {
        "colab": {
          "base_uri": "https://localhost:8080/"
        },
        "id": "XrmUqxVhyKHg",
        "outputId": "8a7aca8c-c2af-4fc9-e2f2-21269bf7423e"
      },
      "execution_count": null,
      "outputs": [
        {
          "output_type": "stream",
          "name": "stdout",
          "text": [
            "['a', 'b', 'c', 'd']\n"
          ]
        }
      ]
    },
    {
      "cell_type": "markdown",
      "source": [
        "###Desafio 1"
      ],
      "metadata": {
        "id": "Z6BXx4hcydmo"
      }
    },
    {
      "cell_type": "code",
      "source": [
        "a=[1,2,3]"
      ],
      "metadata": {
        "id": "VA-gk1dgyfEo"
      },
      "execution_count": null,
      "outputs": []
    },
    {
      "cell_type": "code",
      "source": [
        "b=a[:]"
      ],
      "metadata": {
        "id": "UPiCnObuymGA"
      },
      "execution_count": null,
      "outputs": []
    },
    {
      "cell_type": "code",
      "source": [
        "b[0]=5"
      ],
      "metadata": {
        "id": "I-175Q8tyuWJ"
      },
      "execution_count": null,
      "outputs": []
    },
    {
      "cell_type": "code",
      "source": [
        "print(a[3])"
      ],
      "metadata": {
        "colab": {
          "base_uri": "https://localhost:8080/",
          "height": 165
        },
        "id": "-OlpkmCjyyE5",
        "outputId": "abe0fbb9-d69b-4d3f-d188-dd682cb6840b"
      },
      "execution_count": null,
      "outputs": [
        {
          "output_type": "error",
          "ename": "IndexError",
          "evalue": "ignored",
          "traceback": [
            "\u001b[0;31m---------------------------------------------------------------------------\u001b[0m",
            "\u001b[0;31mIndexError\u001b[0m                                Traceback (most recent call last)",
            "\u001b[0;32m<ipython-input-23-5451d47c444b>\u001b[0m in \u001b[0;36m<module>\u001b[0;34m\u001b[0m\n\u001b[0;32m----> 1\u001b[0;31m \u001b[0mprint\u001b[0m\u001b[0;34m(\u001b[0m\u001b[0ma\u001b[0m\u001b[0;34m[\u001b[0m\u001b[0;36m3\u001b[0m\u001b[0;34m]\u001b[0m\u001b[0;34m)\u001b[0m\u001b[0;34m\u001b[0m\u001b[0;34m\u001b[0m\u001b[0m\n\u001b[0m",
            "\u001b[0;31mIndexError\u001b[0m: list index out of range"
          ]
        }
      ]
    },
    {
      "cell_type": "code",
      "source": [
        "minhaLista = [76,98,2,'oi',True,2,98]"
      ],
      "metadata": {
        "id": "825EDxw9zIYx"
      },
      "execution_count": null,
      "outputs": []
    },
    {
      "cell_type": "code",
      "source": [
        "minhaLista =  [76,98,2,'oi',True,2,98]\n",
        "minhaLista += ['pitomba']\n",
        "minhaLista += [23]\n",
        "minhaLista"
      ],
      "metadata": {
        "colab": {
          "base_uri": "https://localhost:8080/"
        },
        "id": "O3kRh0OGzd0B",
        "outputId": "83b7f879-9362-4a5a-89ed-e8ed56f9726e"
      },
      "execution_count": null,
      "outputs": [
        {
          "output_type": "execute_result",
          "data": {
            "text/plain": [
              "[76, 98, 2, 'oi', True, 2, 98, 'pitomba', 23]"
            ]
          },
          "metadata": {},
          "execution_count": 29
        }
      ]
    },
    {
      "cell_type": "code",
      "source": [
        "minhaLista =  [76,98,2,'oi',True,2,98]\n",
        "minhaLista[2] = 'larissa'\n",
        "minhaLista"
      ],
      "metadata": {
        "colab": {
          "base_uri": "https://localhost:8080/"
        },
        "id": "2qNStwdUz1G_",
        "outputId": "8fcf0ced-d4b2-47b8-f357-f6ccd7ab5844"
      },
      "execution_count": null,
      "outputs": [
        {
          "output_type": "execute_result",
          "data": {
            "text/plain": [
              "[76, 98, 'larissa', 'oi', True, 2, 98]"
            ]
          },
          "metadata": {},
          "execution_count": 33
        }
      ]
    },
    {
      "cell_type": "code",
      "source": [
        "uma_lista = [2,3,5,2]"
      ],
      "metadata": {
        "id": "Rifm8aAo0Jn_"
      },
      "execution_count": null,
      "outputs": []
    },
    {
      "cell_type": "code",
      "source": [
        "uma_lista = uma_lista + ['larissa']"
      ],
      "metadata": {
        "id": "jQlO5XN40N8i"
      },
      "execution_count": null,
      "outputs": []
    },
    {
      "cell_type": "code",
      "source": [
        "print(uma_lista)"
      ],
      "metadata": {
        "colab": {
          "base_uri": "https://localhost:8080/"
        },
        "id": "vzQ5Cn3W0SZY",
        "outputId": "174aff03-fd73-4f63-dafe-ea6817030915"
      },
      "execution_count": null,
      "outputs": [
        {
          "output_type": "stream",
          "name": "stdout",
          "text": [
            "[2, 3, 5, 2, 'larissa']\n"
          ]
        }
      ]
    },
    {
      "cell_type": "markdown",
      "source": [
        "#Tuplas"
      ],
      "metadata": {
        "id": "iZtcOk2D0fCF"
      }
    },
    {
      "cell_type": "markdown",
      "source": [
        "##Craidno tuplas"
      ],
      "metadata": {
        "id": "m4--0pQz0jxp"
      }
    },
    {
      "cell_type": "code",
      "source": [
        "tuplas_numeros = (10,20,30)"
      ],
      "metadata": {
        "id": "sDybQTXI0lzw"
      },
      "execution_count": null,
      "outputs": []
    },
    {
      "cell_type": "code",
      "source": [
        "tuplas_numeros"
      ],
      "metadata": {
        "colab": {
          "base_uri": "https://localhost:8080/"
        },
        "id": "9PZbsRWW0zEf",
        "outputId": "2ab1cf25-8592-4459-d550-c8dcb1859106"
      },
      "execution_count": null,
      "outputs": [
        {
          "output_type": "execute_result",
          "data": {
            "text/plain": [
              "(10, 20, 30)"
            ]
          },
          "metadata": {},
          "execution_count": 47
        }
      ]
    },
    {
      "cell_type": "markdown",
      "source": [
        "##Sem Parenteses"
      ],
      "metadata": {
        "id": "JY9-miRT1U7o"
      }
    },
    {
      "cell_type": "code",
      "source": [
        "tupla_nova = (10,20,30)"
      ],
      "metadata": {
        "id": "mJE04rST3HGZ"
      },
      "execution_count": null,
      "outputs": []
    },
    {
      "cell_type": "code",
      "source": [
        "tupla_nova"
      ],
      "metadata": {
        "colab": {
          "base_uri": "https://localhost:8080/"
        },
        "id": "mY6eM23Y3QXB",
        "outputId": "b7fcc549-8ea3-4c76-a565-038b21834d97"
      },
      "execution_count": null,
      "outputs": [
        {
          "output_type": "execute_result",
          "data": {
            "text/plain": [
              "(10, 20, 30)"
            ]
          },
          "metadata": {},
          "execution_count": 57
        }
      ]
    },
    {
      "cell_type": "markdown",
      "source": [
        "##Elemento único"
      ],
      "metadata": {
        "id": "emKve9Vg3Uoh"
      }
    },
    {
      "cell_type": "code",
      "source": [
        "tupla_elemento = 10,"
      ],
      "metadata": {
        "id": "5QCNlDy73Yla"
      },
      "execution_count": null,
      "outputs": []
    },
    {
      "cell_type": "code",
      "source": [
        "tupla_elemento"
      ],
      "metadata": {
        "colab": {
          "base_uri": "https://localhost:8080/"
        },
        "id": "Rmteb6J03klY",
        "outputId": "ec6237b7-75a1-4773-b8ac-61c9b8da75ac"
      },
      "execution_count": null,
      "outputs": [
        {
          "output_type": "execute_result",
          "data": {
            "text/plain": [
              "(10,)"
            ]
          },
          "metadata": {},
          "execution_count": 59
        }
      ]
    },
    {
      "cell_type": "markdown",
      "source": [
        "##Tupla vazia"
      ],
      "metadata": {
        "id": "aMgwhoeN3nBJ"
      }
    },
    {
      "cell_type": "code",
      "source": [
        "tupla_vazia = ()"
      ],
      "metadata": {
        "id": "9_cNMrkj3qGx"
      },
      "execution_count": null,
      "outputs": []
    },
    {
      "cell_type": "code",
      "source": [
        "tupla_vazia"
      ],
      "metadata": {
        "colab": {
          "base_uri": "https://localhost:8080/"
        },
        "id": "GHQ0QDKC3tt5",
        "outputId": "2f141441-2a8e-4242-dc8b-3823f70fa661"
      },
      "execution_count": null,
      "outputs": [
        {
          "output_type": "execute_result",
          "data": {
            "text/plain": [
              "()"
            ]
          },
          "metadata": {},
          "execution_count": 61
        }
      ]
    },
    {
      "cell_type": "markdown",
      "source": [
        "##Função tuple"
      ],
      "metadata": {
        "id": "bF0xyQ5W3yUg"
      }
    },
    {
      "cell_type": "code",
      "source": [
        "nova_tupla =  tuple('teste')"
      ],
      "metadata": {
        "id": "DFL34fX333iQ"
      },
      "execution_count": null,
      "outputs": []
    },
    {
      "cell_type": "code",
      "source": [
        "nova_tupla"
      ],
      "metadata": {
        "colab": {
          "base_uri": "https://localhost:8080/"
        },
        "id": "y1CTYFHD38ER",
        "outputId": "2123e0c7-60ab-47b8-c60b-636f786abb21"
      },
      "execution_count": null,
      "outputs": [
        {
          "output_type": "execute_result",
          "data": {
            "text/plain": [
              "('t', 'e', 's', 't', 'e')"
            ]
          },
          "metadata": {},
          "execution_count": 63
        }
      ]
    },
    {
      "cell_type": "markdown",
      "source": [
        "##Contando elementos da tuplas"
      ],
      "metadata": {
        "id": "ZQrM_6dt4DAH"
      }
    },
    {
      "cell_type": "code",
      "source": [
        "tupla_nomes = ('larissa','azevedo','marques','cavalcanti', 'albuquerque')"
      ],
      "metadata": {
        "id": "Wu0rtFaa4HVZ"
      },
      "execution_count": null,
      "outputs": []
    },
    {
      "cell_type": "code",
      "source": [
        "tupla_nomes.count('larissa')"
      ],
      "metadata": {
        "colab": {
          "base_uri": "https://localhost:8080/"
        },
        "id": "oX0KJO0O4Uug",
        "outputId": "0e0e8bdc-1bd9-4a34-eb1f-fe4a6795d9e4"
      },
      "execution_count": null,
      "outputs": [
        {
          "output_type": "execute_result",
          "data": {
            "text/plain": [
              "1"
            ]
          },
          "metadata": {},
          "execution_count": 65
        }
      ]
    },
    {
      "cell_type": "code",
      "source": [
        "print(tupla_nomes.count('marques'))"
      ],
      "metadata": {
        "colab": {
          "base_uri": "https://localhost:8080/"
        },
        "id": "5EC1zSra4Y2x",
        "outputId": "c182316c-6cea-4421-a203-9b83919a58af"
      },
      "execution_count": null,
      "outputs": [
        {
          "output_type": "stream",
          "name": "stdout",
          "text": [
            "1\n"
          ]
        }
      ]
    },
    {
      "cell_type": "code",
      "source": [
        "print(tupla_nomes.count('albuquerque'))"
      ],
      "metadata": {
        "colab": {
          "base_uri": "https://localhost:8080/"
        },
        "id": "jnRCwDMy4tII",
        "outputId": "ad72b0f8-1cbe-4091-9d2b-2653a49b15c2"
      },
      "execution_count": null,
      "outputs": [
        {
          "output_type": "stream",
          "name": "stdout",
          "text": [
            "1\n"
          ]
        }
      ]
    },
    {
      "cell_type": "markdown",
      "source": [
        "###Desafio 2"
      ],
      "metadata": {
        "id": "Vc8C57g2xP_R"
      }
    },
    {
      "cell_type": "code",
      "source": [
        "tupla_desafio = (1,2,2,3,3,3,4,5)\n",
        "tupla_desafio.count(4)"
      ],
      "metadata": {
        "colab": {
          "base_uri": "https://localhost:8080/"
        },
        "id": "00D8GRYQxmLp",
        "outputId": "ca8a052c-fdfa-4c45-b4ad-965edbba40a8"
      },
      "execution_count": null,
      "outputs": [
        {
          "output_type": "execute_result",
          "data": {
            "text/plain": [
              "1"
            ]
          },
          "metadata": {},
          "execution_count": 13
        }
      ]
    },
    {
      "cell_type": "markdown",
      "source": [
        "#Dicionario"
      ],
      "metadata": {
        "id": "uIZ3fazQx23Q"
      }
    },
    {
      "cell_type": "markdown",
      "source": [
        "##Criando o dicionario"
      ],
      "metadata": {
        "id": "snWJDiDy4oqf"
      }
    },
    {
      "cell_type": "code",
      "source": [
        "dicio = {'chave':'valor'}"
      ],
      "metadata": {
        "id": "eJ-PFlVJyQRP"
      },
      "execution_count": null,
      "outputs": []
    },
    {
      "cell_type": "code",
      "source": [
        "print(type(dicio))"
      ],
      "metadata": {
        "colab": {
          "base_uri": "https://localhost:8080/"
        },
        "id": "hAOJn6Q9yU-I",
        "outputId": "050b5141-a079-43e7-fb97-482388ab7f65"
      },
      "execution_count": null,
      "outputs": [
        {
          "output_type": "stream",
          "name": "stdout",
          "text": [
            "<class 'dict'>\n"
          ]
        }
      ]
    },
    {
      "cell_type": "code",
      "source": [
        "d={'laranjas':15, 'banana':35,'uva':12}"
      ],
      "metadata": {
        "id": "lYKWn83Dy3S5"
      },
      "execution_count": null,
      "outputs": []
    },
    {
      "cell_type": "code",
      "source": [
        "d['banana']"
      ],
      "metadata": {
        "colab": {
          "base_uri": "https://localhost:8080/"
        },
        "id": "F8fUf9QgzAjR",
        "outputId": "02862666-06a9-43fa-b6ca-c08e7a5eb3f0"
      },
      "execution_count": null,
      "outputs": [
        {
          "output_type": "execute_result",
          "data": {
            "text/plain": [
              "35"
            ]
          },
          "metadata": {},
          "execution_count": 25
        }
      ]
    },
    {
      "cell_type": "code",
      "source": [
        "d['pitomba']=20"
      ],
      "metadata": {
        "id": "mgiL9uQRzRrZ"
      },
      "execution_count": null,
      "outputs": []
    },
    {
      "cell_type": "code",
      "source": [
        "len(d)"
      ],
      "metadata": {
        "colab": {
          "base_uri": "https://localhost:8080/"
        },
        "id": "drHJBbgszVox",
        "outputId": "abf440f6-80cc-475f-ef40-c70aa996d356"
      },
      "execution_count": null,
      "outputs": [
        {
          "output_type": "execute_result",
          "data": {
            "text/plain": [
              "4"
            ]
          },
          "metadata": {},
          "execution_count": 28
        }
      ]
    },
    {
      "cell_type": "code",
      "source": [
        "'pitomba' in d"
      ],
      "metadata": {
        "colab": {
          "base_uri": "https://localhost:8080/"
        },
        "id": "bp9Fb4JIzuoh",
        "outputId": "a7f42d9b-0b3d-4c58-c1b5-cca0298336dd"
      },
      "execution_count": null,
      "outputs": [
        {
          "output_type": "execute_result",
          "data": {
            "text/plain": [
              "True"
            ]
          },
          "metadata": {},
          "execution_count": 30
        }
      ]
    },
    {
      "cell_type": "code",
      "source": [
        "'pears' in d"
      ],
      "metadata": {
        "colab": {
          "base_uri": "https://localhost:8080/"
        },
        "id": "NOqD_u-Y0YO3",
        "outputId": "648ed200-3787-44e1-e9bd-a2be30c5246b"
      },
      "execution_count": null,
      "outputs": [
        {
          "output_type": "execute_result",
          "data": {
            "text/plain": [
              "False"
            ]
          },
          "metadata": {},
          "execution_count": 37
        }
      ]
    },
    {
      "cell_type": "code",
      "source": [
        "del d['laranjas']"
      ],
      "metadata": {
        "id": "GmadtFQB0qui"
      },
      "execution_count": null,
      "outputs": []
    },
    {
      "cell_type": "code",
      "source": [
        "'laranjas' in d"
      ],
      "metadata": {
        "colab": {
          "base_uri": "https://localhost:8080/"
        },
        "id": "3_jsceG10uPZ",
        "outputId": "8c98468f-b2ed-4114-8d8f-69117df85a6d"
      },
      "execution_count": null,
      "outputs": [
        {
          "output_type": "execute_result",
          "data": {
            "text/plain": [
              "False"
            ]
          },
          "metadata": {},
          "execution_count": 39
        }
      ]
    },
    {
      "cell_type": "markdown",
      "source": [
        "#Concatenação e repetição"
      ],
      "metadata": {
        "id": "3egOVGGY1lq_"
      }
    },
    {
      "cell_type": "code",
      "source": [
        "frutas = ['pinha','oiti coró','jaca','tamarindo']"
      ],
      "metadata": {
        "id": "tgvhIcF91q3P"
      },
      "execution_count": null,
      "outputs": []
    },
    {
      "cell_type": "code",
      "source": [
        "print([1,20]+[3,4])"
      ],
      "metadata": {
        "colab": {
          "base_uri": "https://localhost:8080/"
        },
        "id": "T9kFhnt-12XB",
        "outputId": "464a0795-76c0-4237-a7ce-30fb45d71f2c"
      },
      "execution_count": null,
      "outputs": [
        {
          "output_type": "stream",
          "name": "stdout",
          "text": [
            "[1, 20, 3, 4]\n"
          ]
        }
      ]
    },
    {
      "cell_type": "code",
      "source": [
        "print(frutas+[6,7,8,9])"
      ],
      "metadata": {
        "colab": {
          "base_uri": "https://localhost:8080/"
        },
        "id": "AZhUTjbe1_C5",
        "outputId": "2bbb575c-6d76-4adf-f4b6-6173e7fd3956"
      },
      "execution_count": null,
      "outputs": [
        {
          "output_type": "stream",
          "name": "stdout",
          "text": [
            "['pinha', 'oiti coró', 'jaca', 'tamarindo', 6, 7, 8, 9]\n"
          ]
        }
      ]
    },
    {
      "cell_type": "code",
      "source": [
        "print([0]*4)"
      ],
      "metadata": {
        "colab": {
          "base_uri": "https://localhost:8080/"
        },
        "id": "LY4fP6I42Egp",
        "outputId": "f233716d-3efe-44da-9f2d-72272628a563"
      },
      "execution_count": null,
      "outputs": [
        {
          "output_type": "stream",
          "name": "stdout",
          "text": [
            "[0, 0, 0, 0]\n"
          ]
        }
      ]
    },
    {
      "cell_type": "code",
      "source": [
        "print([1,2,['oi','tchau']]*2)"
      ],
      "metadata": {
        "colab": {
          "base_uri": "https://localhost:8080/"
        },
        "id": "OROvD47Q2JSY",
        "outputId": "a2f79414-4fa8-4408-83ef-c634fd5f00a5"
      },
      "execution_count": null,
      "outputs": [
        {
          "output_type": "stream",
          "name": "stdout",
          "text": [
            "[1, 2, ['oi', 'tchau'], 1, 2, ['oi', 'tchau']]\n"
          ]
        }
      ]
    },
    {
      "cell_type": "markdown",
      "source": [
        "#Metodos"
      ],
      "metadata": {
        "id": "R2ueBc6540CH"
      }
    },
    {
      "cell_type": "markdown",
      "source": [
        "##append (listas)"
      ],
      "metadata": {
        "id": "0mUkh35G44MI"
      }
    },
    {
      "cell_type": "code",
      "source": [
        "minha_lista = []"
      ],
      "metadata": {
        "id": "ygxY7_oS41wu"
      },
      "execution_count": null,
      "outputs": []
    },
    {
      "cell_type": "code",
      "source": [
        "minha_lista.append(5)"
      ],
      "metadata": {
        "id": "Y7QGE4zZ4_3I"
      },
      "execution_count": null,
      "outputs": []
    },
    {
      "cell_type": "code",
      "source": [
        "minha_lista.append(84)"
      ],
      "metadata": {
        "id": "its_XZ475D5T"
      },
      "execution_count": null,
      "outputs": []
    },
    {
      "cell_type": "code",
      "source": [
        "minha_lista.append(3)"
      ],
      "metadata": {
        "id": "ToPJsueu5FTQ"
      },
      "execution_count": null,
      "outputs": []
    },
    {
      "cell_type": "code",
      "source": [
        "minha_lista.append(12)"
      ],
      "metadata": {
        "id": "VI7JxhRV5xGB"
      },
      "execution_count": null,
      "outputs": []
    },
    {
      "cell_type": "code",
      "source": [
        "print(minha_lista)"
      ],
      "metadata": {
        "colab": {
          "base_uri": "https://localhost:8080/"
        },
        "id": "eNIf9bCw5Kme",
        "outputId": "eb74e8ad-53a7-4a11-f6bb-3fc31b83563d"
      },
      "execution_count": null,
      "outputs": [
        {
          "output_type": "stream",
          "name": "stdout",
          "text": [
            "[5, 84, 37]\n"
          ]
        }
      ]
    },
    {
      "cell_type": "markdown",
      "source": [
        "##insert"
      ],
      "metadata": {
        "id": "ALPltBW15XqB"
      }
    },
    {
      "cell_type": "code",
      "source": [
        "minha_lista.insert(1,12)"
      ],
      "metadata": {
        "id": "0iHEFfdc5aqm"
      },
      "execution_count": null,
      "outputs": []
    },
    {
      "cell_type": "code",
      "source": [
        "print(minha_lista)"
      ],
      "metadata": {
        "colab": {
          "base_uri": "https://localhost:8080/"
        },
        "id": "riJcU8xP5eN-",
        "outputId": "02fe9cd5-bba2-4ffa-eb6b-a5be905dfba3"
      },
      "execution_count": null,
      "outputs": [
        {
          "output_type": "stream",
          "name": "stdout",
          "text": [
            "[5, 12, 84, 37]\n"
          ]
        }
      ]
    },
    {
      "cell_type": "code",
      "source": [
        "print(minha_lista.count(12))"
      ],
      "metadata": {
        "colab": {
          "base_uri": "https://localhost:8080/"
        },
        "id": "vtdyMSAJ5nSW",
        "outputId": "a349f5b0-17eb-4676-db2e-7010102cf260"
      },
      "execution_count": null,
      "outputs": [
        {
          "output_type": "stream",
          "name": "stdout",
          "text": [
            "2\n"
          ]
        }
      ]
    },
    {
      "cell_type": "code",
      "source": [
        "print(minha_lista.index(3))"
      ],
      "metadata": {
        "colab": {
          "base_uri": "https://localhost:8080/"
        },
        "id": "InEQxj9258ZQ",
        "outputId": "2a6da47f-65c9-4c05-e52b-fb8e82645026"
      },
      "execution_count": null,
      "outputs": [
        {
          "output_type": "stream",
          "name": "stdout",
          "text": [
            "5\n"
          ]
        }
      ]
    },
    {
      "cell_type": "code",
      "source": [
        "print(minha_lista.count(5))"
      ],
      "metadata": {
        "colab": {
          "base_uri": "https://localhost:8080/"
        },
        "id": "3PiOc4qR6JsI",
        "outputId": "7b8a6f20-d158-4bfd-8d1e-b94d27e8d57a"
      },
      "execution_count": null,
      "outputs": [
        {
          "output_type": "stream",
          "name": "stdout",
          "text": [
            "1\n"
          ]
        }
      ]
    },
    {
      "cell_type": "code",
      "source": [
        "minha_lista.reverse()"
      ],
      "metadata": {
        "id": "eODBDP3O6NjQ"
      },
      "execution_count": null,
      "outputs": []
    },
    {
      "cell_type": "code",
      "source": [
        "print(minha_lista)"
      ],
      "metadata": {
        "colab": {
          "base_uri": "https://localhost:8080/"
        },
        "id": "pbcyeGAc6TsA",
        "outputId": "7b0413bb-10dd-4fce-fc4d-a3a598e706d4"
      },
      "execution_count": null,
      "outputs": [
        {
          "output_type": "stream",
          "name": "stdout",
          "text": [
            "[3, 12, 37, 84, 12, 5]\n"
          ]
        }
      ]
    },
    {
      "cell_type": "code",
      "source": [
        "minha_lista.sort()"
      ],
      "metadata": {
        "id": "u64bjg-W6WkQ"
      },
      "execution_count": null,
      "outputs": []
    },
    {
      "cell_type": "code",
      "source": [
        "print(minha_lista)"
      ],
      "metadata": {
        "colab": {
          "base_uri": "https://localhost:8080/"
        },
        "id": "O-WQtJ4x6ep5",
        "outputId": "95944898-3c29-446f-c0b3-623246b9defb"
      },
      "execution_count": null,
      "outputs": [
        {
          "output_type": "stream",
          "name": "stdout",
          "text": [
            "[3, 5, 12, 12, 37, 84]\n"
          ]
        }
      ]
    },
    {
      "cell_type": "code",
      "source": [
        "minha_lista.remove(5)"
      ],
      "metadata": {
        "id": "Z2uvTFWA6fMG"
      },
      "execution_count": null,
      "outputs": []
    },
    {
      "cell_type": "code",
      "source": [
        "print(minha_lista)\n"
      ],
      "metadata": {
        "colab": {
          "base_uri": "https://localhost:8080/"
        },
        "id": "9gJR_WL86kae",
        "outputId": "7fae6c8f-a317-4174-9acb-17b5e312a9cd"
      },
      "execution_count": null,
      "outputs": [
        {
          "output_type": "stream",
          "name": "stdout",
          "text": [
            "[3, 12, 12, 37, 84]\n"
          ]
        }
      ]
    },
    {
      "cell_type": "code",
      "source": [
        "ultimo_item = minha_lista.pop()"
      ],
      "metadata": {
        "id": "xeJlme1n6lYO"
      },
      "execution_count": null,
      "outputs": []
    },
    {
      "cell_type": "code",
      "source": [
        "print(ultimo_item) "
      ],
      "metadata": {
        "colab": {
          "base_uri": "https://localhost:8080/"
        },
        "id": "aK5-rqJU6v4-",
        "outputId": "fa4a07d1-da30-4e6c-e317-de9adb0c9b74"
      },
      "execution_count": null,
      "outputs": [
        {
          "output_type": "execute_result",
          "data": {
            "text/plain": [
              "84"
            ]
          },
          "metadata": {},
          "execution_count": 91
        }
      ]
    },
    {
      "cell_type": "code",
      "source": [
        "print(minha_lista)"
      ],
      "metadata": {
        "colab": {
          "base_uri": "https://localhost:8080/"
        },
        "id": "s0rYXVH-62G9",
        "outputId": "f848abce-7002-4e30-94e4-37c217db90b8"
      },
      "execution_count": null,
      "outputs": [
        {
          "output_type": "execute_result",
          "data": {
            "text/plain": [
              "[3, 12, 12, 37]"
            ]
          },
          "metadata": {},
          "execution_count": 92
        }
      ]
    },
    {
      "cell_type": "markdown",
      "source": [
        "#Atividade classe"
      ],
      "metadata": {
        "id": "0p6at8CO8R3Z"
      }
    },
    {
      "cell_type": "markdown",
      "source": [
        "##01"
      ],
      "metadata": {
        "id": "LnWjNQ9a9oqx"
      }
    },
    {
      "cell_type": "code",
      "source": [
        "palavras= ['codigo','linguagem','web']"
      ],
      "metadata": {
        "id": "GyBmw9JY8VYF"
      },
      "execution_count": null,
      "outputs": []
    },
    {
      "cell_type": "code",
      "source": [
        "numeros= [18,123]"
      ],
      "metadata": {
        "id": "hALr-tcL8diN"
      },
      "execution_count": null,
      "outputs": []
    },
    {
      "cell_type": "code",
      "source": [
        "vazia = []"
      ],
      "metadata": {
        "id": "jq9hCJK68gwt"
      },
      "execution_count": null,
      "outputs": []
    },
    {
      "cell_type": "code",
      "source": [
        "lista_mista = ['oi',2.0,5*2,[10,20]]"
      ],
      "metadata": {
        "id": "u1Lf4sKc8jOl"
      },
      "execution_count": null,
      "outputs": []
    },
    {
      "cell_type": "code",
      "source": [
        "print(numeros)"
      ],
      "metadata": {
        "colab": {
          "base_uri": "https://localhost:8080/"
        },
        "id": "W-GLrmcc8tEV",
        "outputId": "e340822a-ba01-4df3-dba6-0abdf8334fb7"
      },
      "execution_count": null,
      "outputs": [
        {
          "output_type": "stream",
          "name": "stdout",
          "text": [
            "[18, 123]\n"
          ]
        }
      ]
    },
    {
      "cell_type": "code",
      "source": [
        "print(lista_mista)"
      ],
      "metadata": {
        "colab": {
          "base_uri": "https://localhost:8080/"
        },
        "id": "mK3Arg8S8--l",
        "outputId": "f7290e15-4d0c-4968-9bbc-fdd8324191e8"
      },
      "execution_count": null,
      "outputs": [
        {
          "output_type": "stream",
          "name": "stdout",
          "text": [
            "['oi', 2.0, 10, [10, 20]]\n"
          ]
        }
      ]
    },
    {
      "cell_type": "code",
      "source": [
        "nova_lista = [numeros, palavras]"
      ],
      "metadata": {
        "id": "HhlNnGTR9E-d"
      },
      "execution_count": null,
      "outputs": []
    },
    {
      "cell_type": "code",
      "source": [
        "print(nova_lista)"
      ],
      "metadata": {
        "colab": {
          "base_uri": "https://localhost:8080/"
        },
        "id": "A_no8zdl9Lf9",
        "outputId": "211325ea-0ca2-4e7f-dd6c-f2eb48a86fcc"
      },
      "execution_count": null,
      "outputs": [
        {
          "output_type": "stream",
          "name": "stdout",
          "text": [
            "[[18, 123], ['codigo', 'linguagem', 'web']]\n"
          ]
        }
      ]
    },
    {
      "cell_type": "markdown",
      "source": [
        "##02"
      ],
      "metadata": {
        "id": "OphwEtah9rRQ"
      }
    },
    {
      "cell_type": "code",
      "source": [
        "uma_lista = ['oi',2.0,5*2,[10,20]]"
      ],
      "metadata": {
        "id": "aVGvjJQL9slN"
      },
      "execution_count": null,
      "outputs": []
    },
    {
      "cell_type": "code",
      "source": [
        "print(len(uma_lista))"
      ],
      "metadata": {
        "colab": {
          "base_uri": "https://localhost:8080/"
        },
        "id": "MtoCvgHC90sd",
        "outputId": "fe0cc7f6-8578-4565-99b8-32df5cdafcf2"
      },
      "execution_count": null,
      "outputs": [
        {
          "output_type": "stream",
          "name": "stdout",
          "text": [
            "4\n"
          ]
        }
      ]
    },
    {
      "cell_type": "code",
      "source": [
        "print(len(['spam!',1,['bolo','bolacha','biscoito'],[1,2,3]]))"
      ],
      "metadata": {
        "colab": {
          "base_uri": "https://localhost:8080/"
        },
        "id": "eq6gSzUY96qc",
        "outputId": "0822ccff-15bf-4bef-aa79-c61f78fe4bfb"
      },
      "execution_count": null,
      "outputs": [
        {
          "output_type": "stream",
          "name": "stdout",
          "text": [
            "4\n"
          ]
        }
      ]
    },
    {
      "cell_type": "markdown",
      "source": [
        "#Strings em python"
      ],
      "metadata": {
        "id": "mp6uHbCwFZLV"
      }
    },
    {
      "cell_type": "markdown",
      "source": [
        "##acessando caracter"
      ],
      "metadata": {
        "id": "jtwlvfEGFgpW"
      }
    },
    {
      "cell_type": "code",
      "source": [
        "s = 'python'"
      ],
      "metadata": {
        "id": "6aiOJbwIFdk7"
      },
      "execution_count": null,
      "outputs": []
    },
    {
      "cell_type": "code",
      "source": [
        "s[0]"
      ],
      "metadata": {
        "colab": {
          "base_uri": "https://localhost:8080/",
          "height": 36
        },
        "id": "9aET3kWgFmL-",
        "outputId": "5ab13725-cec6-46f3-a2df-51d311eb5369"
      },
      "execution_count": null,
      "outputs": [
        {
          "output_type": "execute_result",
          "data": {
            "text/plain": [
              "'p'"
            ],
            "application/vnd.google.colaboratory.intrinsic+json": {
              "type": "string"
            }
          },
          "metadata": {},
          "execution_count": 109
        }
      ]
    },
    {
      "cell_type": "code",
      "source": [
        "s[1]"
      ],
      "metadata": {
        "colab": {
          "base_uri": "https://localhost:8080/",
          "height": 36
        },
        "id": "5EyHaU2oFo-Y",
        "outputId": "3171ed1a-91b9-4081-a67f-e22cc9578c2e"
      },
      "execution_count": null,
      "outputs": [
        {
          "output_type": "execute_result",
          "data": {
            "text/plain": [
              "'y'"
            ],
            "application/vnd.google.colaboratory.intrinsic+json": {
              "type": "string"
            }
          },
          "metadata": {},
          "execution_count": 110
        }
      ]
    },
    {
      "cell_type": "code",
      "source": [
        "s = 'python'"
      ],
      "metadata": {
        "id": "u3Y9RWojFqNQ"
      },
      "execution_count": null,
      "outputs": []
    },
    {
      "cell_type": "code",
      "source": [
        "s[len(s)-1]"
      ],
      "metadata": {
        "colab": {
          "base_uri": "https://localhost:8080/",
          "height": 36
        },
        "id": "BJroa_k3Fu1o",
        "outputId": "3830d38c-2216-4ba3-d24e-aa6f8904413a"
      },
      "execution_count": null,
      "outputs": [
        {
          "output_type": "execute_result",
          "data": {
            "text/plain": [
              "'n'"
            ],
            "application/vnd.google.colaboratory.intrinsic+json": {
              "type": "string"
            }
          },
          "metadata": {},
          "execution_count": 113
        }
      ]
    },
    {
      "cell_type": "markdown",
      "source": [
        "###acessando da direita para esquerda"
      ],
      "metadata": {
        "id": "ZT_WvmNAGPh7"
      }
    },
    {
      "cell_type": "code",
      "source": [
        "s[-1]"
      ],
      "metadata": {
        "colab": {
          "base_uri": "https://localhost:8080/",
          "height": 36
        },
        "id": "xKBOEFgLGGKr",
        "outputId": "a0a63587-8b6d-4aa9-9181-1d2b7fcb5b24"
      },
      "execution_count": null,
      "outputs": [
        {
          "output_type": "execute_result",
          "data": {
            "text/plain": [
              "'n'"
            ],
            "application/vnd.google.colaboratory.intrinsic+json": {
              "type": "string"
            }
          },
          "metadata": {},
          "execution_count": 114
        }
      ]
    },
    {
      "cell_type": "markdown",
      "source": [
        "###acessando da esquerda para direita"
      ],
      "metadata": {
        "id": "SQhovhBZGV8z"
      }
    },
    {
      "cell_type": "code",
      "source": [
        "s[1]"
      ],
      "metadata": {
        "colab": {
          "base_uri": "https://localhost:8080/",
          "height": 36
        },
        "id": "XFbMINTlGKJD",
        "outputId": "b375e0f6-5901-4323-8af8-88f6003a5b33"
      },
      "execution_count": null,
      "outputs": [
        {
          "output_type": "execute_result",
          "data": {
            "text/plain": [
              "'y'"
            ],
            "application/vnd.google.colaboratory.intrinsic+json": {
              "type": "string"
            }
          },
          "metadata": {},
          "execution_count": 115
        }
      ]
    },
    {
      "cell_type": "markdown",
      "source": [
        "##Fatiamento"
      ],
      "metadata": {
        "id": "bnscC_bgG6ue"
      }
    },
    {
      "cell_type": "markdown",
      "source": [
        "start, end, stap\n",
        "comeco, final e pulos"
      ],
      "metadata": {
        "id": "1JAwvRDTJEMg"
      }
    },
    {
      "cell_type": "code",
      "source": [
        "s= \"ABCDEFGG\""
      ],
      "metadata": {
        "id": "c7Qx8NLTG9wj"
      },
      "execution_count": null,
      "outputs": []
    },
    {
      "cell_type": "code",
      "source": [
        "s[0:2]"
      ],
      "metadata": {
        "colab": {
          "base_uri": "https://localhost:8080/",
          "height": 36
        },
        "id": "v3-usFXyHLZ7",
        "outputId": "feeb3ecc-0f6d-4cac-9d31-bc6f24531127"
      },
      "execution_count": null,
      "outputs": [
        {
          "output_type": "execute_result",
          "data": {
            "text/plain": [
              "'AB'"
            ],
            "application/vnd.google.colaboratory.intrinsic+json": {
              "type": "string"
            }
          },
          "metadata": {},
          "execution_count": 117
        }
      ]
    },
    {
      "cell_type": "code",
      "source": [
        "s[1:5:2]"
      ],
      "metadata": {
        "colab": {
          "base_uri": "https://localhost:8080/",
          "height": 36
        },
        "id": "snJm5aXFHOda",
        "outputId": "43ba0ba0-d35f-4882-c023-e7b7a23d4f89"
      },
      "execution_count": null,
      "outputs": [
        {
          "output_type": "execute_result",
          "data": {
            "text/plain": [
              "'BD'"
            ],
            "application/vnd.google.colaboratory.intrinsic+json": {
              "type": "string"
            }
          },
          "metadata": {},
          "execution_count": 118
        }
      ]
    },
    {
      "cell_type": "code",
      "source": [
        "s[3:6:2]"
      ],
      "metadata": {
        "colab": {
          "base_uri": "https://localhost:8080/",
          "height": 36
        },
        "id": "3NuhKZawHR07",
        "outputId": "201a357a-3847-4bfa-dd1f-04a9e768c0e0"
      },
      "execution_count": null,
      "outputs": [
        {
          "output_type": "execute_result",
          "data": {
            "text/plain": [
              "'DF'"
            ],
            "application/vnd.google.colaboratory.intrinsic+json": {
              "type": "string"
            }
          },
          "metadata": {},
          "execution_count": 119
        }
      ]
    },
    {
      "cell_type": "code",
      "source": [
        "s= \"ABCDEFGG\""
      ],
      "metadata": {
        "id": "hzie74bwHYhL"
      },
      "execution_count": null,
      "outputs": []
    },
    {
      "cell_type": "code",
      "source": [
        "s[:2]"
      ],
      "metadata": {
        "colab": {
          "base_uri": "https://localhost:8080/",
          "height": 36
        },
        "id": "11FPdyvPIGoz",
        "outputId": "dd554ed7-b9f3-4889-9438-e3370a225d90"
      },
      "execution_count": null,
      "outputs": [
        {
          "output_type": "execute_result",
          "data": {
            "text/plain": [
              "'AB'"
            ],
            "application/vnd.google.colaboratory.intrinsic+json": {
              "type": "string"
            }
          },
          "metadata": {},
          "execution_count": 122
        }
      ]
    },
    {
      "cell_type": "code",
      "source": [
        "s[3:]"
      ],
      "metadata": {
        "colab": {
          "base_uri": "https://localhost:8080/",
          "height": 36
        },
        "id": "6KV6UQXDIH9L",
        "outputId": "764c54b5-c272-4701-f380-6fb4e0c0b393"
      },
      "execution_count": null,
      "outputs": [
        {
          "output_type": "execute_result",
          "data": {
            "text/plain": [
              "'DEFGG'"
            ],
            "application/vnd.google.colaboratory.intrinsic+json": {
              "type": "string"
            }
          },
          "metadata": {},
          "execution_count": 123
        }
      ]
    },
    {
      "cell_type": "code",
      "source": [
        "s[3::2]"
      ],
      "metadata": {
        "colab": {
          "base_uri": "https://localhost:8080/",
          "height": 36
        },
        "id": "9NGxJqz8IOu6",
        "outputId": "faf0b773-bf0e-4554-e543-51d98175947f"
      },
      "execution_count": null,
      "outputs": [
        {
          "output_type": "execute_result",
          "data": {
            "text/plain": [
              "'DFG'"
            ],
            "application/vnd.google.colaboratory.intrinsic+json": {
              "type": "string"
            }
          },
          "metadata": {},
          "execution_count": 129
        }
      ]
    },
    {
      "cell_type": "code",
      "source": [
        "s[::]"
      ],
      "metadata": {
        "colab": {
          "base_uri": "https://localhost:8080/",
          "height": 36
        },
        "id": "xi0BLVr_ISP6",
        "outputId": "ec193cd9-90ed-4443-e8c3-3ee60b9083c3"
      },
      "execution_count": null,
      "outputs": [
        {
          "output_type": "execute_result",
          "data": {
            "text/plain": [
              "'ABCDEFGG'"
            ],
            "application/vnd.google.colaboratory.intrinsic+json": {
              "type": "string"
            }
          },
          "metadata": {},
          "execution_count": 128
        }
      ]
    },
    {
      "cell_type": "code",
      "source": [
        "s[::3]"
      ],
      "metadata": {
        "colab": {
          "base_uri": "https://localhost:8080/",
          "height": 36
        },
        "id": "QSx33yOvIUMq",
        "outputId": "0b6cb6eb-2a17-4d67-a97e-52850e0aa3a9"
      },
      "execution_count": null,
      "outputs": [
        {
          "output_type": "execute_result",
          "data": {
            "text/plain": [
              "'ADG'"
            ],
            "application/vnd.google.colaboratory.intrinsic+json": {
              "type": "string"
            }
          },
          "metadata": {},
          "execution_count": 126
        }
      ]
    },
    {
      "cell_type": "code",
      "source": [
        "s= \"ABCDEFGG\""
      ],
      "metadata": {
        "id": "N0m8E0mkIZJL"
      },
      "execution_count": null,
      "outputs": []
    },
    {
      "cell_type": "code",
      "source": [
        "s[-1:]"
      ],
      "metadata": {
        "colab": {
          "base_uri": "https://localhost:8080/",
          "height": 36
        },
        "id": "x5jGmPoPLmRi",
        "outputId": "c5f2686b-91a0-404f-b8b9-0b403ea61236"
      },
      "execution_count": null,
      "outputs": [
        {
          "output_type": "execute_result",
          "data": {
            "text/plain": [
              "'G'"
            ],
            "application/vnd.google.colaboratory.intrinsic+json": {
              "type": "string"
            }
          },
          "metadata": {},
          "execution_count": 131
        }
      ]
    },
    {
      "cell_type": "code",
      "source": [
        "s[0:-2] #s[:-2]"
      ],
      "metadata": {
        "colab": {
          "base_uri": "https://localhost:8080/",
          "height": 36
        },
        "id": "_5YojfTFLtwK",
        "outputId": "54f047ca-5d5f-42c6-bac7-4a33087d23c8"
      },
      "execution_count": null,
      "outputs": [
        {
          "output_type": "execute_result",
          "data": {
            "text/plain": [
              "'ABCDEF'"
            ],
            "application/vnd.google.colaboratory.intrinsic+json": {
              "type": "string"
            }
          },
          "metadata": {},
          "execution_count": 132
        }
      ]
    },
    {
      "cell_type": "code",
      "source": [
        "s[-3:-1]"
      ],
      "metadata": {
        "colab": {
          "base_uri": "https://localhost:8080/",
          "height": 36
        },
        "id": "os_5x2fyL4cz",
        "outputId": "718c5b10-f983-42f2-ad81-51dd7d015644"
      },
      "execution_count": null,
      "outputs": [
        {
          "output_type": "execute_result",
          "data": {
            "text/plain": [
              "'FG'"
            ],
            "application/vnd.google.colaboratory.intrinsic+json": {
              "type": "string"
            }
          },
          "metadata": {},
          "execution_count": 133
        }
      ]
    },
    {
      "cell_type": "code",
      "source": [
        "s[-3:]"
      ],
      "metadata": {
        "colab": {
          "base_uri": "https://localhost:8080/",
          "height": 36
        },
        "id": "dNKG-xmyMCFT",
        "outputId": "074559d7-2173-4c95-df88-99f8a84a8793"
      },
      "execution_count": null,
      "outputs": [
        {
          "output_type": "execute_result",
          "data": {
            "text/plain": [
              "'FGG'"
            ],
            "application/vnd.google.colaboratory.intrinsic+json": {
              "type": "string"
            }
          },
          "metadata": {},
          "execution_count": 134
        }
      ]
    },
    {
      "cell_type": "code",
      "source": [
        "s[-5:6]"
      ],
      "metadata": {
        "colab": {
          "base_uri": "https://localhost:8080/",
          "height": 36
        },
        "id": "d3M6__U1MEfC",
        "outputId": "c4aa0af5-f08c-4031-a112-39219e6ef577"
      },
      "execution_count": null,
      "outputs": [
        {
          "output_type": "execute_result",
          "data": {
            "text/plain": [
              "'DEF'"
            ],
            "application/vnd.google.colaboratory.intrinsic+json": {
              "type": "string"
            }
          },
          "metadata": {},
          "execution_count": 135
        }
      ]
    },
    {
      "cell_type": "code",
      "source": [
        "s[-1:-4:-1]"
      ],
      "metadata": {
        "colab": {
          "base_uri": "https://localhost:8080/",
          "height": 36
        },
        "id": "6OC0P1z5MHe6",
        "outputId": "b25ef7e4-f56a-40be-854e-2ef74fa21e16"
      },
      "execution_count": null,
      "outputs": [
        {
          "output_type": "execute_result",
          "data": {
            "text/plain": [
              "'GGF'"
            ],
            "application/vnd.google.colaboratory.intrinsic+json": {
              "type": "string"
            }
          },
          "metadata": {},
          "execution_count": 136
        }
      ]
    },
    {
      "cell_type": "markdown",
      "source": [
        "##Pertinência em python"
      ],
      "metadata": {
        "id": "TngsYb--N2Am"
      }
    },
    {
      "cell_type": "code",
      "source": [
        "linguagem_preferida = 'Python'"
      ],
      "metadata": {
        "id": "4pbcLNJCN9e5"
      },
      "execution_count": null,
      "outputs": []
    },
    {
      "cell_type": "code",
      "source": [
        "'P' in linguagem_preferida #True or False?"
      ],
      "metadata": {
        "colab": {
          "base_uri": "https://localhost:8080/"
        },
        "id": "l3DlhxjzOLPw",
        "outputId": "66842d60-0e4c-4b2b-9a48-cad7e1acaa7b"
      },
      "execution_count": null,
      "outputs": [
        {
          "output_type": "execute_result",
          "data": {
            "text/plain": [
              "True"
            ]
          },
          "metadata": {},
          "execution_count": 138
        }
      ]
    },
    {
      "cell_type": "code",
      "source": [
        "'p' in linguagem_preferida #True or False?"
      ],
      "metadata": {
        "colab": {
          "base_uri": "https://localhost:8080/"
        },
        "id": "2S_dz5N6OXRi",
        "outputId": "1d396a17-3ab1-48d8-ac79-a023378b9ddd"
      },
      "execution_count": null,
      "outputs": [
        {
          "output_type": "execute_result",
          "data": {
            "text/plain": [
              "False"
            ]
          },
          "metadata": {},
          "execution_count": 140
        }
      ]
    },
    {
      "cell_type": "code",
      "source": [
        "'n' in linguagem_preferida #True or False?"
      ],
      "metadata": {
        "colab": {
          "base_uri": "https://localhost:8080/"
        },
        "id": "RnkG1S86OaXa",
        "outputId": "69b303b9-c290-4f26-a97e-d570136722a6"
      },
      "execution_count": null,
      "outputs": [
        {
          "output_type": "execute_result",
          "data": {
            "text/plain": [
              "True"
            ]
          },
          "metadata": {},
          "execution_count": 141
        }
      ]
    },
    {
      "cell_type": "code",
      "source": [
        "linguagem_preferida in linguagem_preferida #True or False?"
      ],
      "metadata": {
        "colab": {
          "base_uri": "https://localhost:8080/"
        },
        "id": "V_rsjMTpOcI6",
        "outputId": "0ea6230b-d123-4cd5-e2ae-4d392ada634f"
      },
      "execution_count": null,
      "outputs": [
        {
          "output_type": "execute_result",
          "data": {
            "text/plain": [
              "True"
            ]
          },
          "metadata": {},
          "execution_count": 142
        }
      ]
    },
    {
      "cell_type": "markdown",
      "source": [
        "#Metodos"
      ],
      "metadata": {
        "id": "T3_4UxamOwLO"
      }
    },
    {
      "cell_type": "code",
      "source": [
        "\"python\".upper()"
      ],
      "metadata": {
        "colab": {
          "base_uri": "https://localhost:8080/",
          "height": 36
        },
        "id": "S4tMGNpbOydS",
        "outputId": "b789be32-7612-4b69-822f-e84a4b180760"
      },
      "execution_count": null,
      "outputs": [
        {
          "output_type": "execute_result",
          "data": {
            "text/plain": [
              "'PYTHON'"
            ],
            "application/vnd.google.colaboratory.intrinsic+json": {
              "type": "string"
            }
          },
          "metadata": {},
          "execution_count": 143
        }
      ]
    },
    {
      "cell_type": "code",
      "source": [
        "verdade = \"python é legal\""
      ],
      "metadata": {
        "id": "LS2dyWQ0O3JF"
      },
      "execution_count": null,
      "outputs": []
    },
    {
      "cell_type": "code",
      "source": [
        "\"python\".title()"
      ],
      "metadata": {
        "colab": {
          "base_uri": "https://localhost:8080/",
          "height": 36
        },
        "id": "7wCmy2wDO6RV",
        "outputId": "bb6e90ad-f9a8-42c1-e19b-9315a084e792"
      },
      "execution_count": null,
      "outputs": [
        {
          "output_type": "execute_result",
          "data": {
            "text/plain": [
              "'Python'"
            ],
            "application/vnd.google.colaboratory.intrinsic+json": {
              "type": "string"
            }
          },
          "metadata": {},
          "execution_count": 145
        }
      ]
    },
    {
      "cell_type": "code",
      "source": [
        "\"\".join(verdade.split())"
      ],
      "metadata": {
        "colab": {
          "base_uri": "https://localhost:8080/",
          "height": 36
        },
        "id": "7cVfnsVTO-pW",
        "outputId": "8cb7fb1e-46e3-40da-abe2-4e6f6ba37695"
      },
      "execution_count": null,
      "outputs": [
        {
          "output_type": "execute_result",
          "data": {
            "text/plain": [
              "'pythonélegal'"
            ],
            "application/vnd.google.colaboratory.intrinsic+json": {
              "type": "string"
            }
          },
          "metadata": {},
          "execution_count": 146
        }
      ]
    },
    {
      "cell_type": "code",
      "source": [
        "\"python é legal\".split()"
      ],
      "metadata": {
        "colab": {
          "base_uri": "https://localhost:8080/"
        },
        "id": "eJUjfJPfPIgx",
        "outputId": "0bcd10ac-7c7a-43ed-de80-8b2cb0e5c381"
      },
      "execution_count": null,
      "outputs": [
        {
          "output_type": "execute_result",
          "data": {
            "text/plain": [
              "['python', 'é', 'legal']"
            ]
          },
          "metadata": {},
          "execution_count": 147
        }
      ]
    },
    {
      "cell_type": "markdown",
      "source": [
        "##Interpolação"
      ],
      "metadata": {
        "id": "JVoweW-7QERm"
      }
    },
    {
      "cell_type": "code",
      "source": [
        "linguagem_preferida = 'Python'"
      ],
      "metadata": {
        "id": "Z-dzqVvcQIJa"
      },
      "execution_count": null,
      "outputs": []
    },
    {
      "cell_type": "code",
      "source": [
        "print('Eu amo %s'%(linguagem_preferida))"
      ],
      "metadata": {
        "colab": {
          "base_uri": "https://localhost:8080/"
        },
        "id": "j5ExYBEOQLhi",
        "outputId": "c55862e9-ead1-4a89-dcb1-d53e8300ba85"
      },
      "execution_count": null,
      "outputs": [
        {
          "output_type": "stream",
          "name": "stdout",
          "text": [
            "Eu amo Python\n"
          ]
        }
      ]
    },
    {
      "cell_type": "code",
      "source": [
        "print('eu amo %d'%(19))"
      ],
      "metadata": {
        "colab": {
          "base_uri": "https://localhost:8080/"
        },
        "id": "8AFembWgQVXn",
        "outputId": "b6e3d2c0-7494-4f3c-e3c9-b7795d9daaf2"
      },
      "execution_count": null,
      "outputs": [
        {
          "output_type": "stream",
          "name": "stdout",
          "text": [
            "eu amo 19\n"
          ]
        }
      ]
    },
    {
      "cell_type": "code",
      "source": [
        "print('eu tenho %02d anos de idade' %(9))"
      ],
      "metadata": {
        "colab": {
          "base_uri": "https://localhost:8080/"
        },
        "id": "O1kJJLG3QcEx",
        "outputId": "9139c13c-933e-401a-d695-0179c4146ece"
      },
      "execution_count": null,
      "outputs": [
        {
          "output_type": "stream",
          "name": "stdout",
          "text": [
            "eu tenho 09 anos de idade\n"
          ]
        }
      ]
    },
    {
      "cell_type": "code",
      "source": [
        "print('eu tenho %03d anos de idade e %2.5f na polpança'% (19,100))"
      ],
      "metadata": {
        "colab": {
          "base_uri": "https://localhost:8080/"
        },
        "id": "nOhfAbDLQqlR",
        "outputId": "4a4cb0e2-af6f-4641-f10a-039bac62b07a"
      },
      "execution_count": null,
      "outputs": [
        {
          "output_type": "stream",
          "name": "stdout",
          "text": [
            "eu tenho 019 anos de idade e 100.00000 na polpança\n"
          ]
        }
      ]
    },
    {
      "cell_type": "markdown",
      "source": [
        "###Desafio 3"
      ],
      "metadata": {
        "id": "9lly6CMHSbnO"
      }
    },
    {
      "cell_type": "code",
      "source": [
        "user = input('digite seu nome, tanto com letra maiuscula ou minuscula:')\n",
        "\n",
        "user = user.upper()\n",
        "user = user[::-1]\n",
        "user"
      ],
      "metadata": {
        "colab": {
          "base_uri": "https://localhost:8080/",
          "height": 53
        },
        "id": "1vDb6MV4SgEZ",
        "outputId": "704968f0-ed3f-4a91-904f-d2421794cd89"
      },
      "execution_count": null,
      "outputs": [
        {
          "name": "stdout",
          "output_type": "stream",
          "text": [
            "digite seu nome, tanto com letra maiuscula ou minuscula:larissa\n"
          ]
        },
        {
          "output_type": "execute_result",
          "data": {
            "text/plain": [
              "'ASSIRAL'"
            ],
            "application/vnd.google.colaboratory.intrinsic+json": {
              "type": "string"
            }
          },
          "metadata": {},
          "execution_count": 161
        }
      ]
    },
    {
      "cell_type": "code",
      "source": [
        "user = input('digite seu nome, tanto com letra maiuscula ou minuscula:')\n",
        "\n",
        "user = user[::-1]\n",
        "print('seu nome ao contrario é:',user.upper())"
      ],
      "metadata": {
        "colab": {
          "base_uri": "https://localhost:8080/"
        },
        "id": "nSe-uqoWUAUx",
        "outputId": "8ef4d43b-b8be-47c3-8cc6-8f3548c40f18"
      },
      "execution_count": null,
      "outputs": [
        {
          "output_type": "stream",
          "name": "stdout",
          "text": [
            "digite seu nome, tanto com letra maiuscula ou minuscula:larissa\n",
            "seu nome ao contrario é: ASSIRAL\n"
          ]
        }
      ]
    }
  ]
}