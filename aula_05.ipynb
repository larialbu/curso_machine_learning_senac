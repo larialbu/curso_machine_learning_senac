{
  "nbformat": 4,
  "nbformat_minor": 0,
  "metadata": {
    "colab": {
      "provenance": [],
      "authorship_tag": "ABX9TyNB2087JDPbgnQeAmy23SoB",
      "include_colab_link": true
    },
    "kernelspec": {
      "name": "python3",
      "display_name": "Python 3"
    },
    "language_info": {
      "name": "python"
    }
  },
  "cells": [
    {
      "cell_type": "markdown",
      "metadata": {
        "id": "view-in-github",
        "colab_type": "text"
      },
      "source": [
        "<a href=\"https://colab.research.google.com/github/larialbu/curso_machine_learning_senac/blob/main/aula_05.ipynb\" target=\"_parent\"><img src=\"https://colab.research.google.com/assets/colab-badge.svg\" alt=\"Open In Colab\"/></a>"
      ]
    },
    {
      "cell_type": "markdown",
      "source": [
        "#Funções e Metodos"
      ],
      "metadata": {
        "id": "P5fv8vhz0s2S"
      }
    },
    {
      "cell_type": "code",
      "execution_count": null,
      "metadata": {
        "colab": {
          "base_uri": "https://localhost:8080/"
        },
        "id": "Mwn7o9f80k2g",
        "outputId": "400e7f84-1478-41ff-d942-ec1818300c35"
      },
      "outputs": [
        {
          "output_type": "stream",
          "name": "stdout",
          "text": [
            "Numero: 0\n",
            "Numero: 1\n",
            "Numero: 2\n",
            "Numero: 3\n",
            "Numero: 4\n"
          ]
        }
      ],
      "source": [
        "\n",
        "def funcaoLeitura():\n",
        "  for i in range(5):\n",
        "    print('Numero:', i)\n",
        "\n",
        "\n",
        "funcaoLeitura()"
      ]
    },
    {
      "cell_type": "code",
      "source": [
        "\n",
        "def addNum(n1,n2):\n",
        "  print('O primeiro número é:', n1)\n",
        "  print('O segundo número é:', n2)\n",
        "  print('A soma é:', n1+n2)\n",
        "\n",
        "addNum(4,5)"
      ],
      "metadata": {
        "colab": {
          "base_uri": "https://localhost:8080/"
        },
        "id": "HWj2VLku0xAU",
        "outputId": "cd646cde-859a-4128-e302-7266bee5a45c"
      },
      "execution_count": null,
      "outputs": [
        {
          "output_type": "stream",
          "name": "stdout",
          "text": [
            "O primeiro número é: 4\n",
            "O segundo número é: 5\n",
            "A soma é: 9\n"
          ]
        }
      ]
    },
    {
      "cell_type": "code",
      "source": [
        "varGlobal = 10 # Essa é uma variável global\n",
        "def multiplicacao(num1, num2):\n",
        "  varGlobal = (num1 * num2) # Essa é uma varável local\n",
        "  print('Variavel da função Multiplicacao:', varGlobal)\n",
        "\n",
        "multiplicacao(5,4)\n",
        "print(varGlobal)"
      ],
      "metadata": {
        "colab": {
          "base_uri": "https://localhost:8080/"
        },
        "id": "AFt4scuN00VA",
        "outputId": "1de9bb58-b15d-4652-f4a2-66e6a313ec3f"
      },
      "execution_count": null,
      "outputs": [
        {
          "output_type": "stream",
          "name": "stdout",
          "text": [
            "Variavel da função Multiplicacao: 20\n",
            "10\n"
          ]
        }
      ]
    },
    {
      "cell_type": "code",
      "source": [
        "def multiplica(num1, num2):\n",
        "  varLocal = (num1 * num2) # Essa é uma varável local\n",
        "  print('Variavel da função Multiplicacao:', varLocal)\n",
        "\n",
        "multiplica(5,4)\n",
        "     "
      ],
      "metadata": {
        "colab": {
          "base_uri": "https://localhost:8080/"
        },
        "id": "Kopz4M7Q037Y",
        "outputId": "f6e414c9-0f45-4d0b-c452-8767ce4a1cdc"
      },
      "execution_count": null,
      "outputs": [
        {
          "output_type": "stream",
          "name": "stdout",
          "text": [
            "Variavel da função Multiplicacao: 20\n"
          ]
        }
      ]
    },
    {
      "cell_type": "code",
      "source": [
        "\n",
        "print(varLocal)\n",
        "     "
      ],
      "metadata": {
        "colab": {
          "base_uri": "https://localhost:8080/",
          "height": 190
        },
        "id": "eiAETWP708MA",
        "outputId": "9a2e5ff4-746d-41b6-be02-aec90b7073b7"
      },
      "execution_count": null,
      "outputs": [
        {
          "output_type": "error",
          "ename": "NameError",
          "evalue": "ignored",
          "traceback": [
            "\u001b[0;31m---------------------------------------------------------------------------\u001b[0m",
            "\u001b[0;31mNameError\u001b[0m                                 Traceback (most recent call last)",
            "\u001b[0;32m<ipython-input-5-bb2bc2dfe7b5>\u001b[0m in \u001b[0;36m<module>\u001b[0;34m\u001b[0m\n\u001b[0;32m----> 1\u001b[0;31m \u001b[0mprint\u001b[0m\u001b[0;34m(\u001b[0m\u001b[0mvarLocal\u001b[0m\u001b[0;34m)\u001b[0m\u001b[0;34m\u001b[0m\u001b[0;34m\u001b[0m\u001b[0m\n\u001b[0m\u001b[1;32m      2\u001b[0m \u001b[0;34m\u001b[0m\u001b[0m\n",
            "\u001b[0;31mNameError\u001b[0m: name 'varLocal' is not defined"
          ]
        }
      ]
    },
    {
      "cell_type": "code",
      "source": [
        "for i in range(5): print(i)"
      ],
      "metadata": {
        "colab": {
          "base_uri": "https://localhost:8080/"
        },
        "id": "fk227L1p0_E4",
        "outputId": "2b52394d-dc3e-49f5-8e18-84c17e8d09b8"
      },
      "execution_count": null,
      "outputs": [
        {
          "output_type": "stream",
          "name": "stdout",
          "text": [
            "0\n",
            "1\n",
            "2\n",
            "3\n",
            "4\n"
          ]
        }
      ]
    },
    {
      "cell_type": "code",
      "source": [
        "\n",
        "def separaTexto(texto): return texto.split()"
      ],
      "metadata": {
        "id": "Ln8jmlY-1DnZ"
      },
      "execution_count": null,
      "outputs": []
    },
    {
      "cell_type": "code",
      "source": [
        "token = separaTexto('Cibele Maria')\n"
      ],
      "metadata": {
        "id": "4jJ39OoM1Fxz"
      },
      "execution_count": null,
      "outputs": []
    },
    {
      "cell_type": "code",
      "source": [
        "\n",
        "print(token)"
      ],
      "metadata": {
        "colab": {
          "base_uri": "https://localhost:8080/"
        },
        "id": "zbxizPJl1ILI",
        "outputId": "290672d6-04da-43d1-cfe3-5a79afa2893c"
      },
      "execution_count": null,
      "outputs": [
        {
          "output_type": "stream",
          "name": "stdout",
          "text": [
            "['Cibele', 'Maria']\n"
          ]
        }
      ]
    },
    {
      "cell_type": "code",
      "source": [
        "\n",
        "# Quando não sabemos a quantidade de parametros\n",
        "def variosParametros(*parametros):\n",
        "  for n, item in enumerate(parametros):\n",
        "    print('O parâmetro %d é:' %(n), item)\n",
        "  return;"
      ],
      "metadata": {
        "id": "-6mOauQq1Mgr"
      },
      "execution_count": null,
      "outputs": []
    },
    {
      "cell_type": "code",
      "source": [
        "variosParametros('pitomba','jambo','siriguela','umbu')\n",
        "     "
      ],
      "metadata": {
        "colab": {
          "base_uri": "https://localhost:8080/"
        },
        "id": "to8kfJX_2EBe",
        "outputId": "b0ff8d43-3314-474c-b29e-aad069657c4f"
      },
      "execution_count": null,
      "outputs": [
        {
          "output_type": "stream",
          "name": "stdout",
          "text": [
            "O parâmetro 0 é: pitomba\n",
            "O parâmetro 1 é: jambo\n",
            "O parâmetro 2 é: siriguela\n",
            "O parâmetro 3 é: umbu\n"
          ]
        }
      ]
    },
    {
      "cell_type": "code",
      "source": [
        "\n",
        "import math # Pacote com um conjunto de funções matemático\n",
        "\n",
        "def numPrimo(num):\n",
        "  # Verificando se um Número é primo\n",
        "  if (num%2) == 0 and num>2:\n",
        "    return ('Este número não é primo')\n",
        "  for i in range(3, int(math.sqrt(num)) + 1, 2):\n",
        "    if (num % i) == 0:\n",
        "      return ('Este numero não é primo')\n",
        "  return ('Este número é primo')\n",
        "     "
      ],
      "metadata": {
        "id": "jFQMi_zn2GB5"
      },
      "execution_count": null,
      "outputs": []
    },
    {
      "cell_type": "code",
      "source": [
        "\n",
        "numPrimo(47)"
      ],
      "metadata": {
        "colab": {
          "base_uri": "https://localhost:8080/",
          "height": 36
        },
        "id": "-UyaeBnt2Iny",
        "outputId": "cab82de5-f494-4e5f-92ca-22c2167d2ffb"
      },
      "execution_count": null,
      "outputs": [
        {
          "output_type": "execute_result",
          "data": {
            "text/plain": [
              "'Este número é primo'"
            ],
            "application/vnd.google.colaboratory.intrinsic+json": {
              "type": "string"
            }
          },
          "metadata": {},
          "execution_count": 13
        }
      ]
    },
    {
      "cell_type": "code",
      "source": [
        "def soma(n1, n2):\n",
        "  return n1+n2\n",
        "\n",
        "def subtrai(n1, n2):\n",
        "  return n1-n2\n",
        "\n",
        "def multiplica(n1, n2):\n",
        "  return n1*n2\n",
        "\n",
        "def divide(n1, n2):\n",
        "  return n1/n2"
      ],
      "metadata": {
        "id": "zbE2pAR72NpR"
      },
      "execution_count": null,
      "outputs": []
    },
    {
      "cell_type": "code",
      "source": [
        "\n",
        "while True:\n",
        "  print('+==================+')\n",
        "  print('| MENU DE OPERAÇÕES')\n",
        "  print('| 1 - somar        ')\n",
        "  print('| 2 - subitrair    ')\n",
        "  print('| 3 - multiplicar  ')\n",
        "  print('| 4 - dividir      ')\n",
        "  print('| 0 - sair         ')\n",
        "  print('+==================+')\n",
        "\n",
        "  op = int(input())\n",
        "  if op==0:\n",
        "    break\n",
        "  \n",
        "  n1 = int(input('Primeiro numero: '))\n",
        "  n2 = int(input('Segundo numero: '))\n",
        "\n",
        "  if op==1:\n",
        "    print('O resultado da soma é:', soma(n1,n2))\n",
        "  elif op==2:\n",
        "    print('O resultado da subtração é:', subtrai(n1,n2))\n",
        "  elif op==3:\n",
        "    print('O resultado da multiplicação e:', multiplica(n1,n2))\n",
        "  elif op==4:\n",
        "    print('O resultado da divisão é:', divide(n1,n2))\n",
        "\n"
      ],
      "metadata": {
        "colab": {
          "base_uri": "https://localhost:8080/"
        },
        "id": "Rv564mEQ2QAA",
        "outputId": "af265561-0ff3-4f41-cda9-b1b43f2739a1"
      },
      "execution_count": null,
      "outputs": [
        {
          "name": "stdout",
          "output_type": "stream",
          "text": [
            "+==================+\n",
            "| MENU DE OPERAÇÕES\n",
            "| 1 - somar        \n",
            "| 2 - subitrair    \n",
            "| 3 - multiplicar  \n",
            "| 4 - dividir      \n",
            "| 0 - sair         \n",
            "+==================+\n",
            "3\n",
            "Primeiro numero: 3\n",
            "Segundo numero: 3\n",
            "O resultado da multiplicação e: 9\n",
            "+==================+\n",
            "| MENU DE OPERAÇÕES\n",
            "| 1 - somar        \n",
            "| 2 - subitrair    \n",
            "| 3 - multiplicar  \n",
            "| 4 - dividir      \n",
            "| 0 - sair         \n",
            "+==================+\n",
            "0\n"
          ]
        }
      ]
    },
    {
      "cell_type": "code",
      "source": [
        "\n",
        "class Pessoa():\n",
        "  def __init__(self, n, i):\n",
        "    self.nome = n\n",
        "    self.idade = i\n",
        "\n",
        "  def apresentacao(self):\n",
        "    print('Seja bem vindo ao sistema SENAC!')\n",
        "  \n",
        "\n",
        "class PessoaFisica():\n",
        "  def __init__(self, n, i, cpf):\n",
        "    self.nome = n\n",
        "    self.idade = i\n",
        "    self.cpf = cpf\n",
        "\n",
        "  def apresentacao(self):\n",
        "    print('Seja bem vindo ao sistema SENAC!')\n",
        "\n",
        "  def impostoDeRenda(self, *salario):\n",
        "    s = sum(salario)\n",
        "    ir = s*0.015\n",
        "    print('O valor do seu imposto de renda é R$', ir)\n",
        "    return ir\n",
        "  \n",
        "\n",
        "class PessoaJuridica():\n",
        "  def __init__(self, n, i, cnpj):\n",
        "    self.nome = n\n",
        "    self.idade = i\n",
        "    self.cnpj = cnpj\n",
        "\n",
        "  def apresentacao(self):\n",
        "    print('Seja bem vindo ao Python!')\n",
        "\n",
        "  def impostoDeRenda(self, *salario):\n",
        "    s = sum(salario)\n",
        "    ir = s*0.010\n",
        "    print('O valor do seu imposto de renda é R$', ir)\n",
        "    return ir\n",
        "     "
      ],
      "metadata": {
        "id": "R0QxJKUR2VA6"
      },
      "execution_count": null,
      "outputs": []
    },
    {
      "cell_type": "code",
      "source": [
        "\n",
        "nome = str(input('Nome: '))\n",
        "age = int(input('Idade: '))\n",
        "cnpj = int(input('CNPJ: '))\n",
        "\n",
        "serumaninho = Pessoa(nome, age)\n",
        "comunidade = PessoaJuridica(nome, age, cnpj)"
      ],
      "metadata": {
        "colab": {
          "base_uri": "https://localhost:8080/"
        },
        "id": "Udrot_n52h84",
        "outputId": "8e1c3b79-31ec-4c30-84d1-5d294cfd22b0"
      },
      "execution_count": null,
      "outputs": [
        {
          "name": "stdout",
          "output_type": "stream",
          "text": [
            "Nome: larissa\n",
            "Idade: 18\n",
            "CNPJ: 9402394309232\n"
          ]
        }
      ]
    },
    {
      "cell_type": "code",
      "source": [
        "\n",
        "serumaninho.nome"
      ],
      "metadata": {
        "colab": {
          "base_uri": "https://localhost:8080/",
          "height": 36
        },
        "id": "5j7YU2pL2k3z",
        "outputId": "88ffab6b-90e8-4231-b4dc-24818d02f226"
      },
      "execution_count": null,
      "outputs": [
        {
          "output_type": "execute_result",
          "data": {
            "text/plain": [
              "'larissa'"
            ],
            "application/vnd.google.colaboratory.intrinsic+json": {
              "type": "string"
            }
          },
          "metadata": {},
          "execution_count": 18
        }
      ]
    },
    {
      "cell_type": "code",
      "source": [
        "\n",
        "serumaninho.apresentacao()\n",
        "     "
      ],
      "metadata": {
        "colab": {
          "base_uri": "https://localhost:8080/"
        },
        "id": "VFtCV9Et2rad",
        "outputId": "6fddb32e-cc60-497e-a9c7-9e23ec6ea1d0"
      },
      "execution_count": null,
      "outputs": [
        {
          "output_type": "stream",
          "name": "stdout",
          "text": [
            "Seja bem vindo ao sistema SENAC!\n"
          ]
        }
      ]
    },
    {
      "cell_type": "code",
      "source": [
        "\n",
        "salario = float(input('Receita: '))\n",
        "comunidade.impostoDeRenda(salario)\n",
        "print('Fim!')"
      ],
      "metadata": {
        "id": "0DK8mYVF2uRL",
        "outputId": "c3d6e7ab-4c9f-485e-b378-4a5fedeef57f",
        "colab": {
          "base_uri": "https://localhost:8080/"
        }
      },
      "execution_count": null,
      "outputs": [
        {
          "output_type": "stream",
          "name": "stdout",
          "text": [
            "Receita: 34124\n",
            "O valor do seu imposto de renda é R$ 341.24\n",
            "Fim!\n"
          ]
        }
      ]
    },
    {
      "cell_type": "code",
      "source": [],
      "metadata": {
        "id": "uGYbZ0FX2wzy"
      },
      "execution_count": null,
      "outputs": []
    }
  ]
}