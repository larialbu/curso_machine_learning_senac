{
  "nbformat": 4,
  "nbformat_minor": 0,
  "metadata": {
    "colab": {
      "provenance": [],
      "toc_visible": true,
      "authorship_tag": "ABX9TyNtCHvtxNVfnH14TZu6Bfue",
      "include_colab_link": true
    },
    "kernelspec": {
      "name": "python3",
      "display_name": "Python 3"
    },
    "language_info": {
      "name": "python"
    }
  },
  "cells": [
    {
      "cell_type": "markdown",
      "metadata": {
        "id": "view-in-github",
        "colab_type": "text"
      },
      "source": [
        "<a href=\"https://colab.research.google.com/github/larialbu/curso_machine_learning_senac/blob/main/aula_09.ipynb\" target=\"_parent\"><img src=\"https://colab.research.google.com/assets/colab-badge.svg\" alt=\"Open In Colab\"/></a>"
      ]
    },
    {
      "cell_type": "markdown",
      "source": [
        "#Tipos de machine learning"
      ],
      "metadata": {
        "id": "39j8FfvO3q3t"
      }
    },
    {
      "cell_type": "markdown",
      "source": [
        "##Aprendizado supervisionado"
      ],
      "metadata": {
        "id": "t6vRTqXc3wUz"
      }
    },
    {
      "cell_type": "markdown",
      "source": [
        "##Aprendizado não supervisonado"
      ],
      "metadata": {
        "id": "dH2GhMAT31cz"
      }
    },
    {
      "cell_type": "markdown",
      "source": [
        "##Aprendizado por reforço"
      ],
      "metadata": {
        "id": "1kAlgrhn34hj"
      }
    },
    {
      "cell_type": "markdown",
      "source": [
        "###treinamento, validação e teste"
      ],
      "metadata": {
        "id": "nWXZt6g2BJHI"
      }
    },
    {
      "cell_type": "markdown",
      "source": [
        "#OVERFITTING"
      ],
      "metadata": {
        "id": "5x8PRNLBDKif"
      }
    },
    {
      "cell_type": "markdown",
      "source": [
        "#ENCONTRA PADRÃO"
      ],
      "metadata": {
        "id": "uOwKXJ4qDe4f"
      }
    },
    {
      "cell_type": "markdown",
      "source": [
        "#UNDERFITTING\n"
      ],
      "metadata": {
        "id": "t0FPhJ40DZcf"
      }
    },
    {
      "cell_type": "markdown",
      "source": [
        "##NUNCA ENCONTRA UM PRADRÃO"
      ],
      "metadata": {
        "id": "YhfgvB56Di5n"
      }
    },
    {
      "cell_type": "markdown",
      "source": [
        "#Aula 09"
      ],
      "metadata": {
        "id": "4DG3LE8SOhRj"
      }
    },
    {
      "cell_type": "code",
      "source": [
        "#as caracteristicas dos participantes:\n",
        "#tossindo?\n",
        "#espirrando?\n",
        "#falta de ar?\n",
        "#febre?\n",
        "\n",
        "gipado1 = [1,1,1,1]\n",
        "gipado2 = [0,1,0,1]\n",
        "gipado3 = [1,1,0,0]\n",
        "gipado4 = [1,1,0,1]\n",
        "\n",
        "alergico1 = [1,1,0,0]\n",
        "alergico2 = [0,1,0,0]\n",
        "alergico3 = [1,0,1,0]\n",
        "alergico4 = [0,1,1,0]"
      ],
      "metadata": {
        "id": "BPnn0xYHOIuU"
      },
      "execution_count": 9,
      "outputs": []
    },
    {
      "cell_type": "code",
      "source": [
        "dados =[gipado1, gipado2, gipado3, gipado4,\n",
        "        alergico1, alergico2, alergico3, alergico4]\n",
        "\n",
        "#categoria 1 = gripado; categoria 0 = alergico\n",
        "categorias = [1,1,1,1,0,0,0,0]"
      ],
      "metadata": {
        "id": "asYOWPL2PBFG"
      },
      "execution_count": 10,
      "outputs": []
    },
    {
      "cell_type": "code",
      "source": [
        "from sklearn.svm import LinearSVC"
      ],
      "metadata": {
        "id": "6RVWnzB_QCtk"
      },
      "execution_count": 11,
      "outputs": []
    },
    {
      "cell_type": "markdown",
      "source": [
        "#**Rodando nosso treino**"
      ],
      "metadata": {
        "id": "tzL7SEQqQmPZ"
      }
    },
    {
      "cell_type": "code",
      "source": [
        "modelo = LinearSVC()\n",
        "modelo.fit(dados, categorias)"
      ],
      "metadata": {
        "colab": {
          "base_uri": "https://localhost:8080/"
        },
        "id": "ob5w8uG0QJg5",
        "outputId": "ab391aad-6bb7-4bd2-de4c-3e2a8a6e1d34"
      },
      "execution_count": 12,
      "outputs": [
        {
          "output_type": "execute_result",
          "data": {
            "text/plain": [
              "LinearSVC()"
            ]
          },
          "metadata": {},
          "execution_count": 12
        }
      ]
    },
    {
      "cell_type": "markdown",
      "source": [
        "#**Definindo dados do teste**"
      ],
      "metadata": {
        "id": "iin-3GkQRj8Y"
      }
    },
    {
      "cell_type": "code",
      "source": [
        "paciente1 = [0,1,0,1]\n",
        "paciente2 = [0,0,0,0]\n",
        "paciente3 = [1,1,1,1]\n",
        "paciente4 = [0,1,0,1]\n",
        "\n",
        "dados_teste = [paciente1, paciente2, paciente3, paciente4]"
      ],
      "metadata": {
        "id": "GOJ68iQQRNVp"
      },
      "execution_count": 13,
      "outputs": []
    },
    {
      "cell_type": "markdown",
      "source": [
        "#**Testando**"
      ],
      "metadata": {
        "id": "3v1cKK7_U5ev"
      }
    },
    {
      "cell_type": "code",
      "source": [
        "modelo.predict(dados_teste)\n"
      ],
      "metadata": {
        "colab": {
          "base_uri": "https://localhost:8080/"
        },
        "id": "J8QirxqHU36_",
        "outputId": "05cf945b-9b79-4fbf-c454-0d3a12829f98"
      },
      "execution_count": 15,
      "outputs": [
        {
          "output_type": "execute_result",
          "data": {
            "text/plain": [
              "array([1, 0, 1, 1])"
            ]
          },
          "metadata": {},
          "execution_count": 15
        }
      ]
    },
    {
      "cell_type": "markdown",
      "source": [
        "#**Dado um novo paciente, vamos avaliar a possibilidade dele esta gripado**"
      ],
      "metadata": {
        "id": "v962l_CnX5sX"
      }
    },
    {
      "cell_type": "code",
      "source": [
        "novo_paciente = [0,1,0,0]\n",
        "modelo.predict([novo_paciente])"
      ],
      "metadata": {
        "colab": {
          "base_uri": "https://localhost:8080/"
        },
        "id": "ihrIi-sJWxnB",
        "outputId": "a454dd7b-ff90-4f7b-c37a-b9b0897b8763"
      },
      "execution_count": 17,
      "outputs": [
        {
          "output_type": "execute_result",
          "data": {
            "text/plain": [
              "array([0])"
            ]
          },
          "metadata": {},
          "execution_count": 17
        }
      ]
    },
    {
      "cell_type": "code",
      "source": [
        "if (modelo.predict([novo_paciente]) == 0):\n",
        "  print('paciente potencialmente alergico')\n",
        "else:\n",
        "  print('paciente potencialmente gripado')"
      ],
      "metadata": {
        "colab": {
          "base_uri": "https://localhost:8080/"
        },
        "id": "aopsPI1hYuzS",
        "outputId": "6d76723a-f241-4d40-b9d7-2b402ae1451e"
      },
      "execution_count": 18,
      "outputs": [
        {
          "output_type": "stream",
          "name": "stdout",
          "text": [
            "paciente potencialmente alergico\n"
          ]
        }
      ]
    },
    {
      "cell_type": "markdown",
      "source": [
        "##vamos salvar a aplicacao do nosso modelo sobe os dados de teste na vaviavel predições"
      ],
      "metadata": {
        "id": "F1P2b67OZWbO"
      }
    },
    {
      "cell_type": "code",
      "source": [
        "predicoes = modelo.predict(dados_teste)"
      ],
      "metadata": {
        "id": "RfwcbdrPZfA1"
      },
      "execution_count": 19,
      "outputs": []
    },
    {
      "cell_type": "code",
      "source": [
        "#vamos upor qe temos casos com exames que condirmaram\n",
        "#o eguinte sobre os pacientes terem ggripe ou nao\n",
        "#vamos comprarar nosso modelo com a realidade\n",
        "exames = [1,0,1,0]"
      ],
      "metadata": {
        "id": "0JBvtTapZsNl"
      },
      "execution_count": 20,
      "outputs": []
    },
    {
      "cell_type": "code",
      "source": [
        "predicoes == exames"
      ],
      "metadata": {
        "colab": {
          "base_uri": "https://localhost:8080/"
        },
        "id": "6NJKDjyZaRr1",
        "outputId": "62225ad2-ee2f-40ff-89e8-01b3b14c978b"
      },
      "execution_count": 22,
      "outputs": [
        {
          "output_type": "execute_result",
          "data": {
            "text/plain": [
              "array([ True,  True,  True, False])"
            ]
          },
          "metadata": {},
          "execution_count": 22
        }
      ]
    },
    {
      "cell_type": "code",
      "source": [
        "#total de acertos do nosso modelo:\n",
        "total_acertos = (predicoes == exames).sum()\n",
        "total_acertos"
      ],
      "metadata": {
        "colab": {
          "base_uri": "https://localhost:8080/"
        },
        "id": "8XOmIJTUaT89",
        "outputId": "9c6896c6-b986-4663-8de4-808768d3df18"
      },
      "execution_count": 23,
      "outputs": [
        {
          "output_type": "execute_result",
          "data": {
            "text/plain": [
              "3"
            ]
          },
          "metadata": {},
          "execution_count": 23
        }
      ]
    },
    {
      "cell_type": "code",
      "source": [
        "total_predicoes = len(dados_teste)\n",
        "total_predicoes"
      ],
      "metadata": {
        "colab": {
          "base_uri": "https://localhost:8080/"
        },
        "id": "eZwLrYG6a49d",
        "outputId": "ba4250b7-d2c8-4713-8d04-8416c1099291"
      },
      "execution_count": 24,
      "outputs": [
        {
          "output_type": "execute_result",
          "data": {
            "text/plain": [
              "4"
            ]
          },
          "metadata": {},
          "execution_count": 24
        }
      ]
    },
    {
      "cell_type": "code",
      "source": [
        "#qual foi a taxa de sucesso?\n",
        "taxa_sucesso = total_acertos / total_predicoes * 100\n",
        "taxa_sucesso"
      ],
      "metadata": {
        "colab": {
          "base_uri": "https://localhost:8080/"
        },
        "id": "EdWIOLXydCnX",
        "outputId": "d4f5a9e4-cdcd-486f-8f35-1f846f528fe6"
      },
      "execution_count": 25,
      "outputs": [
        {
          "output_type": "execute_result",
          "data": {
            "text/plain": [
              "75.0"
            ]
          },
          "metadata": {},
          "execution_count": 25
        }
      ]
    },
    {
      "cell_type": "code",
      "source": [
        "print('a taxa de sucesso do seu odelo preditivo doi de', taxa_sucesso, '%. ')"
      ],
      "metadata": {
        "colab": {
          "base_uri": "https://localhost:8080/"
        },
        "id": "-N2E1VAFdteL",
        "outputId": "22fc1f49-e459-4a7e-8aa8-733315a1b360"
      },
      "execution_count": 28,
      "outputs": [
        {
          "output_type": "stream",
          "name": "stdout",
          "text": [
            "a taxa de sucesso do seu odelo preditivo doi de 75.0 %. \n"
          ]
        }
      ]
    },
    {
      "cell_type": "code",
      "source": [
        "#para stuxcaoes mais compelxas usaremos o accuracy score\n",
        "from sklearn.metrics import accuracy_score\n",
        "taxa_sucesso = accuracy_score(total_acertos/total_predicoes)"
      ],
      "metadata": {
        "id": "BuZQTCMIeZqT"
      },
      "execution_count": 31,
      "outputs": []
    },
    {
      "cell_type": "code",
      "source": [],
      "metadata": {
        "id": "bCHSlli7ezsK"
      },
      "execution_count": null,
      "outputs": []
    }
  ]
}