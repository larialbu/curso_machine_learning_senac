{
  "nbformat": 4,
  "nbformat_minor": 0,
  "metadata": {
    "colab": {
      "provenance": [],
      "authorship_tag": "ABX9TyPxo4WMCbVytGwG156MOmNv",
      "include_colab_link": true
    },
    "kernelspec": {
      "name": "python3",
      "display_name": "Python 3"
    },
    "language_info": {
      "name": "python"
    }
  },
  "cells": [
    {
      "cell_type": "markdown",
      "metadata": {
        "id": "view-in-github",
        "colab_type": "text"
      },
      "source": [
        "<a href=\"https://colab.research.google.com/github/larialbu/curso_machine_learning_senac/blob/main/aula_13.ipynb\" target=\"_parent\"><img src=\"https://colab.research.google.com/assets/colab-badge.svg\" alt=\"Open In Colab\"/></a>"
      ]
    },
    {
      "cell_type": "markdown",
      "source": [
        "#Como construir rede neural em keras"
      ],
      "metadata": {
        "id": "97scO8S3JE-f"
      }
    },
    {
      "cell_type": "code",
      "execution_count": 1,
      "metadata": {
        "id": "DinMdRJGIF86"
      },
      "outputs": [],
      "source": [
        "import tensorflow as tf\n",
        "import tensorflow.keras as keras"
      ]
    },
    {
      "cell_type": "code",
      "source": [
        "import seaborn as sns\n",
        "import pandas as pd\n",
        "from sklearn.model_selection import train_test_split\n",
        "titanic = sns.load_dataset('titanic')\n",
        "\n",
        "feature_names = ['pclass','female','age','fare']\n",
        "titanic['female'] = titanic['sex'].map({'male':0,'female':1})\n",
        "titanic.dropna(subset=feature_names, inplace=True) #891 para  714\n",
        "\n",
        "X = titanic[feature_names].to_numpy()\n",
        "y = titanic['survived'].to_numpy()\n",
        "\n",
        "X_train,X_test,y_train,y_test = train_test_split(X, y,test_size=0.25,random_state=123)"
      ],
      "metadata": {
        "id": "dSFq9zs0JmPK"
      },
      "execution_count": 13,
      "outputs": []
    },
    {
      "cell_type": "code",
      "source": [
        "print('tamanho do x train:', X_train.shape)\n",
        "print('tamanho do x test:', X_test.shape)\n",
        "print('tamanho do y train:', y_train.shape)\n",
        "print('tamanho do y test:', y_test.shape)"
      ],
      "metadata": {
        "colab": {
          "base_uri": "https://localhost:8080/"
        },
        "id": "iuVJn442LDmv",
        "outputId": "0dd42329-cd8e-4f2a-d049-f863c820ef9c"
      },
      "execution_count": 14,
      "outputs": [
        {
          "output_type": "stream",
          "name": "stdout",
          "text": [
            "tamanho do x train: (535, 4)\n",
            "tamanho do x test: (179, 4)\n",
            "tamanho do y train: (535,)\n",
            "tamanho do y test: (179,)\n"
          ]
        }
      ]
    },
    {
      "cell_type": "code",
      "source": [
        "model = keras.models.Sequential() #cria uma rede neural sequencial\n",
        "model.add(keras.layers.Dense(4,\\\n",
        "                             activation='relu', input_shape=X_train[0].shape))\n",
        "model.add(keras.layers.Dropout(0.2))\n",
        "model.add(keras.layers.Dense(1, activation='sigmoid'))\n",
        "\n",
        "model.summary()"
      ],
      "metadata": {
        "colab": {
          "base_uri": "https://localhost:8080/"
        },
        "id": "vAm5m2bXNM_U",
        "outputId": "ae7ca529-60b2-4a9d-fdfe-488aa6eb5ee5"
      },
      "execution_count": 15,
      "outputs": [
        {
          "output_type": "stream",
          "name": "stdout",
          "text": [
            "Model: \"sequential\"\n",
            "_________________________________________________________________\n",
            " Layer (type)                Output Shape              Param #   \n",
            "=================================================================\n",
            " dense (Dense)               (None, 4)                 20        \n",
            "                                                                 \n",
            " dropout (Dropout)           (None, 4)                 0         \n",
            "                                                                 \n",
            " dense_1 (Dense)             (None, 1)                 5         \n",
            "                                                                 \n",
            "=================================================================\n",
            "Total params: 25\n",
            "Trainable params: 25\n",
            "Non-trainable params: 0\n",
            "_________________________________________________________________\n"
          ]
        }
      ]
    },
    {
      "cell_type": "code",
      "source": [
        "model.compile(loss=keras.losses.binary_crossentropy,\n",
        "              optimizer=keras.optimizers.Adam(),\n",
        "              metrics=['accuracy'])"
      ],
      "metadata": {
        "id": "K0xiEQQUQ6lG"
      },
      "execution_count": 18,
      "outputs": []
    },
    {
      "cell_type": "code",
      "source": [
        "from IPython.core import history\n",
        "batch_size =32\n",
        "epochs=100\n",
        "\n",
        "history = model.fit(X_train, y_train,\n",
        "                    batch_size=batch_size,\n",
        "                    epochs=epochs, verbose=1,\n",
        "                    validation_data=(X_test, y_test))"
      ],
      "metadata": {
        "colab": {
          "base_uri": "https://localhost:8080/"
        },
        "id": "zUVO3bgrROia",
        "outputId": "f95982c5-4c70-4d8a-9920-5e8d8f2a75ee"
      },
      "execution_count": 21,
      "outputs": [
        {
          "output_type": "stream",
          "name": "stdout",
          "text": [
            "Epoch 1/100\n",
            "17/17 [==============================] - 1s 17ms/step - loss: 7.9256 - accuracy: 0.4636 - val_loss: 4.4335 - val_accuracy: 0.4022\n",
            "Epoch 2/100\n",
            "17/17 [==============================] - 0s 4ms/step - loss: 7.5163 - accuracy: 0.4430 - val_loss: 3.2270 - val_accuracy: 0.4022\n",
            "Epoch 3/100\n",
            "17/17 [==============================] - 0s 5ms/step - loss: 5.8560 - accuracy: 0.5009 - val_loss: 2.1758 - val_accuracy: 0.4469\n",
            "Epoch 4/100\n",
            "17/17 [==============================] - 0s 5ms/step - loss: 5.2380 - accuracy: 0.5103 - val_loss: 1.3676 - val_accuracy: 0.4972\n",
            "Epoch 5/100\n",
            "17/17 [==============================] - 0s 5ms/step - loss: 6.9956 - accuracy: 0.5271 - val_loss: 0.9834 - val_accuracy: 0.5922\n",
            "Epoch 6/100\n",
            "17/17 [==============================] - 0s 4ms/step - loss: 4.8020 - accuracy: 0.5757 - val_loss: 0.8544 - val_accuracy: 0.6145\n",
            "Epoch 7/100\n",
            "17/17 [==============================] - 0s 6ms/step - loss: 5.4770 - accuracy: 0.5850 - val_loss: 0.7748 - val_accuracy: 0.6201\n",
            "Epoch 8/100\n",
            "17/17 [==============================] - 0s 5ms/step - loss: 4.8910 - accuracy: 0.5907 - val_loss: 0.7321 - val_accuracy: 0.6313\n",
            "Epoch 9/100\n",
            "17/17 [==============================] - 0s 5ms/step - loss: 5.6502 - accuracy: 0.5421 - val_loss: 0.7117 - val_accuracy: 0.6425\n",
            "Epoch 10/100\n",
            "17/17 [==============================] - 0s 4ms/step - loss: 5.4073 - accuracy: 0.5720 - val_loss: 0.7020 - val_accuracy: 0.6480\n",
            "Epoch 11/100\n",
            "17/17 [==============================] - 0s 4ms/step - loss: 4.7568 - accuracy: 0.5963 - val_loss: 0.6952 - val_accuracy: 0.6592\n",
            "Epoch 12/100\n",
            "17/17 [==============================] - 0s 4ms/step - loss: 5.2289 - accuracy: 0.6000 - val_loss: 0.6909 - val_accuracy: 0.6704\n",
            "Epoch 13/100\n",
            "17/17 [==============================] - 0s 4ms/step - loss: 4.1405 - accuracy: 0.6206 - val_loss: 0.6892 - val_accuracy: 0.6704\n",
            "Epoch 14/100\n",
            "17/17 [==============================] - 0s 7ms/step - loss: 4.3996 - accuracy: 0.6075 - val_loss: 0.6860 - val_accuracy: 0.6704\n",
            "Epoch 15/100\n",
            "17/17 [==============================] - 0s 4ms/step - loss: 4.2357 - accuracy: 0.6093 - val_loss: 0.6833 - val_accuracy: 0.6816\n",
            "Epoch 16/100\n",
            "17/17 [==============================] - 0s 3ms/step - loss: 4.5154 - accuracy: 0.5944 - val_loss: 0.6782 - val_accuracy: 0.6760\n",
            "Epoch 17/100\n",
            "17/17 [==============================] - 0s 5ms/step - loss: 3.1088 - accuracy: 0.6449 - val_loss: 0.6759 - val_accuracy: 0.6760\n",
            "Epoch 18/100\n",
            "17/17 [==============================] - 0s 3ms/step - loss: 3.7443 - accuracy: 0.5981 - val_loss: 0.6683 - val_accuracy: 0.6704\n",
            "Epoch 19/100\n",
            "17/17 [==============================] - 0s 5ms/step - loss: 3.7103 - accuracy: 0.6262 - val_loss: 0.6688 - val_accuracy: 0.6760\n",
            "Epoch 20/100\n",
            "17/17 [==============================] - 0s 4ms/step - loss: 4.8461 - accuracy: 0.6000 - val_loss: 0.6685 - val_accuracy: 0.6760\n",
            "Epoch 21/100\n",
            "17/17 [==============================] - 0s 4ms/step - loss: 3.8239 - accuracy: 0.6299 - val_loss: 0.6663 - val_accuracy: 0.6872\n",
            "Epoch 22/100\n",
            "17/17 [==============================] - 0s 3ms/step - loss: 4.0219 - accuracy: 0.5907 - val_loss: 0.6653 - val_accuracy: 0.7095\n",
            "Epoch 23/100\n",
            "17/17 [==============================] - 0s 4ms/step - loss: 3.5250 - accuracy: 0.6299 - val_loss: 0.6706 - val_accuracy: 0.7039\n",
            "Epoch 24/100\n",
            "17/17 [==============================] - 0s 4ms/step - loss: 3.5314 - accuracy: 0.6056 - val_loss: 0.6698 - val_accuracy: 0.6983\n",
            "Epoch 25/100\n",
            "17/17 [==============================] - 0s 4ms/step - loss: 3.3237 - accuracy: 0.6243 - val_loss: 0.6703 - val_accuracy: 0.7039\n",
            "Epoch 26/100\n",
            "17/17 [==============================] - 0s 4ms/step - loss: 3.7314 - accuracy: 0.5869 - val_loss: 0.6661 - val_accuracy: 0.7151\n",
            "Epoch 27/100\n",
            "17/17 [==============================] - 0s 5ms/step - loss: 3.3859 - accuracy: 0.6037 - val_loss: 0.6779 - val_accuracy: 0.7039\n",
            "Epoch 28/100\n",
            "17/17 [==============================] - 0s 4ms/step - loss: 2.2597 - accuracy: 0.6523 - val_loss: 0.6598 - val_accuracy: 0.7151\n",
            "Epoch 29/100\n",
            "17/17 [==============================] - 0s 4ms/step - loss: 2.9599 - accuracy: 0.6037 - val_loss: 0.6600 - val_accuracy: 0.7039\n",
            "Epoch 30/100\n",
            "17/17 [==============================] - 0s 4ms/step - loss: 2.7327 - accuracy: 0.6075 - val_loss: 0.6473 - val_accuracy: 0.6927\n",
            "Epoch 31/100\n",
            "17/17 [==============================] - 0s 4ms/step - loss: 3.7311 - accuracy: 0.6037 - val_loss: 0.6540 - val_accuracy: 0.7095\n",
            "Epoch 32/100\n",
            "17/17 [==============================] - 0s 5ms/step - loss: 3.1195 - accuracy: 0.6131 - val_loss: 0.6496 - val_accuracy: 0.7095\n",
            "Epoch 33/100\n",
            "17/17 [==============================] - 0s 4ms/step - loss: 2.5973 - accuracy: 0.6318 - val_loss: 0.6439 - val_accuracy: 0.7039\n",
            "Epoch 34/100\n",
            "17/17 [==============================] - 0s 4ms/step - loss: 3.3886 - accuracy: 0.6411 - val_loss: 0.6452 - val_accuracy: 0.7095\n",
            "Epoch 35/100\n",
            "17/17 [==============================] - 0s 4ms/step - loss: 3.6859 - accuracy: 0.6206 - val_loss: 0.6429 - val_accuracy: 0.7151\n",
            "Epoch 36/100\n",
            "17/17 [==============================] - 0s 4ms/step - loss: 2.8225 - accuracy: 0.6542 - val_loss: 0.6479 - val_accuracy: 0.7151\n",
            "Epoch 37/100\n",
            "17/17 [==============================] - 0s 4ms/step - loss: 2.3294 - accuracy: 0.6224 - val_loss: 0.6423 - val_accuracy: 0.7151\n",
            "Epoch 38/100\n",
            "17/17 [==============================] - 0s 4ms/step - loss: 2.7141 - accuracy: 0.6093 - val_loss: 0.6315 - val_accuracy: 0.6704\n",
            "Epoch 39/100\n",
            "17/17 [==============================] - 0s 3ms/step - loss: 2.8444 - accuracy: 0.5944 - val_loss: 0.6335 - val_accuracy: 0.6983\n",
            "Epoch 40/100\n",
            "17/17 [==============================] - 0s 4ms/step - loss: 2.6186 - accuracy: 0.6187 - val_loss: 0.6326 - val_accuracy: 0.6927\n",
            "Epoch 41/100\n",
            "17/17 [==============================] - 0s 4ms/step - loss: 1.9742 - accuracy: 0.6318 - val_loss: 0.6231 - val_accuracy: 0.6760\n",
            "Epoch 42/100\n",
            "17/17 [==============================] - 0s 4ms/step - loss: 1.8779 - accuracy: 0.6523 - val_loss: 0.6199 - val_accuracy: 0.6760\n",
            "Epoch 43/100\n",
            "17/17 [==============================] - 0s 4ms/step - loss: 1.9505 - accuracy: 0.6318 - val_loss: 0.6226 - val_accuracy: 0.6872\n",
            "Epoch 44/100\n",
            "17/17 [==============================] - 0s 4ms/step - loss: 2.5805 - accuracy: 0.6075 - val_loss: 0.6238 - val_accuracy: 0.6872\n",
            "Epoch 45/100\n",
            "17/17 [==============================] - 0s 4ms/step - loss: 2.1465 - accuracy: 0.6486 - val_loss: 0.6252 - val_accuracy: 0.7095\n",
            "Epoch 46/100\n",
            "17/17 [==============================] - 0s 4ms/step - loss: 2.0010 - accuracy: 0.6000 - val_loss: 0.6102 - val_accuracy: 0.6816\n",
            "Epoch 47/100\n",
            "17/17 [==============================] - 0s 4ms/step - loss: 2.2833 - accuracy: 0.6449 - val_loss: 0.6149 - val_accuracy: 0.6872\n",
            "Epoch 48/100\n",
            "17/17 [==============================] - 0s 3ms/step - loss: 2.2904 - accuracy: 0.6224 - val_loss: 0.6123 - val_accuracy: 0.6816\n",
            "Epoch 49/100\n",
            "17/17 [==============================] - 0s 4ms/step - loss: 1.9263 - accuracy: 0.5981 - val_loss: 0.6122 - val_accuracy: 0.6816\n",
            "Epoch 50/100\n",
            "17/17 [==============================] - 0s 4ms/step - loss: 1.6524 - accuracy: 0.6355 - val_loss: 0.6082 - val_accuracy: 0.6872\n",
            "Epoch 51/100\n",
            "17/17 [==============================] - 0s 4ms/step - loss: 1.8529 - accuracy: 0.6150 - val_loss: 0.6125 - val_accuracy: 0.6927\n",
            "Epoch 52/100\n",
            "17/17 [==============================] - 0s 3ms/step - loss: 2.0556 - accuracy: 0.5925 - val_loss: 0.6074 - val_accuracy: 0.6872\n",
            "Epoch 53/100\n",
            "17/17 [==============================] - 0s 4ms/step - loss: 1.7057 - accuracy: 0.6542 - val_loss: 0.6143 - val_accuracy: 0.6983\n",
            "Epoch 54/100\n",
            "17/17 [==============================] - 0s 4ms/step - loss: 1.6338 - accuracy: 0.6393 - val_loss: 0.6108 - val_accuracy: 0.6927\n",
            "Epoch 55/100\n",
            "17/17 [==============================] - 0s 5ms/step - loss: 1.6858 - accuracy: 0.6037 - val_loss: 0.6034 - val_accuracy: 0.6872\n",
            "Epoch 56/100\n",
            "17/17 [==============================] - 0s 4ms/step - loss: 1.6194 - accuracy: 0.6112 - val_loss: 0.6030 - val_accuracy: 0.6927\n",
            "Epoch 57/100\n",
            "17/17 [==============================] - 0s 4ms/step - loss: 1.5459 - accuracy: 0.6262 - val_loss: 0.6014 - val_accuracy: 0.6760\n",
            "Epoch 58/100\n",
            "17/17 [==============================] - 0s 5ms/step - loss: 1.5498 - accuracy: 0.6206 - val_loss: 0.6080 - val_accuracy: 0.6927\n",
            "Epoch 59/100\n",
            "17/17 [==============================] - 0s 4ms/step - loss: 1.4521 - accuracy: 0.6336 - val_loss: 0.5997 - val_accuracy: 0.6927\n",
            "Epoch 60/100\n",
            "17/17 [==============================] - 0s 5ms/step - loss: 1.8009 - accuracy: 0.5907 - val_loss: 0.5984 - val_accuracy: 0.6983\n",
            "Epoch 61/100\n",
            "17/17 [==============================] - 0s 4ms/step - loss: 1.6584 - accuracy: 0.6374 - val_loss: 0.5984 - val_accuracy: 0.6927\n",
            "Epoch 62/100\n",
            "17/17 [==============================] - 0s 4ms/step - loss: 1.4124 - accuracy: 0.6037 - val_loss: 0.5976 - val_accuracy: 0.6927\n",
            "Epoch 63/100\n",
            "17/17 [==============================] - 0s 3ms/step - loss: 1.2022 - accuracy: 0.6299 - val_loss: 0.5934 - val_accuracy: 0.6983\n",
            "Epoch 64/100\n",
            "17/17 [==============================] - 0s 4ms/step - loss: 1.2602 - accuracy: 0.6336 - val_loss: 0.5911 - val_accuracy: 0.6872\n",
            "Epoch 65/100\n",
            "17/17 [==============================] - 0s 4ms/step - loss: 1.4008 - accuracy: 0.6187 - val_loss: 0.5926 - val_accuracy: 0.6927\n",
            "Epoch 66/100\n",
            "17/17 [==============================] - 0s 4ms/step - loss: 1.0997 - accuracy: 0.6168 - val_loss: 0.5931 - val_accuracy: 0.6872\n",
            "Epoch 67/100\n",
            "17/17 [==============================] - 0s 5ms/step - loss: 1.2698 - accuracy: 0.6374 - val_loss: 0.5902 - val_accuracy: 0.6872\n",
            "Epoch 68/100\n",
            "17/17 [==============================] - 0s 6ms/step - loss: 1.2787 - accuracy: 0.6336 - val_loss: 0.5900 - val_accuracy: 0.6872\n",
            "Epoch 69/100\n",
            "17/17 [==============================] - 0s 4ms/step - loss: 1.0200 - accuracy: 0.6336 - val_loss: 0.5892 - val_accuracy: 0.6872\n",
            "Epoch 70/100\n",
            "17/17 [==============================] - 0s 4ms/step - loss: 1.2161 - accuracy: 0.6486 - val_loss: 0.5904 - val_accuracy: 0.6927\n",
            "Epoch 71/100\n",
            "17/17 [==============================] - 0s 4ms/step - loss: 1.0436 - accuracy: 0.6224 - val_loss: 0.5915 - val_accuracy: 0.6872\n",
            "Epoch 72/100\n",
            "17/17 [==============================] - 0s 4ms/step - loss: 1.1475 - accuracy: 0.6131 - val_loss: 0.5889 - val_accuracy: 0.6872\n",
            "Epoch 73/100\n",
            "17/17 [==============================] - 0s 5ms/step - loss: 1.2158 - accuracy: 0.6336 - val_loss: 0.5886 - val_accuracy: 0.6816\n",
            "Epoch 74/100\n",
            "17/17 [==============================] - 0s 5ms/step - loss: 1.2644 - accuracy: 0.6393 - val_loss: 0.5904 - val_accuracy: 0.6816\n",
            "Epoch 75/100\n",
            "17/17 [==============================] - 0s 5ms/step - loss: 1.0554 - accuracy: 0.6280 - val_loss: 0.5874 - val_accuracy: 0.6816\n",
            "Epoch 76/100\n",
            "17/17 [==============================] - 0s 3ms/step - loss: 0.9799 - accuracy: 0.5813 - val_loss: 0.5842 - val_accuracy: 0.6704\n",
            "Epoch 77/100\n",
            "17/17 [==============================] - 0s 4ms/step - loss: 1.0661 - accuracy: 0.6019 - val_loss: 0.5826 - val_accuracy: 0.6648\n",
            "Epoch 78/100\n",
            "17/17 [==============================] - 0s 4ms/step - loss: 0.9484 - accuracy: 0.6187 - val_loss: 0.5823 - val_accuracy: 0.6648\n",
            "Epoch 79/100\n",
            "17/17 [==============================] - 0s 4ms/step - loss: 1.0525 - accuracy: 0.6187 - val_loss: 0.5840 - val_accuracy: 0.6592\n",
            "Epoch 80/100\n",
            "17/17 [==============================] - 0s 4ms/step - loss: 0.9018 - accuracy: 0.6430 - val_loss: 0.5825 - val_accuracy: 0.6704\n",
            "Epoch 81/100\n",
            "17/17 [==============================] - 0s 5ms/step - loss: 0.9721 - accuracy: 0.6318 - val_loss: 0.5826 - val_accuracy: 0.6704\n",
            "Epoch 82/100\n",
            "17/17 [==============================] - 0s 5ms/step - loss: 0.9474 - accuracy: 0.6187 - val_loss: 0.5839 - val_accuracy: 0.6592\n",
            "Epoch 83/100\n",
            "17/17 [==============================] - 0s 5ms/step - loss: 0.9391 - accuracy: 0.6336 - val_loss: 0.5843 - val_accuracy: 0.6592\n",
            "Epoch 84/100\n",
            "17/17 [==============================] - 0s 5ms/step - loss: 0.8976 - accuracy: 0.6131 - val_loss: 0.5857 - val_accuracy: 0.6704\n",
            "Epoch 85/100\n",
            "17/17 [==============================] - 0s 5ms/step - loss: 0.8607 - accuracy: 0.6168 - val_loss: 0.5835 - val_accuracy: 0.6704\n",
            "Epoch 86/100\n",
            "17/17 [==============================] - 0s 4ms/step - loss: 0.8118 - accuracy: 0.6187 - val_loss: 0.5832 - val_accuracy: 0.6704\n",
            "Epoch 87/100\n",
            "17/17 [==============================] - 0s 5ms/step - loss: 0.8652 - accuracy: 0.5963 - val_loss: 0.5827 - val_accuracy: 0.6816\n",
            "Epoch 88/100\n",
            "17/17 [==============================] - 0s 4ms/step - loss: 0.8144 - accuracy: 0.6318 - val_loss: 0.5840 - val_accuracy: 0.6648\n",
            "Epoch 89/100\n",
            "17/17 [==============================] - 0s 4ms/step - loss: 0.7328 - accuracy: 0.6393 - val_loss: 0.5832 - val_accuracy: 0.6704\n",
            "Epoch 90/100\n",
            "17/17 [==============================] - 0s 4ms/step - loss: 0.7398 - accuracy: 0.6430 - val_loss: 0.5833 - val_accuracy: 0.6704\n",
            "Epoch 91/100\n",
            "17/17 [==============================] - 0s 4ms/step - loss: 0.7894 - accuracy: 0.6262 - val_loss: 0.5841 - val_accuracy: 0.6760\n",
            "Epoch 92/100\n",
            "17/17 [==============================] - 0s 4ms/step - loss: 0.7494 - accuracy: 0.6449 - val_loss: 0.5837 - val_accuracy: 0.6704\n",
            "Epoch 93/100\n",
            "17/17 [==============================] - 0s 4ms/step - loss: 0.7002 - accuracy: 0.6654 - val_loss: 0.5841 - val_accuracy: 0.6704\n",
            "Epoch 94/100\n",
            "17/17 [==============================] - 0s 5ms/step - loss: 0.7143 - accuracy: 0.6318 - val_loss: 0.5831 - val_accuracy: 0.6816\n",
            "Epoch 95/100\n",
            "17/17 [==============================] - 0s 4ms/step - loss: 0.7356 - accuracy: 0.6206 - val_loss: 0.5839 - val_accuracy: 0.6704\n",
            "Epoch 96/100\n",
            "17/17 [==============================] - 0s 4ms/step - loss: 0.7119 - accuracy: 0.6299 - val_loss: 0.5844 - val_accuracy: 0.6704\n",
            "Epoch 97/100\n",
            "17/17 [==============================] - 0s 4ms/step - loss: 0.7442 - accuracy: 0.5832 - val_loss: 0.5843 - val_accuracy: 0.6704\n",
            "Epoch 98/100\n",
            "17/17 [==============================] - 0s 4ms/step - loss: 0.7016 - accuracy: 0.6542 - val_loss: 0.5848 - val_accuracy: 0.6704\n",
            "Epoch 99/100\n",
            "17/17 [==============================] - 0s 4ms/step - loss: 0.6862 - accuracy: 0.6430 - val_loss: 0.5848 - val_accuracy: 0.6760\n",
            "Epoch 100/100\n",
            "17/17 [==============================] - 0s 4ms/step - loss: 0.7361 - accuracy: 0.6168 - val_loss: 0.5846 - val_accuracy: 0.6816\n"
          ]
        }
      ]
    },
    {
      "cell_type": "code",
      "source": [
        "import matplotlib\n",
        "import matplotlib.pyplot as plt\n",
        "\n",
        "matplotlib.rcParams['figure.dpi'] = 100\n",
        "\n",
        "#plot acuracia de treino evalidacao\n",
        "plt.plot(history.history['accuracy'])\n",
        "plt.plot(history.history['val_accuracy'])\n",
        "plt.title('exartidao do modelo')\n",
        "plt.ylabel('exatidao')\n",
        "plt.xlabel('epoca')\n",
        "plt.legend(['Treino','Teste'], loc='upper left')\n",
        "plt.show()\n",
        "\n",
        "#plot custo de treino e validacao\n",
        "plt.plot(history.history['loss'])\n",
        "plt.plot(history.history['val_loss'])\n",
        "plt.title('custo do modelo')\n",
        "plt.ylabel('custo')\n",
        "plt.xlabel('epoca')\n",
        "plt.legend(['Treino','Teste'], loc='upper left')\n",
        "plt.show()"
      ],
      "metadata": {
        "colab": {
          "base_uri": "https://localhost:8080/",
          "height": 791
        },
        "id": "wmRyXTRqRvA-",
        "outputId": "af33d3c3-4dd6-4531-96de-bc7d844f5a85"
      },
      "execution_count": 25,
      "outputs": [
        {
          "output_type": "display_data",
          "data": {
            "text/plain": [
              "<Figure size 600x400 with 1 Axes>"
            ],
            "image/png": "[encoded data removed]"
          },
          "metadata": {
            "needs_background": "light"
          }
        },
        {
          "output_type": "display_data",
          "data": {
            "text/plain": [
              "<Figure size 600x400 with 1 Axes>"
            ],
            "image/png": "[encoded data removed]"
          },
          "metadata": {
            "needs_background": "light"
          }
        }
      ]
    },
    {
      "cell_type": "markdown",
      "source": [
        "#previsoes do modelo"
      ],
      "metadata": {
        "id": "LpIdAC-hW-1T"
      }
    },
    {
      "cell_type": "code",
      "source": [
        "model.evaluate(X_test,y_test)"
      ],
      "metadata": {
        "colab": {
          "base_uri": "https://localhost:8080/"
        },
        "id": "Eoqj4Yj8a5x5",
        "outputId": "72bdf0a0-9b6c-4c02-ce15-eb3a2c3b23a3"
      },
      "execution_count": 27,
      "outputs": [
        {
          "output_type": "stream",
          "name": "stdout",
          "text": [
            "6/6 [==============================] - 0s 3ms/step - loss: 0.5846 - accuracy: 0.6816\n"
          ]
        },
        {
          "output_type": "execute_result",
          "data": {
            "text/plain": [
              "[0.5845704078674316, 0.6815642714500427]"
            ]
          },
          "metadata": {},
          "execution_count": 27
        }
      ]
    },
    {
      "cell_type": "code",
      "source": [
        "(model.predict(X_test>0.5).astype('int32'))"
      ],
      "metadata": {
        "colab": {
          "base_uri": "https://localhost:8080/"
        },
        "id": "dgMIZ1X2WDlj",
        "outputId": "6a3f30e1-7291-4e6d-d1e9-d3e333a2b49f"
      },
      "execution_count": 26,
      "outputs": [
        {
          "output_type": "stream",
          "name": "stdout",
          "text": [
            "6/6 [==============================] - 0s 3ms/step\n"
          ]
        },
        {
          "output_type": "execute_result",
          "data": {
            "text/plain": [
              "array([[0],\n",
              "       [0],\n",
              "       [0],\n",
              "       [0],\n",
              "       [0],\n",
              "       [0],\n",
              "       [0],\n",
              "       [0],\n",
              "       [0],\n",
              "       [0],\n",
              "       [0],\n",
              "       [0],\n",
              "       [0],\n",
              "       [0],\n",
              "       [0],\n",
              "       [0],\n",
              "       [0],\n",
              "       [0],\n",
              "       [0],\n",
              "       [0],\n",
              "       [0],\n",
              "       [0],\n",
              "       [0],\n",
              "       [0],\n",
              "       [0],\n",
              "       [0],\n",
              "       [0],\n",
              "       [0],\n",
              "       [0],\n",
              "       [0],\n",
              "       [0],\n",
              "       [0],\n",
              "       [0],\n",
              "       [0],\n",
              "       [0],\n",
              "       [0],\n",
              "       [0],\n",
              "       [0],\n",
              "       [0],\n",
              "       [0],\n",
              "       [0],\n",
              "       [0],\n",
              "       [0],\n",
              "       [0],\n",
              "       [0],\n",
              "       [0],\n",
              "       [0],\n",
              "       [0],\n",
              "       [0],\n",
              "       [0],\n",
              "       [0],\n",
              "       [0],\n",
              "       [0],\n",
              "       [0],\n",
              "       [0],\n",
              "       [0],\n",
              "       [0],\n",
              "       [0],\n",
              "       [0],\n",
              "       [0],\n",
              "       [0],\n",
              "       [0],\n",
              "       [0],\n",
              "       [0],\n",
              "       [0],\n",
              "       [0],\n",
              "       [0],\n",
              "       [0],\n",
              "       [0],\n",
              "       [0],\n",
              "       [0],\n",
              "       [0],\n",
              "       [0],\n",
              "       [0],\n",
              "       [0],\n",
              "       [0],\n",
              "       [0],\n",
              "       [0],\n",
              "       [0],\n",
              "       [0],\n",
              "       [0],\n",
              "       [0],\n",
              "       [0],\n",
              "       [0],\n",
              "       [0],\n",
              "       [0],\n",
              "       [0],\n",
              "       [0],\n",
              "       [0],\n",
              "       [0],\n",
              "       [0],\n",
              "       [0],\n",
              "       [0],\n",
              "       [0],\n",
              "       [0],\n",
              "       [0],\n",
              "       [0],\n",
              "       [0],\n",
              "       [0],\n",
              "       [0],\n",
              "       [0],\n",
              "       [0],\n",
              "       [0],\n",
              "       [0],\n",
              "       [0],\n",
              "       [0],\n",
              "       [0],\n",
              "       [0],\n",
              "       [0],\n",
              "       [0],\n",
              "       [0],\n",
              "       [0],\n",
              "       [0],\n",
              "       [0],\n",
              "       [0],\n",
              "       [0],\n",
              "       [0],\n",
              "       [0],\n",
              "       [0],\n",
              "       [0],\n",
              "       [0],\n",
              "       [0],\n",
              "       [0],\n",
              "       [0],\n",
              "       [0],\n",
              "       [0],\n",
              "       [0],\n",
              "       [0],\n",
              "       [0],\n",
              "       [0],\n",
              "       [0],\n",
              "       [0],\n",
              "       [0],\n",
              "       [0],\n",
              "       [0],\n",
              "       [0],\n",
              "       [0],\n",
              "       [0],\n",
              "       [0],\n",
              "       [0],\n",
              "       [0],\n",
              "       [0],\n",
              "       [0],\n",
              "       [0],\n",
              "       [0],\n",
              "       [0],\n",
              "       [0],\n",
              "       [0],\n",
              "       [0],\n",
              "       [0],\n",
              "       [0],\n",
              "       [0],\n",
              "       [0],\n",
              "       [0],\n",
              "       [0],\n",
              "       [0],\n",
              "       [0],\n",
              "       [0],\n",
              "       [0],\n",
              "       [0],\n",
              "       [0],\n",
              "       [0],\n",
              "       [0],\n",
              "       [0],\n",
              "       [0],\n",
              "       [0],\n",
              "       [0],\n",
              "       [0],\n",
              "       [0],\n",
              "       [0],\n",
              "       [0],\n",
              "       [0],\n",
              "       [0],\n",
              "       [0],\n",
              "       [0],\n",
              "       [0],\n",
              "       [0],\n",
              "       [0],\n",
              "       [0]], dtype=int32)"
            ]
          },
          "metadata": {},
          "execution_count": 26
        }
      ]
    },
    {
      "cell_type": "code",
      "source": [],
      "metadata": {
        "id": "3yo-i_IaXHdX"
      },
      "execution_count": null,
      "outputs": []
    }
  ]
}